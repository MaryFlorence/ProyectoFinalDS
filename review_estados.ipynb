{
 "cells": [
  {
   "cell_type": "markdown",
   "metadata": {},
   "source": [
    "<div align=\"center\">\n",
    "\n",
    "# **ETL review TEXAS**\n",
    "\n",
    "</div>\n",
    "\n"
   ]
  },
  {
   "cell_type": "code",
   "execution_count": 1,
   "metadata": {},
   "outputs": [],
   "source": [
    "import pandas as pd"
   ]
  },
  {
   "cell_type": "code",
   "execution_count": 3,
   "metadata": {},
   "outputs": [
    {
     "name": "stderr",
     "output_type": "stream",
     "text": [
      "c:\\Python311\\Lib\\site-packages\\pandas\\core\\dtypes\\astype.py:189: RuntimeWarning: invalid value encountered in cast\n",
      "  return values.astype(dtype, copy=copy)\n"
     ]
    }
   ],
   "source": [
    "review_texas = pd.read_json('E:\\\\documentos\\\\soyhenry\\\\DATA SCIENCE\\\\MODULOS\\\\PROYECTO FINAL\\\\datasets\\\\google\\\\review\\\\review-California\\\\1.json', lines= True)\n"
   ]
  },
  {
   "cell_type": "code",
   "execution_count": 6,
   "metadata": {},
   "outputs": [],
   "source": [
    "texas1 = review_texas"
   ]
  },
  {
   "cell_type": "code",
   "execution_count": 9,
   "metadata": {},
   "outputs": [
    {
     "name": "stderr",
     "output_type": "stream",
     "text": [
      "c:\\Python311\\Lib\\site-packages\\pandas\\core\\dtypes\\astype.py:189: RuntimeWarning: invalid value encountered in cast\n",
      "  return values.astype(dtype, copy=copy)\n",
      "c:\\Python311\\Lib\\site-packages\\pandas\\core\\dtypes\\astype.py:189: RuntimeWarning: invalid value encountered in cast\n",
      "  return values.astype(dtype, copy=copy)\n",
      "c:\\Python311\\Lib\\site-packages\\pandas\\core\\dtypes\\astype.py:189: RuntimeWarning: invalid value encountered in cast\n",
      "  return values.astype(dtype, copy=copy)\n",
      "c:\\Python311\\Lib\\site-packages\\pandas\\core\\dtypes\\astype.py:189: RuntimeWarning: invalid value encountered in cast\n",
      "  return values.astype(dtype, copy=copy)\n",
      "c:\\Python311\\Lib\\site-packages\\pandas\\core\\dtypes\\astype.py:189: RuntimeWarning: invalid value encountered in cast\n",
      "  return values.astype(dtype, copy=copy)\n",
      "c:\\Python311\\Lib\\site-packages\\pandas\\core\\dtypes\\astype.py:189: RuntimeWarning: invalid value encountered in cast\n",
      "  return values.astype(dtype, copy=copy)\n",
      "c:\\Python311\\Lib\\site-packages\\pandas\\core\\dtypes\\astype.py:189: RuntimeWarning: invalid value encountered in cast\n",
      "  return values.astype(dtype, copy=copy)\n",
      "c:\\Python311\\Lib\\site-packages\\pandas\\core\\dtypes\\astype.py:189: RuntimeWarning: invalid value encountered in cast\n",
      "  return values.astype(dtype, copy=copy)\n",
      "c:\\Python311\\Lib\\site-packages\\pandas\\core\\dtypes\\astype.py:189: RuntimeWarning: invalid value encountered in cast\n",
      "  return values.astype(dtype, copy=copy)\n",
      "c:\\Python311\\Lib\\site-packages\\pandas\\core\\dtypes\\astype.py:189: RuntimeWarning: invalid value encountered in cast\n",
      "  return values.astype(dtype, copy=copy)\n",
      "c:\\Python311\\Lib\\site-packages\\pandas\\core\\dtypes\\astype.py:189: RuntimeWarning: invalid value encountered in cast\n",
      "  return values.astype(dtype, copy=copy)\n",
      "c:\\Python311\\Lib\\site-packages\\pandas\\core\\dtypes\\astype.py:189: RuntimeWarning: invalid value encountered in cast\n",
      "  return values.astype(dtype, copy=copy)\n",
      "c:\\Python311\\Lib\\site-packages\\pandas\\core\\dtypes\\astype.py:189: RuntimeWarning: invalid value encountered in cast\n",
      "  return values.astype(dtype, copy=copy)\n",
      "c:\\Python311\\Lib\\site-packages\\pandas\\core\\dtypes\\astype.py:189: RuntimeWarning: invalid value encountered in cast\n",
      "  return values.astype(dtype, copy=copy)\n",
      "c:\\Python311\\Lib\\site-packages\\pandas\\core\\dtypes\\astype.py:189: RuntimeWarning: invalid value encountered in cast\n",
      "  return values.astype(dtype, copy=copy)\n",
      "c:\\Python311\\Lib\\site-packages\\pandas\\core\\dtypes\\astype.py:189: RuntimeWarning: invalid value encountered in cast\n",
      "  return values.astype(dtype, copy=copy)\n",
      "c:\\Python311\\Lib\\site-packages\\pandas\\core\\dtypes\\astype.py:189: RuntimeWarning: invalid value encountered in cast\n",
      "  return values.astype(dtype, copy=copy)\n"
     ]
    }
   ],
   "source": [
    "review_texas2 = pd.read_json('E:\\\\documentos\\\\soyhenry\\\\DATA SCIENCE\\\\MODULOS\\\\PROYECTO FINAL\\\\datasets\\\\google\\\\review\\\\review-California\\\\2.json', lines= True)\n",
    "review_texas3 = pd.read_json('E:\\\\documentos\\\\soyhenry\\\\DATA SCIENCE\\\\MODULOS\\\\PROYECTO FINAL\\\\datasets\\\\google\\\\review\\\\review-California\\\\3.json', lines= True)\n",
    "review_texas4 = pd.read_json('E:\\\\documentos\\\\soyhenry\\\\DATA SCIENCE\\\\MODULOS\\\\PROYECTO FINAL\\\\datasets\\\\google\\\\review\\\\review-California\\\\4.json', lines= True)\n",
    "review_texas5 = pd.read_json('E:\\\\documentos\\\\soyhenry\\\\DATA SCIENCE\\\\MODULOS\\\\PROYECTO FINAL\\\\datasets\\\\google\\\\review\\\\review-California\\\\5.json', lines= True)\n",
    "review_texas6 = pd.read_json('E:\\\\documentos\\\\soyhenry\\\\DATA SCIENCE\\\\MODULOS\\\\PROYECTO FINAL\\\\datasets\\\\google\\\\review\\\\review-California\\\\6.json', lines= True)\n",
    "review_texas7 = pd.read_json('E:\\\\documentos\\\\soyhenry\\\\DATA SCIENCE\\\\MODULOS\\\\PROYECTO FINAL\\\\datasets\\\\google\\\\review\\\\review-California\\\\7.json', lines= True)\n",
    "review_texas8 = pd.read_json('E:\\\\documentos\\\\soyhenry\\\\DATA SCIENCE\\\\MODULOS\\\\PROYECTO FINAL\\\\datasets\\\\google\\\\review\\\\review-California\\\\8.json', lines= True)\n",
    "review_texas9 = pd.read_json('E:\\\\documentos\\\\soyhenry\\\\DATA SCIENCE\\\\MODULOS\\\\PROYECTO FINAL\\\\datasets\\\\google\\\\review\\\\review-California\\\\9.json', lines= True)\n",
    "review_texas10 = pd.read_json('E:\\\\documentos\\\\soyhenry\\\\DATA SCIENCE\\\\MODULOS\\\\PROYECTO FINAL\\\\datasets\\\\google\\\\review\\\\review-California\\\\10.json', lines= True)\n",
    "review_texas11 = pd.read_json('E:\\\\documentos\\\\soyhenry\\\\DATA SCIENCE\\\\MODULOS\\\\PROYECTO FINAL\\\\datasets\\\\google\\\\review\\\\review-California\\\\11.json', lines= True)\n",
    "review_texas12 = pd.read_json('E:\\\\documentos\\\\soyhenry\\\\DATA SCIENCE\\\\MODULOS\\\\PROYECTO FINAL\\\\datasets\\\\google\\\\review\\\\review-California\\\\12.json', lines= True)\n",
    "review_texas13 = pd.read_json('E:\\\\documentos\\\\soyhenry\\\\DATA SCIENCE\\\\MODULOS\\\\PROYECTO FINAL\\\\datasets\\\\google\\\\review\\\\review-California\\\\13.json', lines= True)\n",
    "review_texas14 = pd.read_json('E:\\\\documentos\\\\soyhenry\\\\DATA SCIENCE\\\\MODULOS\\\\PROYECTO FINAL\\\\datasets\\\\google\\\\review\\\\review-California\\\\14.json', lines= True)\n",
    "review_texas15 = pd.read_json('E:\\\\documentos\\\\soyhenry\\\\DATA SCIENCE\\\\MODULOS\\\\PROYECTO FINAL\\\\datasets\\\\google\\\\review\\\\review-California\\\\15.json', lines= True)\n",
    "review_texas16 = pd.read_json('E:\\\\documentos\\\\soyhenry\\\\DATA SCIENCE\\\\MODULOS\\\\PROYECTO FINAL\\\\datasets\\\\google\\\\review\\\\review-California\\\\16.json', lines= True)\n",
    "review_texas17 = pd.read_json('E:\\\\documentos\\\\soyhenry\\\\DATA SCIENCE\\\\MODULOS\\\\PROYECTO FINAL\\\\datasets\\\\google\\\\review\\\\review-California\\\\17.json', lines= True)\n",
    "review_texas18 = pd.read_json('E:\\\\documentos\\\\soyhenry\\\\DATA SCIENCE\\\\MODULOS\\\\PROYECTO FINAL\\\\datasets\\\\google\\\\review\\\\review-California\\\\18.json', lines= True)\n"
   ]
  },
  {
   "cell_type": "code",
   "execution_count": 12,
   "metadata": {},
   "outputs": [],
   "source": [
    "dataframes = [review_texas, review_texas2, review_texas3, review_texas4, review_texas5, review_texas6, review_texas7, review_texas8, review_texas9,\n",
    "              review_texas10, review_texas11, review_texas12, review_texas13, review_texas14, review_texas15, review_texas16, review_texas17, review_texas18]\n",
    "\n",
    "# Concatenar los dataframes uno debajo del otro\n",
    "texas_review = pd.concat(dataframes)"
   ]
  },
  {
   "cell_type": "code",
   "execution_count": 13,
   "metadata": {},
   "outputs": [],
   "source": [
    "texas_review.to_csv('texas_review.csv', index=False)"
   ]
  },
  {
   "cell_type": "code",
   "execution_count": 14,
   "metadata": {},
   "outputs": [],
   "source": [
    "texas_reseña = texas_review"
   ]
  },
  {
   "cell_type": "code",
   "execution_count": 19,
   "metadata": {},
   "outputs": [],
   "source": [
    "texas_reseña = texas_reseña.drop(columns=['pics'], axis=1)\n",
    "texas_reseña = texas_reseña.drop(columns=['resp'], axis= 1)"
   ]
  },
  {
   "cell_type": "code",
   "execution_count": 23,
   "metadata": {},
   "outputs": [],
   "source": []
  },
  {
   "cell_type": "code",
   "execution_count": 51,
   "metadata": {},
   "outputs": [],
   "source": [
    "# completar los nulos con la palabra 'sin reseña'\n",
    "texas_reseña['text'].fillna('sin reseña', inplace=True)\n",
    "# agregar la columna 'state' con el nombre del estado\n",
    "texas_reseña['state'] = 'Texas'"
   ]
  },
  {
   "cell_type": "code",
   "execution_count": 53,
   "metadata": {},
   "outputs": [
    {
     "data": {
      "text/html": [
       "<div>\n",
       "<style scoped>\n",
       "    .dataframe tbody tr th:only-of-type {\n",
       "        vertical-align: middle;\n",
       "    }\n",
       "\n",
       "    .dataframe tbody tr th {\n",
       "        vertical-align: top;\n",
       "    }\n",
       "\n",
       "    .dataframe thead th {\n",
       "        text-align: right;\n",
       "    }\n",
       "</style>\n",
       "<table border=\"1\" class=\"dataframe\">\n",
       "  <thead>\n",
       "    <tr style=\"text-align: right;\">\n",
       "      <th></th>\n",
       "      <th>user_id</th>\n",
       "      <th>name</th>\n",
       "      <th>time</th>\n",
       "      <th>rating</th>\n",
       "      <th>text</th>\n",
       "      <th>gmap_id</th>\n",
       "      <th>state</th>\n",
       "    </tr>\n",
       "  </thead>\n",
       "  <tbody>\n",
       "    <tr>\n",
       "      <th>0</th>\n",
       "      <td>1.089912e+20</td>\n",
       "      <td>Song Ro</td>\n",
       "      <td>1609909927056</td>\n",
       "      <td>5</td>\n",
       "      <td>Love there korean rice cake.</td>\n",
       "      <td>0x80c2c778e3b73d33:0xbdc58662a4a97d49</td>\n",
       "      <td>Texas</td>\n",
       "    </tr>\n",
       "    <tr>\n",
       "      <th>1</th>\n",
       "      <td>1.112903e+20</td>\n",
       "      <td>Rafa Robles</td>\n",
       "      <td>1612849648663</td>\n",
       "      <td>5</td>\n",
       "      <td>Good very good</td>\n",
       "      <td>0x80c2c778e3b73d33:0xbdc58662a4a97d49</td>\n",
       "      <td>Texas</td>\n",
       "    </tr>\n",
       "    <tr>\n",
       "      <th>2</th>\n",
       "      <td>1.126404e+20</td>\n",
       "      <td>David Han</td>\n",
       "      <td>1583643882296</td>\n",
       "      <td>4</td>\n",
       "      <td>They make Korean traditional food very properly.</td>\n",
       "      <td>0x80c2c778e3b73d33:0xbdc58662a4a97d49</td>\n",
       "      <td>Texas</td>\n",
       "    </tr>\n",
       "    <tr>\n",
       "      <th>3</th>\n",
       "      <td>1.174403e+20</td>\n",
       "      <td>Anthony Kim</td>\n",
       "      <td>1551938216355</td>\n",
       "      <td>5</td>\n",
       "      <td>Short ribs are very delicious.</td>\n",
       "      <td>0x80c2c778e3b73d33:0xbdc58662a4a97d49</td>\n",
       "      <td>Texas</td>\n",
       "    </tr>\n",
       "    <tr>\n",
       "      <th>4</th>\n",
       "      <td>1.005808e+20</td>\n",
       "      <td>Mario Marzouk</td>\n",
       "      <td>1494910901933</td>\n",
       "      <td>5</td>\n",
       "      <td>Great food and prices the portions are large</td>\n",
       "      <td>0x80c2c778e3b73d33:0xbdc58662a4a97d49</td>\n",
       "      <td>Texas</td>\n",
       "    </tr>\n",
       "    <tr>\n",
       "      <th>...</th>\n",
       "      <td>...</td>\n",
       "      <td>...</td>\n",
       "      <td>...</td>\n",
       "      <td>...</td>\n",
       "      <td>...</td>\n",
       "      <td>...</td>\n",
       "      <td>...</td>\n",
       "    </tr>\n",
       "    <tr>\n",
       "      <th>149995</th>\n",
       "      <td>1.139124e+20</td>\n",
       "      <td>Mayur Senjalia</td>\n",
       "      <td>1553382802382</td>\n",
       "      <td>5</td>\n",
       "      <td>sin reseña</td>\n",
       "      <td>0x808fc0c19ba4e761:0x589c9ad71c62a420</td>\n",
       "      <td>Texas</td>\n",
       "    </tr>\n",
       "    <tr>\n",
       "      <th>149996</th>\n",
       "      <td>1.180461e+20</td>\n",
       "      <td>Dennis Barrios</td>\n",
       "      <td>1509453169393</td>\n",
       "      <td>5</td>\n",
       "      <td>sin reseña</td>\n",
       "      <td>0x808fc0c19ba4e761:0x589c9ad71c62a420</td>\n",
       "      <td>Texas</td>\n",
       "    </tr>\n",
       "    <tr>\n",
       "      <th>149997</th>\n",
       "      <td>1.071072e+20</td>\n",
       "      <td>gena807</td>\n",
       "      <td>1614453586811</td>\n",
       "      <td>4</td>\n",
       "      <td>sin reseña</td>\n",
       "      <td>0x808fc0c19ba4e761:0x589c9ad71c62a420</td>\n",
       "      <td>Texas</td>\n",
       "    </tr>\n",
       "    <tr>\n",
       "      <th>149998</th>\n",
       "      <td>1.172404e+20</td>\n",
       "      <td>Anant Khadke</td>\n",
       "      <td>1569739943903</td>\n",
       "      <td>5</td>\n",
       "      <td>sin reseña</td>\n",
       "      <td>0x808fc0c19ba4e761:0x589c9ad71c62a420</td>\n",
       "      <td>Texas</td>\n",
       "    </tr>\n",
       "    <tr>\n",
       "      <th>149999</th>\n",
       "      <td>1.117537e+20</td>\n",
       "      <td>Phillip Uyesato</td>\n",
       "      <td>1521661727317</td>\n",
       "      <td>5</td>\n",
       "      <td>sin reseña</td>\n",
       "      <td>0x808fc0c19ba4e761:0x589c9ad71c62a420</td>\n",
       "      <td>Texas</td>\n",
       "    </tr>\n",
       "  </tbody>\n",
       "</table>\n",
       "<p>2700000 rows × 7 columns</p>\n",
       "</div>"
      ],
      "text/plain": [
       "             user_id             name           time  rating  \\\n",
       "0       1.089912e+20          Song Ro  1609909927056       5   \n",
       "1       1.112903e+20      Rafa Robles  1612849648663       5   \n",
       "2       1.126404e+20        David Han  1583643882296       4   \n",
       "3       1.174403e+20      Anthony Kim  1551938216355       5   \n",
       "4       1.005808e+20    Mario Marzouk  1494910901933       5   \n",
       "...              ...              ...            ...     ...   \n",
       "149995  1.139124e+20   Mayur Senjalia  1553382802382       5   \n",
       "149996  1.180461e+20   Dennis Barrios  1509453169393       5   \n",
       "149997  1.071072e+20          gena807  1614453586811       4   \n",
       "149998  1.172404e+20     Anant Khadke  1569739943903       5   \n",
       "149999  1.117537e+20  Phillip Uyesato  1521661727317       5   \n",
       "\n",
       "                                                    text  \\\n",
       "0                           Love there korean rice cake.   \n",
       "1                                         Good very good   \n",
       "2       They make Korean traditional food very properly.   \n",
       "3                         Short ribs are very delicious.   \n",
       "4           Great food and prices the portions are large   \n",
       "...                                                  ...   \n",
       "149995                                        sin reseña   \n",
       "149996                                        sin reseña   \n",
       "149997                                        sin reseña   \n",
       "149998                                        sin reseña   \n",
       "149999                                        sin reseña   \n",
       "\n",
       "                                      gmap_id  state  \n",
       "0       0x80c2c778e3b73d33:0xbdc58662a4a97d49  Texas  \n",
       "1       0x80c2c778e3b73d33:0xbdc58662a4a97d49  Texas  \n",
       "2       0x80c2c778e3b73d33:0xbdc58662a4a97d49  Texas  \n",
       "3       0x80c2c778e3b73d33:0xbdc58662a4a97d49  Texas  \n",
       "4       0x80c2c778e3b73d33:0xbdc58662a4a97d49  Texas  \n",
       "...                                       ...    ...  \n",
       "149995  0x808fc0c19ba4e761:0x589c9ad71c62a420  Texas  \n",
       "149996  0x808fc0c19ba4e761:0x589c9ad71c62a420  Texas  \n",
       "149997  0x808fc0c19ba4e761:0x589c9ad71c62a420  Texas  \n",
       "149998  0x808fc0c19ba4e761:0x589c9ad71c62a420  Texas  \n",
       "149999  0x808fc0c19ba4e761:0x589c9ad71c62a420  Texas  \n",
       "\n",
       "[2700000 rows x 7 columns]"
      ]
     },
     "execution_count": 53,
     "metadata": {},
     "output_type": "execute_result"
    }
   ],
   "source": [
    "texas_reseña"
   ]
  },
  {
   "cell_type": "code",
   "execution_count": 54,
   "metadata": {},
   "outputs": [],
   "source": [
    "texas_reseña.to_parquet('texas_review.parquet', index = False)"
   ]
  }
 ],
 "metadata": {
  "kernelspec": {
   "display_name": "Python 3",
   "language": "python",
   "name": "python3"
  },
  "language_info": {
   "codemirror_mode": {
    "name": "ipython",
    "version": 3
   },
   "file_extension": ".py",
   "mimetype": "text/x-python",
   "name": "python",
   "nbconvert_exporter": "python",
   "pygments_lexer": "ipython3",
   "version": "3.11.1"
  },
  "orig_nbformat": 4
 },
 "nbformat": 4,
 "nbformat_minor": 2
}
