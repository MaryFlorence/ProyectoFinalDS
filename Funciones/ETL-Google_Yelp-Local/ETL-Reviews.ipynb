{
 "cells": [
  {
   "cell_type": "code",
   "execution_count": 1,
   "metadata": {},
   "outputs": [],
   "source": [
    "import pandas as pd\n",
    "import json"
   ]
  },
  {
   "cell_type": "markdown",
   "metadata": {},
   "source": [
    "Se realiza un ETL sobre las reviews de los usuarios de Google Maps en los estados de Iowa, California, Texas, Indiana, Kentucky y Mississipi."
   ]
  },
  {
   "cell_type": "markdown",
   "metadata": {},
   "source": [
    "California"
   ]
  },
  {
   "cell_type": "code",
   "execution_count": null,
   "metadata": {},
   "outputs": [],
   "source": [
    "california_review1 = pd.read_json('Google_reviews/review-California/1.json', lines= True)\n",
    "california_review2 = pd.read_json('Google_reviews/review-California/2.json', lines= True)\n",
    "california_review3 = pd.read_json('Google_reviews/review-California/3.json', lines= True)\n",
    "california_review4 = pd.read_json('Google_reviews/review-California/4.json', lines= True)\n",
    "california_review5 = pd.read_json('Google_reviews/review-California/5.json', lines= True)\n",
    "california_review6 = pd.read_json('Google_reviews/review-California/6.json', lines= True)\n",
    "california_review7 = pd.read_json('Google_reviews/review-California/7.json', lines= True)\n",
    "california_review8 = pd.read_json('Google_reviews/review-California/8.json', lines= True)\n",
    "california_review9 = pd.read_json('Google_reviews/review-California/9.json', lines= True)\n",
    "california_review10 = pd.read_json('Google_reviews/review-California/10.json', lines= True)\n",
    "california_review11 = pd.read_json('Google_reviews/review-California/11.json', lines= True)\n",
    "california_review12 = pd.read_json('Google_reviews/review-California/12.json', lines= True)\n",
    "california_review13 = pd.read_json('Google_reviews/review-California/13.json', lines= True)\n",
    "california_review14 = pd.read_json('Google_reviews/review-California/14.json', lines= True)\n",
    "california_review15 = pd.read_json('Google_reviews/review-California/15.json', lines= True)\n",
    "california_review16 = pd.read_json('Google_reviews/review-California/16.json', lines= True)\n",
    "california_review17 = pd.read_json('Google_reviews/review-California/17.json', lines= True)\n",
    "california_review18 = pd.read_json('Google_reviews/review-California/18.json', lines= True)"
   ]
  },
  {
   "cell_type": "code",
   "execution_count": null,
   "metadata": {},
   "outputs": [],
   "source": [
    "# Se concatenan los json\n",
    "data_california = [california_review1, california_review2, california_review3, california_review4, california_review5, california_review6, california_review7,california_review8,\n",
    "                   california_review9,california_review10,california_review11,california_review12, california_review13, california_review14, california_review15,\n",
    "                   california_review16, california_review17, california_review18]\n",
    "df_california = pd.concat(data_california, ignore_index=True)"
   ]
  },
  {
   "cell_type": "markdown",
   "metadata": {},
   "source": [
    "Texas"
   ]
  },
  {
   "cell_type": "code",
   "execution_count": null,
   "metadata": {},
   "outputs": [],
   "source": [
    "texas_reviex_1 = pd.read_json('Google_reviews/review-Texas/1.json', lines= True)\n",
    "texas_reviex_2 = pd.read_json('Google_reviews/review-Texas/2.json', lines= True)\n",
    "texas_reviex_3 = pd.read_json('Google_reviews/review-Texas/3.json', lines= True)\n",
    "texas_reviex_4 = pd.read_json('Google_reviews/review-Texas/4.json', lines= True)\n",
    "texas_reviex_5 = pd.read_json('Google_reviews/review-Texas/5.json', lines= True)\n",
    "texas_reviex_6 = pd.read_json('Google_reviews/review-Texas/6.json', lines= True)\n",
    "texas_reviex_7 = pd.read_json('Google_reviews/review-Texas/7.json', lines= True)\n",
    "texas_reviex_8 = pd.read_json('Google_reviews/review-Texas/8.json', lines= True)\n",
    "texas_reviex_9 = pd.read_json('Google_reviews/review-Texas/9.json', lines= True)\n",
    "texas_reviex_10 = pd.read_json('Google_reviews/review-Texas/10.json', lines= True)\n",
    "texas_reviex_11 = pd.read_json('Google_reviews/review-Texas/11.json', lines= True)\n",
    "texas_reviex_12 = pd.read_json('Google_reviews/review-Texas/12.json', lines= True)\n",
    "texas_reviex_13 = pd.read_json('Google_reviews/review-Texas/13.json', lines= True)\n",
    "texas_reviex_14 = pd.read_json('Google_reviews/review-Texas/14.json', lines= True)\n",
    "texas_reviex_15 = pd.read_json('Google_reviews/review-Texas/15.json', lines= True)\n",
    "texas_reviex_16 = pd.read_json('Google_reviews/review-Texas/16.json', lines= True)"
   ]
  },
  {
   "cell_type": "code",
   "execution_count": null,
   "metadata": {},
   "outputs": [],
   "source": [
    "# Se concatenan los json\n",
    "dataframes = [texas_reviex_1, texas_reviex_2, texas_reviex_3, texas_reviex_4, texas_reviex_5,\n",
    "                   texas_reviex_6, texas_reviex_7, texas_reviex_8, texas_reviex_9, texas_reviex_10,\n",
    "                   texas_reviex_11, texas_reviex_12, texas_reviex_13, texas_reviex_14, texas_reviex_15,\n",
    "                   texas_reviex_16]\n",
    "\n",
    "df_texas= pd.concat(dataframes, ignore_index=True)"
   ]
  },
  {
   "cell_type": "markdown",
   "metadata": {},
   "source": [
    "Indiana"
   ]
  },
  {
   "cell_type": "code",
   "execution_count": null,
   "metadata": {},
   "outputs": [],
   "source": [
    "indiana_1 = pd.read_json('Google_reviews/review-Indiana/1.json', lines= True)\n",
    "indiana_2 = pd.read_json('Google_reviews/review-Indiana/2.json', lines= True)\n",
    "indiana_3 = pd.read_json('Google_reviews/review-Indiana/3.json', lines= True)\n",
    "indiana_4 = pd.read_json('Google_reviews/review-Indiana/4.json', lines= True)\n",
    "indiana_5 = pd.read_json('Google_reviews/review-Indiana/5.json', lines= True)\n",
    "indiana_6 = pd.read_json('Google_reviews/review-Indiana/6.json', lines= True)\n",
    "indiana_7 = pd.read_json('Google_reviews/review-Indiana/7.json', lines= True)\n",
    "indiana_8 = pd.read_json('Google_reviews/review-Indiana/8.json', lines= True)\n",
    "indiana_9 = pd.read_json('Google_reviews/review-Indiana/9.json', lines= True)\n",
    "indiana_10 = pd.read_json('Google_reviews/review-Indiana/10.json', lines= True)\n",
    "indiana_11 = pd.read_json('Google_reviews/review-Indiana/11.json', lines= True)\n",
    "indiana_12 = pd.read_json('Google_reviews/review-Indiana/12.json', lines= True)\n",
    "indiana_13 = pd.read_json('Google_reviews/review-Indiana/13.json', lines= True)\n",
    "indiana_14 = pd.read_json('Google_reviews/review-Indiana/14.json', lines= True)\n",
    "indiana_15 = pd.read_json('Google_reviews/review-Indiana/15.json', lines= True)"
   ]
  },
  {
   "cell_type": "code",
   "execution_count": null,
   "metadata": {},
   "outputs": [],
   "source": [
    "# Se concatenan los json\n",
    "dataframes = [indiana_1, indiana_2, indiana_3, indiana_4, indiana_5, indiana_6, indiana_7, indiana_8, indiana_9, indiana_10, indiana_11, indiana_12, indiana_13, indiana_14, indiana_15]\n",
    "\n",
    "df_indiana = pd.concat(dataframes, ignore_index= True)"
   ]
  },
  {
   "cell_type": "markdown",
   "metadata": {},
   "source": [
    "Iowa"
   ]
  },
  {
   "cell_type": "code",
   "execution_count": 2,
   "metadata": {},
   "outputs": [],
   "source": [
    "df1 = pd.read_json('Google_reviews/review-Iowa/1.json', lines=True)\n",
    "df2 = pd.read_json('Google_reviews/review-Iowa/2.json', lines=True)\n",
    "df3 = pd.read_json('Google_reviews/review-Iowa/3.json', lines=True)\n",
    "df4 = pd.read_json('Google_reviews/review-Iowa/4.json', lines=True)\n",
    "df5 = pd.read_json('Google_reviews/review-Iowa/5.json', lines=True)\n",
    "df6 = pd.read_json('Google_reviews/review-Iowa/6.json', lines=True)\n",
    "df7 = pd.read_json('Google_reviews/review-Iowa/7.json', lines=True)\n",
    "df8 = pd.read_json('Google_reviews/review-Iowa/8.json', lines=True)\n",
    "df9 = pd.read_json('Google_reviews/review-Iowa/9.json', lines=True)\n",
    "df10 = pd.read_json('Google_reviews/review-Iowa/10.json', lines=True)\n",
    "df11= pd.read_json('Google_reviews/review-Iowa/11.json', lines=True)\n",
    "df12 = pd.read_json('Google_reviews/review-Iowa/12.json', lines=True)\n",
    "df13 = pd.read_json('Google_reviews/review-Iowa/13.json', lines=True)\n",
    "df14 = pd.read_json('Google_reviews/review-Iowa/14.json', lines=True)\n",
    "df15 = pd.read_json('Google_reviews/review-Iowa/15.json', lines=True)\n",
    "df16 = pd.read_json('Google_reviews/review-Iowa/16.json', lines=True)\n",
    "df17 = pd.read_json('Google_reviews/review-Iowa/17.json', lines=True)\n",
    "df18 = pd.read_json('Google_reviews/review-Iowa/18.json', lines=True)\n"
   ]
  },
  {
   "cell_type": "code",
   "execution_count": 3,
   "metadata": {},
   "outputs": [],
   "source": [
    "# Se concatenan los json\n",
    "df_iowa = pd.concat([df1,df2,df3,df4,df5,df6,df7,df8,df9,df10,df11,df12,df13,df14,df15,df16,df17,df18], ignore_index=True)"
   ]
  },
  {
   "cell_type": "markdown",
   "metadata": {},
   "source": [
    "Kentucky"
   ]
  },
  {
   "cell_type": "code",
   "execution_count": 5,
   "metadata": {},
   "outputs": [],
   "source": [
    "df1 = pd.read_json('Google_reviews/review-Kentucky/1.json', lines=True)\n",
    "df2 = pd.read_json('Google_reviews/review-Kentucky/2.json', lines=True)\n",
    "df3 = pd.read_json('Google_reviews/review-Kentucky/3.json', lines=True)\n",
    "df4 = pd.read_json('Google_reviews/review-Kentucky/4.json', lines=True)\n",
    "df5 = pd.read_json('Google_reviews/review-Kentucky/5.json', lines=True)\n",
    "df6 = pd.read_json('Google_reviews/review-Kentucky/6.json', lines=True)\n",
    "df7 = pd.read_json('Google_reviews/review-Kentucky/7.json', lines=True)\n",
    "df8 = pd.read_json('Google_reviews/review-Kentucky/8.json', lines=True)\n",
    "df9 = pd.read_json('Google_reviews/review-Kentucky/9.json', lines=True)\n",
    "df10 = pd.read_json('Google_reviews/review-Kentucky/10.json', lines=True)\n",
    "df11 = pd.read_json('Google_reviews/review-Kentucky/11.json', lines=True)\n"
   ]
  },
  {
   "cell_type": "code",
   "execution_count": 6,
   "metadata": {},
   "outputs": [],
   "source": [
    "# Se concatenan los json\n",
    "df_kentucky = pd.concat([df1,df2,df3,df4,df5,df6,df7,df8,df9,df10,df11], ignore_index=True)"
   ]
  },
  {
   "cell_type": "markdown",
   "metadata": {},
   "source": [
    "Mississippi"
   ]
  },
  {
   "cell_type": "code",
   "execution_count": 8,
   "metadata": {},
   "outputs": [],
   "source": [
    "df1 = pd.read_json('Google_reviews/review-Mississippi/1.json', lines=True)\n",
    "df2 = pd.read_json('Google_reviews/review-Mississippi/2.json', lines=True)\n",
    "df3 = pd.read_json('Google_reviews/review-Mississippi/3.json', lines=True)\n",
    "df4 = pd.read_json('Google_reviews/review-Mississippi/4.json', lines=True)\n",
    "df5 = pd.read_json('Google_reviews/review-Mississippi/5.json', lines=True)\n",
    "df6 = pd.read_json('Google_reviews/review-Mississippi/6.json', lines=True)\n",
    "df7 = pd.read_json('Google_reviews/review-Mississippi/7.json', lines=True)\n",
    "df8 = pd.read_json('Google_reviews/review-Mississippi/8.json', lines=True)\n",
    "df9 = pd.read_json('Google_reviews/review-Mississippi/9.json', lines=True)\n",
    "df10 = pd.read_json('Google_reviews/review-Mississippi/10.json', lines=True)\n",
    "df11= pd.read_json('Google_reviews/review-Mississippi/11.json', lines=True)\n",
    "df12= pd.read_json('Google_reviews/review-Mississippi/12.json', lines=True)\n",
    "df13 = pd.read_json('Google_reviews/review-Mississippi/13.json', lines=True)\n",
    "df14 = pd.read_json('Google_reviews/review-Mississippi/14.json', lines=True)\n"
   ]
  },
  {
   "cell_type": "code",
   "execution_count": 9,
   "metadata": {},
   "outputs": [],
   "source": [
    "# Se concatenan los json\n",
    "df_Mississippi = pd.concat([df1,df2,df3,df4,df5,df6,df7,df8,df9,df10,df11,df12,df13,df14], ignore_index=True)"
   ]
  },
  {
   "cell_type": "code",
   "execution_count": 18,
   "metadata": {},
   "outputs": [
    {
     "data": {
      "text/html": [
       "<div>\n",
       "<style scoped>\n",
       "    .dataframe tbody tr th:only-of-type {\n",
       "        vertical-align: middle;\n",
       "    }\n",
       "\n",
       "    .dataframe tbody tr th {\n",
       "        vertical-align: top;\n",
       "    }\n",
       "\n",
       "    .dataframe thead th {\n",
       "        text-align: right;\n",
       "    }\n",
       "</style>\n",
       "<table border=\"1\" class=\"dataframe\">\n",
       "  <thead>\n",
       "    <tr style=\"text-align: right;\">\n",
       "      <th></th>\n",
       "      <th>user_id</th>\n",
       "      <th>name</th>\n",
       "      <th>time</th>\n",
       "      <th>rating</th>\n",
       "      <th>text</th>\n",
       "      <th>pics</th>\n",
       "      <th>resp</th>\n",
       "      <th>gmap_id</th>\n",
       "    </tr>\n",
       "  </thead>\n",
       "  <tbody>\n",
       "    <tr>\n",
       "      <th>0</th>\n",
       "      <td>1.154997e+20</td>\n",
       "      <td>Nicole Williams</td>\n",
       "      <td>1528935574441</td>\n",
       "      <td>5</td>\n",
       "      <td>I have found my new favorite nail shop. I love...</td>\n",
       "      <td>None</td>\n",
       "      <td>{'time': 1528950923185, 'text': 'Thanks'}</td>\n",
       "      <td>0x87ec238afdd8837b:0x2f43f2b12142bff5</td>\n",
       "    </tr>\n",
       "    <tr>\n",
       "      <th>1</th>\n",
       "      <td>1.100727e+20</td>\n",
       "      <td>Dmitriy N</td>\n",
       "      <td>1575832576112</td>\n",
       "      <td>5</td>\n",
       "      <td>This place is awesome. Got my pedicure there a...</td>\n",
       "      <td>None</td>\n",
       "      <td>{'time': 1576094549338, 'text': 'Thanks , Dmit...</td>\n",
       "      <td>0x87ec238afdd8837b:0x2f43f2b12142bff5</td>\n",
       "    </tr>\n",
       "    <tr>\n",
       "      <th>2</th>\n",
       "      <td>1.170215e+20</td>\n",
       "      <td>Sue Dickman</td>\n",
       "      <td>1465139905809</td>\n",
       "      <td>5</td>\n",
       "      <td>I love going to Polished Nails. Everyone is pr...</td>\n",
       "      <td>None</td>\n",
       "      <td>None</td>\n",
       "      <td>0x87ec238afdd8837b:0x2f43f2b12142bff5</td>\n",
       "    </tr>\n",
       "    <tr>\n",
       "      <th>3</th>\n",
       "      <td>1.090032e+20</td>\n",
       "      <td>Ashley Nguyen</td>\n",
       "      <td>1565271263810</td>\n",
       "      <td>5</td>\n",
       "      <td>Nice place to get a complete set.</td>\n",
       "      <td>None</td>\n",
       "      <td>{'time': 1565752414209, 'text': 'Thanks'}</td>\n",
       "      <td>0x87ec238afdd8837b:0x2f43f2b12142bff5</td>\n",
       "    </tr>\n",
       "    <tr>\n",
       "      <th>4</th>\n",
       "      <td>1.132786e+20</td>\n",
       "      <td>Candy Hester</td>\n",
       "      <td>1450564402784</td>\n",
       "      <td>5</td>\n",
       "      <td>Great manicure from someone who really cares f...</td>\n",
       "      <td>None</td>\n",
       "      <td>None</td>\n",
       "      <td>0x87ec238afdd8837b:0x2f43f2b12142bff5</td>\n",
       "    </tr>\n",
       "  </tbody>\n",
       "</table>\n",
       "</div>"
      ],
      "text/plain": [
       "        user_id             name           time  rating  \\\n",
       "0  1.154997e+20  Nicole Williams  1528935574441       5   \n",
       "1  1.100727e+20        Dmitriy N  1575832576112       5   \n",
       "2  1.170215e+20      Sue Dickman  1465139905809       5   \n",
       "3  1.090032e+20    Ashley Nguyen  1565271263810       5   \n",
       "4  1.132786e+20     Candy Hester  1450564402784       5   \n",
       "\n",
       "                                                text  pics  \\\n",
       "0  I have found my new favorite nail shop. I love...  None   \n",
       "1  This place is awesome. Got my pedicure there a...  None   \n",
       "2  I love going to Polished Nails. Everyone is pr...  None   \n",
       "3                  Nice place to get a complete set.  None   \n",
       "4  Great manicure from someone who really cares f...  None   \n",
       "\n",
       "                                                resp  \\\n",
       "0          {'time': 1528950923185, 'text': 'Thanks'}   \n",
       "1  {'time': 1576094549338, 'text': 'Thanks , Dmit...   \n",
       "2                                               None   \n",
       "3          {'time': 1565752414209, 'text': 'Thanks'}   \n",
       "4                                               None   \n",
       "\n",
       "                                 gmap_id  \n",
       "0  0x87ec238afdd8837b:0x2f43f2b12142bff5  \n",
       "1  0x87ec238afdd8837b:0x2f43f2b12142bff5  \n",
       "2  0x87ec238afdd8837b:0x2f43f2b12142bff5  \n",
       "3  0x87ec238afdd8837b:0x2f43f2b12142bff5  \n",
       "4  0x87ec238afdd8837b:0x2f43f2b12142bff5  "
      ]
     },
     "execution_count": 18,
     "metadata": {},
     "output_type": "execute_result"
    }
   ],
   "source": [
    "df_iowa.head()"
   ]
  },
  {
   "cell_type": "markdown",
   "metadata": {},
   "source": [
    "Se eliminan las columnas 'pics' y 'resp' de todos los df."
   ]
  },
  {
   "cell_type": "code",
   "execution_count": 10,
   "metadata": {},
   "outputs": [],
   "source": [
    "df_iowa.drop(columns='pics', inplace=True)\n",
    "df_kentucky.drop(columns='pics', inplace=True)\n",
    "df_Mississippi.drop(columns='pics', inplace=True)\n",
    "df_california.drop(columns='pics', inplace=True)\n",
    "df_texas.drop(columns='pics', inplace=True)\n",
    "df_indiana.drop(columns='pics', inplace=True)"
   ]
  },
  {
   "cell_type": "code",
   "execution_count": 11,
   "metadata": {},
   "outputs": [],
   "source": [
    "df_iowa.drop(columns='resp', inplace=True)\n",
    "df_kentucky.drop(columns='resp', inplace=True)\n",
    "df_Mississippi.drop(columns='resp', inplace=True)\n",
    "df_california.drop(columns='resp', inplace=True)\n",
    "df_texas.drop(columns='resp', inplace=True)\n",
    "df_indiana.drop(columns='resp', inplace=True)"
   ]
  },
  {
   "cell_type": "markdown",
   "metadata": {},
   "source": [
    "Se concatenan los df."
   ]
  },
  {
   "cell_type": "code",
   "execution_count": 13,
   "metadata": {},
   "outputs": [],
   "source": [
    "df_google_reviews = pd.concat([df_iowa, df_kentucky, df_Mississippi, df_california, df_texas, df_indiana], ignore_index=True)"
   ]
  },
  {
   "cell_type": "markdown",
   "metadata": {},
   "source": [
    "Eliminamos la columna name ya que no es relevante."
   ]
  },
  {
   "cell_type": "code",
   "execution_count": 15,
   "metadata": {},
   "outputs": [],
   "source": [
    "df_google_reviews.drop(columns='name', inplace=True)"
   ]
  },
  {
   "cell_type": "code",
   "execution_count": 16,
   "metadata": {},
   "outputs": [
    {
     "data": {
      "text/html": [
       "<div>\n",
       "<style scoped>\n",
       "    .dataframe tbody tr th:only-of-type {\n",
       "        vertical-align: middle;\n",
       "    }\n",
       "\n",
       "    .dataframe tbody tr th {\n",
       "        vertical-align: top;\n",
       "    }\n",
       "\n",
       "    .dataframe thead th {\n",
       "        text-align: right;\n",
       "    }\n",
       "</style>\n",
       "<table border=\"1\" class=\"dataframe\">\n",
       "  <thead>\n",
       "    <tr style=\"text-align: right;\">\n",
       "      <th></th>\n",
       "      <th>user_id</th>\n",
       "      <th>time</th>\n",
       "      <th>rating</th>\n",
       "      <th>text</th>\n",
       "      <th>gmap_id</th>\n",
       "      <th>state</th>\n",
       "    </tr>\n",
       "  </thead>\n",
       "  <tbody>\n",
       "    <tr>\n",
       "      <th>0</th>\n",
       "      <td>1.154997e+20</td>\n",
       "      <td>1528935574441</td>\n",
       "      <td>5</td>\n",
       "      <td>I have found my new favorite nail shop. I love...</td>\n",
       "      <td>0x87ec238afdd8837b:0x2f43f2b12142bff5</td>\n",
       "      <td>Iowa</td>\n",
       "    </tr>\n",
       "    <tr>\n",
       "      <th>1</th>\n",
       "      <td>1.100727e+20</td>\n",
       "      <td>1575832576112</td>\n",
       "      <td>5</td>\n",
       "      <td>This place is awesome. Got my pedicure there a...</td>\n",
       "      <td>0x87ec238afdd8837b:0x2f43f2b12142bff5</td>\n",
       "      <td>Iowa</td>\n",
       "    </tr>\n",
       "    <tr>\n",
       "      <th>2</th>\n",
       "      <td>1.170215e+20</td>\n",
       "      <td>1465139905809</td>\n",
       "      <td>5</td>\n",
       "      <td>I love going to Polished Nails. Everyone is pr...</td>\n",
       "      <td>0x87ec238afdd8837b:0x2f43f2b12142bff5</td>\n",
       "      <td>Iowa</td>\n",
       "    </tr>\n",
       "    <tr>\n",
       "      <th>3</th>\n",
       "      <td>1.090032e+20</td>\n",
       "      <td>1565271263810</td>\n",
       "      <td>5</td>\n",
       "      <td>Nice place to get a complete set.</td>\n",
       "      <td>0x87ec238afdd8837b:0x2f43f2b12142bff5</td>\n",
       "      <td>Iowa</td>\n",
       "    </tr>\n",
       "    <tr>\n",
       "      <th>4</th>\n",
       "      <td>1.132786e+20</td>\n",
       "      <td>1450564402784</td>\n",
       "      <td>5</td>\n",
       "      <td>Great manicure from someone who really cares f...</td>\n",
       "      <td>0x87ec238afdd8837b:0x2f43f2b12142bff5</td>\n",
       "      <td>Iowa</td>\n",
       "    </tr>\n",
       "  </tbody>\n",
       "</table>\n",
       "</div>"
      ],
      "text/plain": [
       "        user_id           time  rating  \\\n",
       "0  1.154997e+20  1528935574441       5   \n",
       "1  1.100727e+20  1575832576112       5   \n",
       "2  1.170215e+20  1465139905809       5   \n",
       "3  1.090032e+20  1565271263810       5   \n",
       "4  1.132786e+20  1450564402784       5   \n",
       "\n",
       "                                                text  \\\n",
       "0  I have found my new favorite nail shop. I love...   \n",
       "1  This place is awesome. Got my pedicure there a...   \n",
       "2  I love going to Polished Nails. Everyone is pr...   \n",
       "3                  Nice place to get a complete set.   \n",
       "4  Great manicure from someone who really cares f...   \n",
       "\n",
       "                                 gmap_id state  \n",
       "0  0x87ec238afdd8837b:0x2f43f2b12142bff5  Iowa  \n",
       "1  0x87ec238afdd8837b:0x2f43f2b12142bff5  Iowa  \n",
       "2  0x87ec238afdd8837b:0x2f43f2b12142bff5  Iowa  \n",
       "3  0x87ec238afdd8837b:0x2f43f2b12142bff5  Iowa  \n",
       "4  0x87ec238afdd8837b:0x2f43f2b12142bff5  Iowa  "
      ]
     },
     "execution_count": 16,
     "metadata": {},
     "output_type": "execute_result"
    }
   ],
   "source": [
    "df_google_reviews.head()"
   ]
  },
  {
   "cell_type": "code",
   "execution_count": 19,
   "metadata": {},
   "outputs": [
    {
     "data": {
      "text/plain": [
       "user_id    0\n",
       "time       0\n",
       "rating     0\n",
       "text       0\n",
       "gmap_id    0\n",
       "state      0\n",
       "dtype: int64"
      ]
     },
     "execution_count": 19,
     "metadata": {},
     "output_type": "execute_result"
    }
   ],
   "source": [
    "df_google_reviews.isna().sum()"
   ]
  },
  {
   "cell_type": "markdown",
   "metadata": {},
   "source": [
    "Rellenamos los valores nulos de la columna 'text' con No text, ya que el usuario dio una puntuación pero no dejo comentarios."
   ]
  },
  {
   "cell_type": "code",
   "execution_count": 18,
   "metadata": {},
   "outputs": [],
   "source": [
    "df_google_reviews['text'] = df_google_reviews['text'].fillna('No text')"
   ]
  },
  {
   "cell_type": "code",
   "execution_count": 20,
   "metadata": {},
   "outputs": [],
   "source": [
    "from datetime import datetime\n",
    "\n",
    "# Se formatea la fecha en el formato '%Y-%m-%d %H:%M:%S'\n",
    "df_google_reviews['Date'] = df_google_reviews['time'].dt.strftime('%Y-%m-%d %H:%M:%S')"
   ]
  },
  {
   "cell_type": "code",
   "execution_count": 27,
   "metadata": {},
   "outputs": [
    {
     "data": {
      "text/html": [
       "<div>\n",
       "<style scoped>\n",
       "    .dataframe tbody tr th:only-of-type {\n",
       "        vertical-align: middle;\n",
       "    }\n",
       "\n",
       "    .dataframe tbody tr th {\n",
       "        vertical-align: top;\n",
       "    }\n",
       "\n",
       "    .dataframe thead th {\n",
       "        text-align: right;\n",
       "    }\n",
       "</style>\n",
       "<table border=\"1\" class=\"dataframe\">\n",
       "  <thead>\n",
       "    <tr style=\"text-align: right;\">\n",
       "      <th></th>\n",
       "      <th>user_id</th>\n",
       "      <th>rating</th>\n",
       "      <th>text</th>\n",
       "      <th>gmap_id</th>\n",
       "      <th>state</th>\n",
       "      <th>Date</th>\n",
       "    </tr>\n",
       "  </thead>\n",
       "  <tbody>\n",
       "    <tr>\n",
       "      <th>0</th>\n",
       "      <td>1.154997e+20</td>\n",
       "      <td>5</td>\n",
       "      <td>I have found my new favorite nail shop. I love...</td>\n",
       "      <td>0x87ec238afdd8837b:0x2f43f2b12142bff5</td>\n",
       "      <td>Iowa</td>\n",
       "      <td>2018-06-14 00:19:34</td>\n",
       "    </tr>\n",
       "    <tr>\n",
       "      <th>1</th>\n",
       "      <td>1.100727e+20</td>\n",
       "      <td>5</td>\n",
       "      <td>This place is awesome. Got my pedicure there a...</td>\n",
       "      <td>0x87ec238afdd8837b:0x2f43f2b12142bff5</td>\n",
       "      <td>Iowa</td>\n",
       "      <td>2019-12-08 19:16:16</td>\n",
       "    </tr>\n",
       "    <tr>\n",
       "      <th>2</th>\n",
       "      <td>1.170215e+20</td>\n",
       "      <td>5</td>\n",
       "      <td>I love going to Polished Nails. Everyone is pr...</td>\n",
       "      <td>0x87ec238afdd8837b:0x2f43f2b12142bff5</td>\n",
       "      <td>Iowa</td>\n",
       "      <td>2016-06-05 15:18:25</td>\n",
       "    </tr>\n",
       "    <tr>\n",
       "      <th>3</th>\n",
       "      <td>1.090032e+20</td>\n",
       "      <td>5</td>\n",
       "      <td>Nice place to get a complete set.</td>\n",
       "      <td>0x87ec238afdd8837b:0x2f43f2b12142bff5</td>\n",
       "      <td>Iowa</td>\n",
       "      <td>2019-08-08 13:34:23</td>\n",
       "    </tr>\n",
       "    <tr>\n",
       "      <th>4</th>\n",
       "      <td>1.132786e+20</td>\n",
       "      <td>5</td>\n",
       "      <td>Great manicure from someone who really cares f...</td>\n",
       "      <td>0x87ec238afdd8837b:0x2f43f2b12142bff5</td>\n",
       "      <td>Iowa</td>\n",
       "      <td>2015-12-19 22:33:22</td>\n",
       "    </tr>\n",
       "  </tbody>\n",
       "</table>\n",
       "</div>"
      ],
      "text/plain": [
       "        user_id  rating                                               text  \\\n",
       "0  1.154997e+20       5  I have found my new favorite nail shop. I love...   \n",
       "1  1.100727e+20       5  This place is awesome. Got my pedicure there a...   \n",
       "2  1.170215e+20       5  I love going to Polished Nails. Everyone is pr...   \n",
       "3  1.090032e+20       5                  Nice place to get a complete set.   \n",
       "4  1.132786e+20       5  Great manicure from someone who really cares f...   \n",
       "\n",
       "                                 gmap_id state                 Date  \n",
       "0  0x87ec238afdd8837b:0x2f43f2b12142bff5  Iowa  2018-06-14 00:19:34  \n",
       "1  0x87ec238afdd8837b:0x2f43f2b12142bff5  Iowa  2019-12-08 19:16:16  \n",
       "2  0x87ec238afdd8837b:0x2f43f2b12142bff5  Iowa  2016-06-05 15:18:25  \n",
       "3  0x87ec238afdd8837b:0x2f43f2b12142bff5  Iowa  2019-08-08 13:34:23  \n",
       "4  0x87ec238afdd8837b:0x2f43f2b12142bff5  Iowa  2015-12-19 22:33:22  "
      ]
     },
     "execution_count": 27,
     "metadata": {},
     "output_type": "execute_result"
    }
   ],
   "source": [
    "df_google_reviews.head()"
   ]
  },
  {
   "cell_type": "code",
   "execution_count": 40,
   "metadata": {},
   "outputs": [
    {
     "name": "stdout",
     "output_type": "stream",
     "text": [
      "<class 'pandas.core.frame.DataFrame'>\n",
      "RangeIndex: 6298865 entries, 0 to 6298864\n",
      "Data columns (total 5 columns):\n",
      " #   Column   Dtype  \n",
      "---  ------   -----  \n",
      " 0   user_id  float64\n",
      " 1   rating   int64  \n",
      " 2   text     object \n",
      " 3   gmap_id  object \n",
      " 4   state    object \n",
      "dtypes: float64(1), int64(1), object(3)\n",
      "memory usage: 240.3+ MB\n"
     ]
    }
   ],
   "source": [
    "df_google_reviews.info()"
   ]
  },
  {
   "cell_type": "markdown",
   "metadata": {},
   "source": [
    "Se agrega la columna 'APP' para identificar a la hora de concatenar con las reviews de Yelp de que aplicacion viene la review."
   ]
  },
  {
   "cell_type": "code",
   "execution_count": 29,
   "metadata": {},
   "outputs": [],
   "source": [
    "df_google_reviews['APP'] = 'Google'"
   ]
  },
  {
   "cell_type": "code",
   "execution_count": null,
   "metadata": {},
   "outputs": [],
   "source": [
    "df_google_review.rename(columns={'user_id':'User_ID', 'rating':'Stars', 'text':'Text', 'gmap_id':'ID_Business'}, inplace=True)"
   ]
  },
  {
   "cell_type": "markdown",
   "metadata": {},
   "source": [
    "Realizamos el ETL sobre las reviews de Yelp!"
   ]
  },
  {
   "cell_type": "code",
   "execution_count": null,
   "metadata": {},
   "outputs": [],
   "source": [
    "reviews_yelp = pd.read_json('Yelp_reviews/review.json', lines= True)"
   ]
  },
  {
   "cell_type": "markdown",
   "metadata": {},
   "source": [
    "Eliminamos columnas irrelevantes."
   ]
  },
  {
   "cell_type": "code",
   "execution_count": null,
   "metadata": {},
   "outputs": [],
   "source": [
    "reviews_yelp.drop(columns=['useful', 'funny', 'cool', 'review_id'], inplace=True)"
   ]
  },
  {
   "cell_type": "markdown",
   "metadata": {},
   "source": [
    "Renombramos columnas"
   ]
  },
  {
   "cell_type": "code",
   "execution_count": null,
   "metadata": {},
   "outputs": [],
   "source": [
    "reviews_yelp.rename(columns={'user_id':'User_ID', 'stars':'Stars', 'text':'Text', 'business_id':'ID_Business', 'date':'Date'}, inplace=True)"
   ]
  },
  {
   "cell_type": "markdown",
   "metadata": {},
   "source": [
    "Rellenamos nulos."
   ]
  },
  {
   "cell_type": "code",
   "execution_count": null,
   "metadata": {},
   "outputs": [],
   "source": [
    "reviews_yelp['Text'] = reviews_yelp['Text'].fillna('No text')"
   ]
  },
  {
   "cell_type": "markdown",
   "metadata": {},
   "source": [
    "Agregamos la columna 'APP' para identificar de que aplicacion proviene la review."
   ]
  },
  {
   "cell_type": "code",
   "execution_count": null,
   "metadata": {},
   "outputs": [],
   "source": [
    "reviews_yelp['APP'] = 'Yelp'"
   ]
  },
  {
   "cell_type": "markdown",
   "metadata": {},
   "source": [
    "Concatenamos las revies de Google Maps y las de Yelp."
   ]
  },
  {
   "cell_type": "code",
   "execution_count": null,
   "metadata": {},
   "outputs": [],
   "source": [
    "reviews_google_yelp = pd.concat([df_google_review, reviews_yelp], ignore_index=True)"
   ]
  },
  {
   "cell_type": "markdown",
   "metadata": {},
   "source": [
    "Se filtran las reviews por restaurantes, realizando un left join con aquellas filas que coincidan con el ID_Business del df business_google_yelp."
   ]
  },
  {
   "cell_type": "code",
   "execution_count": null,
   "metadata": {},
   "outputs": [],
   "source": [
    "business = pd.read_parquet('Google_comercio/business_google_yelp.parquet')"
   ]
  },
  {
   "cell_type": "markdown",
   "metadata": {},
   "source": [
    "Nos traemos las columnas 'ID_Business' y 'State'."
   ]
  },
  {
   "cell_type": "code",
   "execution_count": null,
   "metadata": {},
   "outputs": [],
   "source": [
    "business = business[['ID_Business', 'State']]"
   ]
  },
  {
   "cell_type": "markdown",
   "metadata": {},
   "source": [
    "Se realiza el left join."
   ]
  },
  {
   "cell_type": "code",
   "execution_count": null,
   "metadata": {},
   "outputs": [],
   "source": [
    "reviews_google_yelp = pd.merge(business, df_google_review, on = 'ID_Business', how = 'left')"
   ]
  },
  {
   "cell_type": "markdown",
   "metadata": {},
   "source": [
    "Se hace un mapeo para cambiar el codigo de los estados a los nombres."
   ]
  },
  {
   "cell_type": "code",
   "execution_count": null,
   "metadata": {},
   "outputs": [],
   "source": [
    "mapeo_estados = {'TX': 'Texas', 'CA': 'California', 'IA': 'Iowa', 'IN': 'Indiana', 'KY':'Kentucky', 'MS':'Mississippi'}\n",
    "\n",
    "reviews_google_yelp['state'] = reviews_google_yelp['state'].replace(mapeo_estados)"
   ]
  },
  {
   "cell_type": "code",
   "execution_count": null,
   "metadata": {},
   "outputs": [],
   "source": [
    "reviews_google_yelp.rename(columns={'state':'State', inplace=True})"
   ]
  },
  {
   "cell_type": "code",
   "execution_count": null,
   "metadata": {},
   "outputs": [],
   "source": [
    "reviews_google_yelp = reviews_google_yelp[['ID_Business', 'State', 'User_ID', 'Stars', 'Text', 'Date', 'APP']]"
   ]
  },
  {
   "cell_type": "markdown",
   "metadata": {},
   "source": [
    "Se resetea el indice."
   ]
  },
  {
   "cell_type": "code",
   "execution_count": null,
   "metadata": {},
   "outputs": [],
   "source": [
    "reviews_google_yelp = reviews_google_yelp.reset_index(drop=True)"
   ]
  },
  {
   "cell_type": "markdown",
   "metadata": {},
   "source": [
    "Se guarda el resultado en parquet."
   ]
  },
  {
   "cell_type": "code",
   "execution_count": 30,
   "metadata": {},
   "outputs": [],
   "source": [
    "reviews_google_yelp.to_parquet('reviews_google_yelp.parquet')"
   ]
  }
 ],
 "metadata": {
  "kernelspec": {
   "display_name": "Python 3",
   "language": "python",
   "name": "python3"
  },
  "language_info": {
   "codemirror_mode": {
    "name": "ipython",
    "version": 3
   },
   "file_extension": ".py",
   "mimetype": "text/x-python",
   "name": "python",
   "nbconvert_exporter": "python",
   "pygments_lexer": "ipython3",
   "version": "3.11.3"
  },
  "orig_nbformat": 4
 },
 "nbformat": 4,
 "nbformat_minor": 2
}
