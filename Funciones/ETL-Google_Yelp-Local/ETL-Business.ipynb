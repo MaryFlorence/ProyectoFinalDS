{
 "cells": [
  {
   "cell_type": "markdown",
   "metadata": {},
   "source": [
    "### Se realizan diferentes transformaciones sobre las distintas columnas con el fin de limpiar los datos y disponibilzarlos para su analisis. Se trabajan sobre los dataframes de Google y Yelp con el fin de unir ambos una vez finalizado el proceso de limpieza.\n"
   ]
  },
  {
   "cell_type": "markdown",
   "metadata": {},
   "source": [
    "## Business Google"
   ]
  },
  {
   "cell_type": "markdown",
   "metadata": {},
   "source": [
    "Debido a la alta demanda de almacenamieto se va a trabajar un solo json de los 11 a manera de ejemplo para mostar las funciones."
   ]
  },
  {
   "cell_type": "code",
   "execution_count": null,
   "metadata": {},
   "outputs": [],
   "source": [
    "import pandas as pd\n",
    "import numpy as np"
   ]
  },
  {
   "cell_type": "code",
   "execution_count": null,
   "metadata": {},
   "outputs": [],
   "source": [
    "df1 = pd.read_json('1.json', lines=True)\n",
    "df2 = pd.read_json('2.json', lines=True)\n",
    "df3 = pd.read_json('3.json', lines=True)\n",
    "df4 = pd.read_json('4.json', lines=True)\n",
    "df5 = pd.read_json('5.json', lines=True)\n",
    "df6 = pd.read_json('6.json', lines=True)\n",
    "df7 = pd.read_json('7.json', lines=True)\n",
    "df8 = pd.read_json('8.json', lines=True)\n",
    "df9 = pd.read_json('9.json', lines=True)\n",
    "df10 = pd.read_json('10.json', lines=True)\n",
    "df11 = pd.read_json('11.json', lines=True)"
   ]
  },
  {
   "cell_type": "code",
   "execution_count": null,
   "metadata": {},
   "outputs": [],
   "source": [
    "df = pd.concat([df1,df2,df3,df4,df5,df6,df7,df8,df9,df10,df11], ignore_index=True)"
   ]
  },
  {
   "cell_type": "code",
   "execution_count": null,
   "metadata": {},
   "outputs": [],
   "source": [
    "# Se eliminan columnas irrelevantes.\n",
    "\n",
    "df = df.drop(columns=['url', 'state', 'relative_results', 'latitude', 'longitude', 'description', 'price', 'hours']) \n"
   ]
  },
  {
   "cell_type": "code",
   "execution_count": null,
   "metadata": {},
   "outputs": [],
   "source": [
    "# Se convierte cada lista de las filas de la columna 'category' en una cadena unida por comas.\n",
    "\n",
    "df['category'] = df['category'].apply(lambda x: ', '.join(x) if isinstance(x, list) else '') "
   ]
  },
  {
   "cell_type": "code",
   "execution_count": null,
   "metadata": {},
   "outputs": [],
   "source": [
    "# Se crea la columna 'city' y se extrae la ciudad de la columna 'addres' diviendo esta mediante la coma y se toma el penultimo elemento.\n",
    "\n",
    "df['city'] = df['address'].apply(lambda x: x.split(', ')[-2] if isinstance(x, str) and ', ' in x else None) "
   ]
  },
  {
   "cell_type": "code",
   "execution_count": null,
   "metadata": {},
   "outputs": [],
   "source": [
    "# Se define una expresion regular para buscar patrones en la columna 'address'. Luego se crea la columna 'state' donde se van a alojar los patrones encontrados.\n",
    "\n",
    "estado_regex = r',\\s*([A-Za-z]{2,})\\s*(\\d{5})?$' \n",
    "\n",
    "df['state'] = df['address'].str.extract(estado_regex, expand=True)[0] "
   ]
  },
  {
   "cell_type": "code",
   "execution_count": null,
   "metadata": {},
   "outputs": [],
   "source": [
    "# Se crea la columna 'zipcode' y meidiante una expresion regular a la columna 'address' se extrae el codigo postal.\n",
    "\n",
    "df['zipcode'] = df['address'].str.extract(r'(\\d+)$') "
   ]
  },
  {
   "cell_type": "code",
   "execution_count": null,
   "metadata": {},
   "outputs": [],
   "source": [
    "# Se aplica una expresion regular a la columna address para traer la direccion del comercio.\n",
    "\n",
    "df['address'] = df['address'].str.extract(r',\\s*(.*?)\\s*,') "
   ]
  },
  {
   "cell_type": "code",
   "execution_count": null,
   "metadata": {},
   "outputs": [],
   "source": [
    "#Se realiza un mapeo en los estados a utilizar, cambiandoles sus siglas por sus nombres.\n",
    "\n",
    "mapeo_estados = {'TX': 'Texas', 'CA': 'California', 'IA': 'Iowa', 'IN': 'Indiana', 'KY':'Kentucky', 'MS':'Mississippi'} \n",
    "\n",
    "df['state'] = df['state'].replace(mapeo_estados) "
   ]
  },
  {
   "cell_type": "code",
   "execution_count": null,
   "metadata": {},
   "outputs": [],
   "source": [
    "# Finalmente filtramos por los estados a usar.\n",
    "\n",
    "estados_requeridos = [\"Texas\", \"California\", \"Indiana\", \"Kentucky\", \"Iowa\", \"Mississippi\"] \n",
    "\n",
    "df = df.loc[df['state'].isin(estados_requeridos), :] "
   ]
  },
  {
   "cell_type": "code",
   "execution_count": null,
   "metadata": {},
   "outputs": [],
   "source": [
    "# Como vamos a trabajar por restaurantes, filtramos las categorias donde aparezcan la palabra 'Restaurant'.\n",
    "\n",
    "palabras_clave = [\"Restaurants\", \"restaurants\", \"Restaurant\", \"restaurant\"] \n",
    "\n",
    "condiciones = df['category'].str.contains('|'.join(palabras_clave), case=False) \n",
    "\n",
    "df7 = df[condiciones] "
   ]
  },
  {
   "cell_type": "code",
   "execution_count": null,
   "metadata": {},
   "outputs": [],
   "source": [
    "# Se establece una funcion que nos recorra el diccionario de cada fila de la columna 'MISC', con el fin de traernos los values de la key 'Service Options' en una nueva columna llamada 'Service Options'\n",
    "\n",
    "def get_service_options(dic): \n",
    "\n",
    "    if isinstance(dic, dict) and \"Service options\" in dic: \n",
    "\n",
    "        return dic[\"Service options\"] \n",
    "\n",
    "    else: \n",
    "\n",
    "        return [] \n",
    "\n",
    "df[\"Service options\"] = df[\"MISC\"].apply(lambda x: get_service_options(x)) "
   ]
  },
  {
   "cell_type": "code",
   "execution_count": null,
   "metadata": {},
   "outputs": [],
   "source": [
    "# Se crea la columna Delivery y se la completa con 1 o 0, dependiendo de la palabra 'Delivery' se encuentra en la columna 'Service Options'.\n",
    "\n",
    "df['Delivery'] = df['Service options'].apply(lambda x: 1 if 'Delivery' in x else 0) "
   ]
  },
  {
   "cell_type": "code",
   "execution_count": null,
   "metadata": {},
   "outputs": [],
   "source": [
    "# Finalmente se eliminan las columnas que no vamos a utilizar mas.\n",
    "\n",
    "df7.drop(columns=['MISC', 'Service options'], inplace=True) "
   ]
  },
  {
   "cell_type": "code",
   "execution_count": null,
   "metadata": {},
   "outputs": [],
   "source": [
    "# Se añade la columna APP y se le ingresa el valor de 'Google' para identificar este df.\n",
    "\n",
    "df['APP'] = 'Google'"
   ]
  },
  {
   "cell_type": "code",
   "execution_count": null,
   "metadata": {},
   "outputs": [],
   "source": [
    "# Se renombran las columnas.\n",
    "\n",
    "df.rename(columns={'gmap_id':'ID_Business', 'avg_rating':'Stars', 'num_of_reviews':'Review_count', 'name':'Name', 'address':'Address', 'category':'Category', 'city':'City', 'state':'State', 'zipcode':'Postal_code'}, inplace=True)"
   ]
  },
  {
   "cell_type": "code",
   "execution_count": null,
   "metadata": {},
   "outputs": [],
   "source": [
    "# Se ordenan las columnas.\n",
    "\n",
    "df = df[['ID_Business', 'Name', 'Address', 'City', 'State', 'Postal_code', 'Category', 'Stars', 'Review_count', 'Delivery', 'APP']]"
   ]
  },
  {
   "cell_type": "markdown",
   "metadata": {},
   "source": [
    "## Yelp Business"
   ]
  },
  {
   "cell_type": "code",
   "execution_count": null,
   "metadata": {},
   "outputs": [],
   "source": [
    "business = pd.read_pickle('business.pkl')"
   ]
  },
  {
   "cell_type": "code",
   "execution_count": null,
   "metadata": {},
   "outputs": [],
   "source": [
    "#Filtramos el dataframe con las columnas únicas ya que el dataframe business tiene columnas duplicadas\n",
    "business_filtro = business.iloc[:, :-14]"
   ]
  },
  {
   "cell_type": "code",
   "execution_count": null,
   "metadata": {},
   "outputs": [],
   "source": [
    "#Eliminamos las columnas que no son relevante para nuestro análisis.\n",
    "business_filtro = business_filtro.drop(columns=['address'])\n",
    "business_filtro = business_filtro.drop(columns=['postal_code'])\n",
    "business_filtro = business_filtro.drop(columns=['hours'])\n",
    "business_filtro = business_filtro.drop(columns=['latitude'])\n",
    "business_filtro = business_filtro.drop(columns=['longitude'])"
   ]
  },
  {
   "cell_type": "code",
   "execution_count": null,
   "metadata": {},
   "outputs": [],
   "source": [
    "# Verificamos que la columna 'categories' no contenga valores nulos\n",
    "business_filtro = business_filtro.dropna(subset=['categories'])\n",
    "\n",
    "# Filtrar las filas que contienen la palabra 'Restaurants' en la columna 'categories'\n",
    "restaurantes_filtrados = business_filtro[business_filtro['categories'].str.contains('Restaurants')]"
   ]
  },
  {
   "cell_type": "code",
   "execution_count": null,
   "metadata": {},
   "outputs": [],
   "source": [
    "# Hacer una copia del DataFrame para evitar la advertencia \"SettingWithCopyWarning\"\n",
    "restaurantes_copia = restaurantes_filtrados.copy()\n",
    "\n",
    "# Aplicar la función str() a cada valor del diccionario en la columna 'attributes' de la copia\n",
    "restaurantes_copia['attributes'] = restaurantes_copia['attributes'].apply(str)\n",
    "\n",
    "# Ahora, la columna 'attributes' de la copia contiene cadenas de texto en lugar de diccionarios\n",
    "\n",
    "# Convertir la columna 'attributes' en una lista de cadenas\n",
    "restaurantes_copia['attributes'] = restaurantes_copia['attributes'].tolist()\n",
    "# Eliminar las llaves '{' y '}' y las comillas simples de cada cadena en la columna 'attributes'\n",
    "restaurantes_copia['attributes'] = restaurantes_copia['attributes'].str.replace('[{}\\'\\']', '', regex=True)\n",
    "# Convertir la columna 'attributes' en una lista de cadenas\n",
    "restaurantes_copia['attributes'] = restaurantes_copia['attributes'].tolist()"
   ]
  },
  {
   "cell_type": "code",
   "execution_count": null,
   "metadata": {},
   "outputs": [],
   "source": [
    "# Definir una función para procesar cada fila de la columna 'attributes' y determinar el valor de 'Delivery'\n",
    "def determine_delivery_value(row):\n",
    "    if pd.notnull(row):\n",
    "        if 'RestaurantsDelivery: False' in row:\n",
    "            return 0\n",
    "        elif 'RestaurantsDelivery: True' in row:\n",
    "            return 1\n",
    "    return False\n",
    "\n",
    "# Aplicar la función para obtener la nueva columna 'Delivery'\n",
    "restaurantes_copia['Delivery'] = restaurantes_copia['attributes'].apply(determine_delivery_value)\n",
    "\n",
    "# Rellenar los valores nulos en la columna 'Delivery' con el valor booleano 'False'\n",
    "restaurantes_copia['Delivery'] = restaurantes_copia['Delivery'].fillna(0)\n",
    "\n",
    "# Ahora, 'restaurantes_copia' contiene la nueva columna 'Delivery' con los valores booleanos según las condiciones especificadas"
   ]
  },
  {
   "cell_type": "code",
   "execution_count": null,
   "metadata": {},
   "outputs": [],
   "source": [
    "# Se elimina la columna 'attributes'\n",
    "\n",
    "restaurantes_copia.drop(columns=['is_open','attributes'], inplace=True)"
   ]
  },
  {
   "cell_type": "code",
   "execution_count": null,
   "metadata": {},
   "outputs": [],
   "source": [
    "mapeo_estados = {'TX': 'Texas', 'CA': 'California', 'IA': 'Iowa', 'IN': 'Indiana', 'KY':'Kentucky', 'MS':'Mississippi'}\n",
    "\n",
    "restaurantes_copia['state'] = restaurantes_copia['state'].replace(mapeo_estados)"
   ]
  },
  {
   "cell_type": "code",
   "execution_count": null,
   "metadata": {},
   "outputs": [],
   "source": [
    "estados_requeridos = [\"Texas\", \"California\", \"Indiana\", \"Kentucky\", \"Iowa\", \"Mississippi\"]\n",
    "restaurantes_copia = restaurantes_copia.loc[restaurantes_copia['state'].isin(estados_requeridos), :]"
   ]
  },
  {
   "cell_type": "code",
   "execution_count": null,
   "metadata": {},
   "outputs": [],
   "source": [
    "# Se renombran las columnas.\n",
    "\n",
    "restaurantes_copia.rename(columns={'business_id\t':'ID_Business', 'stars':'Stars', 'review_count\t':'Review_count', 'name':'Name', 'address':'Address', 'categories':'Category', 'city':'City', 'state':'State', 'postal_code':'Postal_code'}, inplace=True)"
   ]
  },
  {
   "cell_type": "code",
   "execution_count": null,
   "metadata": {},
   "outputs": [],
   "source": [
    "restaurantes_copia['APP'] = 'Yelp'"
   ]
  },
  {
   "cell_type": "code",
   "execution_count": null,
   "metadata": {},
   "outputs": [],
   "source": [
    "# Se ordenan las columnas.\n",
    "\n",
    "restaurantes_copia = restaurantes_copia[['ID_Business', 'Name', 'Address', 'City', 'State', 'Postal_code', 'Category', 'Stars', 'Review_count', 'Delivery', 'APP']]"
   ]
  },
  {
   "cell_type": "code",
   "execution_count": null,
   "metadata": {},
   "outputs": [],
   "source": [
    "# Concatenamos los df.\n",
    "business = pd.concat([df, restaurantes_copia], ignore_index=True)"
   ]
  },
  {
   "cell_type": "code",
   "execution_count": null,
   "metadata": {},
   "outputs": [],
   "source": [
    "# Reseteamos el indice.\n",
    "business = business.reset_index(drop=True)"
   ]
  },
  {
   "cell_type": "markdown",
   "metadata": {},
   "source": [
    "Guardamos los resultados en parquet."
   ]
  },
  {
   "cell_type": "code",
   "execution_count": null,
   "metadata": {},
   "outputs": [],
   "source": [
    "df_google_reviews.to_parquet('business_google_yelp.parquet')"
   ]
  }
 ],
 "metadata": {
  "kernelspec": {
   "display_name": "Python 3",
   "language": "python",
   "name": "python3"
  },
  "language_info": {
   "codemirror_mode": {
    "name": "ipython",
    "version": 3
   },
   "file_extension": ".py",
   "mimetype": "text/x-python",
   "name": "python",
   "nbconvert_exporter": "python",
   "pygments_lexer": "ipython3",
   "version": "3.11.3"
  },
  "orig_nbformat": 4
 },
 "nbformat": 4,
 "nbformat_minor": 2
}
