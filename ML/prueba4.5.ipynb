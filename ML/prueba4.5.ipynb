{
 "cells": [
  {
   "attachments": {},
   "cell_type": "markdown",
   "metadata": {},
   "source": [
    "## IMPORTACIÓN DE LIBRERÍAS"
   ]
  },
  {
   "cell_type": "code",
   "execution_count": 34,
   "metadata": {},
   "outputs": [],
   "source": [
    "import pandas as pd\n",
    "from sklearn.feature_extraction.text import TfidfVectorizer\n",
    "from sklearn.metrics.pairwise import linear_kernel"
   ]
  },
  {
   "attachments": {},
   "cell_type": "markdown",
   "metadata": {},
   "source": [
    "## LECTURA DE DATASET"
   ]
  },
  {
   "cell_type": "code",
   "execution_count": 35,
   "metadata": {},
   "outputs": [
    {
     "name": "stdout",
     "output_type": "stream",
     "text": [
      "tamaño: (1559364, 7)\n"
     ]
    },
    {
     "data": {
      "text/html": [
       "<div>\n",
       "<style scoped>\n",
       "    .dataframe tbody tr th:only-of-type {\n",
       "        vertical-align: middle;\n",
       "    }\n",
       "\n",
       "    .dataframe tbody tr th {\n",
       "        vertical-align: top;\n",
       "    }\n",
       "\n",
       "    .dataframe thead th {\n",
       "        text-align: right;\n",
       "    }\n",
       "</style>\n",
       "<table border=\"1\" class=\"dataframe\">\n",
       "  <thead>\n",
       "    <tr style=\"text-align: right;\">\n",
       "      <th></th>\n",
       "      <th>ID_Business</th>\n",
       "      <th>User_ID</th>\n",
       "      <th>Date</th>\n",
       "      <th>Stars</th>\n",
       "      <th>Text</th>\n",
       "      <th>State</th>\n",
       "      <th>APP</th>\n",
       "    </tr>\n",
       "  </thead>\n",
       "  <tbody>\n",
       "    <tr>\n",
       "      <th>0</th>\n",
       "      <td>0x80858087f7190353:0xad8c8f43264160f2</td>\n",
       "      <td>1.1244409414967329e+20</td>\n",
       "      <td>2014-06-24 22:43:04</td>\n",
       "      <td>5</td>\n",
       "      <td>The only time I've been here was when a friend...</td>\n",
       "      <td>California</td>\n",
       "      <td>Google</td>\n",
       "    </tr>\n",
       "    <tr>\n",
       "      <th>1</th>\n",
       "      <td>0x80858087f7190353:0xad8c8f43264160f2</td>\n",
       "      <td>1.1604993630531707e+20</td>\n",
       "      <td>2011-02-23 00:00:00</td>\n",
       "      <td>4</td>\n",
       "      <td>Don't quite know what to make of Ame.  It's We...</td>\n",
       "      <td>California</td>\n",
       "      <td>Google</td>\n",
       "    </tr>\n",
       "    <tr>\n",
       "      <th>2</th>\n",
       "      <td>0x80858087f7190353:0xad8c8f43264160f2</td>\n",
       "      <td>1.0920514467965426e+20</td>\n",
       "      <td>2012-07-02 05:00:03</td>\n",
       "      <td>5</td>\n",
       "      <td>We tried to reserve a table on a Friday night ...</td>\n",
       "      <td>California</td>\n",
       "      <td>Google</td>\n",
       "    </tr>\n",
       "  </tbody>\n",
       "</table>\n",
       "</div>"
      ],
      "text/plain": [
       "                             ID_Business                 User_ID  \\\n",
       "0  0x80858087f7190353:0xad8c8f43264160f2  1.1244409414967329e+20   \n",
       "1  0x80858087f7190353:0xad8c8f43264160f2  1.1604993630531707e+20   \n",
       "2  0x80858087f7190353:0xad8c8f43264160f2  1.0920514467965426e+20   \n",
       "\n",
       "                 Date  Stars  \\\n",
       "0 2014-06-24 22:43:04      5   \n",
       "1 2011-02-23 00:00:00      4   \n",
       "2 2012-07-02 05:00:03      5   \n",
       "\n",
       "                                                Text       State     APP  \n",
       "0  The only time I've been here was when a friend...  California  Google  \n",
       "1  Don't quite know what to make of Ame.  It's We...  California  Google  \n",
       "2  We tried to reserve a table on a Friday night ...  California  Google  "
      ]
     },
     "execution_count": 35,
     "metadata": {},
     "output_type": "execute_result"
    }
   ],
   "source": [
    "df = pd.read_parquet('reviews_google_yelp.parquet')\n",
    "print('tamaño:', df.shape)\n",
    "# Reseteamos el índice\n",
    "df = df.reset_index(drop=True)\n",
    "df.head(3)"
   ]
  },
  {
   "cell_type": "code",
   "execution_count": 36,
   "metadata": {},
   "outputs": [
    {
     "name": "stdout",
     "output_type": "stream",
     "text": [
      "tamaño: (58337, 11)\n"
     ]
    },
    {
     "data": {
      "text/html": [
       "<div>\n",
       "<style scoped>\n",
       "    .dataframe tbody tr th:only-of-type {\n",
       "        vertical-align: middle;\n",
       "    }\n",
       "\n",
       "    .dataframe tbody tr th {\n",
       "        vertical-align: top;\n",
       "    }\n",
       "\n",
       "    .dataframe thead th {\n",
       "        text-align: right;\n",
       "    }\n",
       "</style>\n",
       "<table border=\"1\" class=\"dataframe\">\n",
       "  <thead>\n",
       "    <tr style=\"text-align: right;\">\n",
       "      <th></th>\n",
       "      <th>ID_Business</th>\n",
       "      <th>Name</th>\n",
       "      <th>Address</th>\n",
       "      <th>City</th>\n",
       "      <th>State</th>\n",
       "      <th>Postal_code</th>\n",
       "      <th>Category</th>\n",
       "      <th>Stars</th>\n",
       "      <th>Review_count</th>\n",
       "      <th>Delivery</th>\n",
       "      <th>APP</th>\n",
       "    </tr>\n",
       "  </thead>\n",
       "  <tbody>\n",
       "    <tr>\n",
       "      <th>0</th>\n",
       "      <td>0x8644b5f995211beb:0x489b703481320404</td>\n",
       "      <td>Fresh Off The Truck</td>\n",
       "      <td>Mueller Trailer Eatery</td>\n",
       "      <td>Austin</td>\n",
       "      <td>Texas</td>\n",
       "      <td>78723</td>\n",
       "      <td>Caterer, Restaurant</td>\n",
       "      <td>5.0</td>\n",
       "      <td>8</td>\n",
       "      <td>1</td>\n",
       "      <td>Google</td>\n",
       "    </tr>\n",
       "    <tr>\n",
       "      <th>1</th>\n",
       "      <td>0x8640c7ac849faf11:0x8bf1fc28adff27ae</td>\n",
       "      <td>Tacos Bendicion de Dios</td>\n",
       "      <td>5301 Antoine Dr</td>\n",
       "      <td>Houston</td>\n",
       "      <td>Texas</td>\n",
       "      <td>77091</td>\n",
       "      <td>Restaurant</td>\n",
       "      <td>5.0</td>\n",
       "      <td>1</td>\n",
       "      <td>1</td>\n",
       "      <td>Google</td>\n",
       "    </tr>\n",
       "    <tr>\n",
       "      <th>2</th>\n",
       "      <td>0x80c2bf3b638a7d29:0x9d350fcca7b5560e</td>\n",
       "      <td>Pizza Al Forno</td>\n",
       "      <td>6541 Hollywood Blvd</td>\n",
       "      <td>Los Angeles</td>\n",
       "      <td>California</td>\n",
       "      <td>90028</td>\n",
       "      <td>Pizza restaurant</td>\n",
       "      <td>3.3</td>\n",
       "      <td>6</td>\n",
       "      <td>1</td>\n",
       "      <td>Google</td>\n",
       "    </tr>\n",
       "  </tbody>\n",
       "</table>\n",
       "</div>"
      ],
      "text/plain": [
       "                             ID_Business                     Name  \\\n",
       "0  0x8644b5f995211beb:0x489b703481320404      Fresh Off The Truck   \n",
       "1  0x8640c7ac849faf11:0x8bf1fc28adff27ae  Tacos Bendicion de Dios   \n",
       "2  0x80c2bf3b638a7d29:0x9d350fcca7b5560e           Pizza Al Forno   \n",
       "\n",
       "                  Address         City       State Postal_code  \\\n",
       "0  Mueller Trailer Eatery       Austin       Texas       78723   \n",
       "1         5301 Antoine Dr      Houston       Texas       77091   \n",
       "2     6541 Hollywood Blvd  Los Angeles  California       90028   \n",
       "\n",
       "              Category  Stars  Review_count  Delivery     APP  \n",
       "0  Caterer, Restaurant    5.0             8         1  Google  \n",
       "1           Restaurant    5.0             1         1  Google  \n",
       "2     Pizza restaurant    3.3             6         1  Google  "
      ]
     },
     "execution_count": 36,
     "metadata": {},
     "output_type": "execute_result"
    }
   ],
   "source": [
    "df_business = pd.read_parquet('business_google_yelp.parquet')\n",
    "print('tamaño:', df_business.shape)\n",
    "df_business.head(3)"
   ]
  },
  {
   "attachments": {},
   "cell_type": "markdown",
   "metadata": {},
   "source": [
    "## ELIMINACIÓN DE RESEÑAS DEL MISMO USUARIO"
   ]
  },
  {
   "cell_type": "code",
   "execution_count": 37,
   "metadata": {},
   "outputs": [
    {
     "name": "stdout",
     "output_type": "stream",
     "text": [
      "tamaño: (1512419, 7)\n"
     ]
    },
    {
     "data": {
      "text/html": [
       "<div>\n",
       "<style scoped>\n",
       "    .dataframe tbody tr th:only-of-type {\n",
       "        vertical-align: middle;\n",
       "    }\n",
       "\n",
       "    .dataframe tbody tr th {\n",
       "        vertical-align: top;\n",
       "    }\n",
       "\n",
       "    .dataframe thead th {\n",
       "        text-align: right;\n",
       "    }\n",
       "</style>\n",
       "<table border=\"1\" class=\"dataframe\">\n",
       "  <thead>\n",
       "    <tr style=\"text-align: right;\">\n",
       "      <th></th>\n",
       "      <th>ID_Business</th>\n",
       "      <th>User_ID</th>\n",
       "      <th>Date</th>\n",
       "      <th>Stars</th>\n",
       "      <th>Text</th>\n",
       "      <th>State</th>\n",
       "      <th>APP</th>\n",
       "    </tr>\n",
       "  </thead>\n",
       "  <tbody>\n",
       "    <tr>\n",
       "      <th>0</th>\n",
       "      <td>i_kM6kP4u4Wxr3o3_9XN_A</td>\n",
       "      <td>PLyOKlWMEw1SJ0RhEsVtsw</td>\n",
       "      <td>2022-01-19 19:45:43</td>\n",
       "      <td>5</td>\n",
       "      <td>One of the best sushi places I've eaten at!! I...</td>\n",
       "      <td>Indiana</td>\n",
       "      <td>Yelp</td>\n",
       "    </tr>\n",
       "    <tr>\n",
       "      <th>1</th>\n",
       "      <td>7ZV31rGcDaT1pUKyvJF9Mg</td>\n",
       "      <td>jCFYwSOZOUs1-3Nxab3GdQ</td>\n",
       "      <td>2022-01-19 19:25:48</td>\n",
       "      <td>5</td>\n",
       "      <td>I am so thankful that the founder of La Boulan...</td>\n",
       "      <td>Indiana</td>\n",
       "      <td>Yelp</td>\n",
       "    </tr>\n",
       "    <tr>\n",
       "      <th>2</th>\n",
       "      <td>2SYEGA2fZLdzZQ9lmIfM5Q</td>\n",
       "      <td>NyvEE19AZsgCdnX4Q0fB-w</td>\n",
       "      <td>2022-01-19 19:03:21</td>\n",
       "      <td>5</td>\n",
       "      <td>Came here on a Friday night after a small road...</td>\n",
       "      <td>California</td>\n",
       "      <td>Yelp</td>\n",
       "    </tr>\n",
       "  </tbody>\n",
       "</table>\n",
       "</div>"
      ],
      "text/plain": [
       "              ID_Business                 User_ID                Date  Stars  \\\n",
       "0  i_kM6kP4u4Wxr3o3_9XN_A  PLyOKlWMEw1SJ0RhEsVtsw 2022-01-19 19:45:43      5   \n",
       "1  7ZV31rGcDaT1pUKyvJF9Mg  jCFYwSOZOUs1-3Nxab3GdQ 2022-01-19 19:25:48      5   \n",
       "2  2SYEGA2fZLdzZQ9lmIfM5Q  NyvEE19AZsgCdnX4Q0fB-w 2022-01-19 19:03:21      5   \n",
       "\n",
       "                                                Text       State   APP  \n",
       "0  One of the best sushi places I've eaten at!! I...     Indiana  Yelp  \n",
       "1  I am so thankful that the founder of La Boulan...     Indiana  Yelp  \n",
       "2  Came here on a Friday night after a small road...  California  Yelp  "
      ]
     },
     "execution_count": 37,
     "metadata": {},
     "output_type": "execute_result"
    }
   ],
   "source": [
    "# Ordenamos el DataFrame por 'Date' en orden descendente\n",
    "df_general = df.sort_values(by='Date', ascending=False)\n",
    "\n",
    "# Eliminamos calificaciones repetidas del mismo lugar por el mismo usuario, conservando la calificación más reciente\n",
    "df_general = df_general.drop_duplicates(subset=['ID_Business', 'User_ID'])\n",
    "\n",
    "# Reseteamos el índice\n",
    "df_general = df_general.reset_index(drop=True)\n",
    "\n",
    "print('tamaño:', df_general.shape)\n",
    "df_general.head(3)"
   ]
  },
  {
   "attachments": {},
   "cell_type": "markdown",
   "metadata": {},
   "source": [
    "## FUNCIÓN PARA OBTENER LOS LUGARES QUE VISITÓ EL USUARIO"
   ]
  },
  {
   "cell_type": "code",
   "execution_count": 38,
   "metadata": {},
   "outputs": [],
   "source": [
    "def get_business_user(user_id):\n",
    "    # Se ingresa un 'User_ID' y retorna un DataFrame con los negocios que visitó que tengan mayor o igual a 4 estrellas\n",
    "\n",
    "    s = df_general[df_general['User_ID']==user_id]\n",
    "    e = s[s['Stars']>=4]\n",
    "\n",
    "    return set(e['ID_Business'])"
   ]
  },
  {
   "attachments": {},
   "cell_type": "markdown",
   "metadata": {},
   "source": [
    "## PRUEBA DE LLAMADA A LA FUNCIÓN"
   ]
  },
  {
   "cell_type": "code",
   "execution_count": 39,
   "metadata": {},
   "outputs": [
    {
     "data": {
      "text/plain": [
       "{'2g3rvWWSD26WQEmK-iYj3A',\n",
       " '2s5h1TMhYPdRUUNcQFr3WA',\n",
       " '4TleqRlbwgXcIgz33HjLJQ',\n",
       " '4hv1n1VBzMvE-T4UtIcOcw',\n",
       " '7haOE61-G8VkOfFgS9mWLA',\n",
       " '8crVeVL3pi8OFRj9c_3vxQ',\n",
       " 'BHrKTazoosZdYUm2brFVaA',\n",
       " 'CftOliRKBvSPABNzt49pdQ',\n",
       " 'E01_x43vPxeOQ9MFbhSKDQ',\n",
       " 'EKSmnS-fup3HNFLR9J17mQ',\n",
       " 'JUlsvVAvZvGHWFfkKm0nlg',\n",
       " 'O1XwKgUYNI_YBXnOqgaTaw',\n",
       " 'PeQjA9ciksbpvp4HoU84tQ',\n",
       " 'PiQVIJI92Z9O37jg9YMyPw',\n",
       " 'PwHa_x_kUykiJBg1Vo1BiQ',\n",
       " 'QWqKTWQ2OiDgo3dzNkpung',\n",
       " 'QXGnmsKYANxOyZBqM-zlJA',\n",
       " 'Qw7tz-UkPrpXaVidWuab4Q',\n",
       " 'S8ZFYEgMejpChID8tzKo9A',\n",
       " 'VJpuuNZ8QXR2zTHIhB0yhw',\n",
       " 'WK7ZL3iyTjxjBILrnXTjmQ',\n",
       " 'WltG6PWu0zRTTUpWne3W8w',\n",
       " 'XvV9B9Y4YfVVehSVkX6Ulg',\n",
       " 'Y6K9DT44-4Md-ycMkC0nLg',\n",
       " 'ZRCY1Y3V4ikJs8K7yZ554A',\n",
       " 'ZRb203peHsQKibqyKqZaGg',\n",
       " '_PvljXZHQlUmL8SuOXF8ug',\n",
       " 'fzNz9cPexB7PuhUGwygbPQ',\n",
       " 'k4U4QTDGYp_4UEfAR56zCA',\n",
       " 'k8SvXoV6TFMTfrRsvzJ6uA',\n",
       " 'mGpX6RCSA-7_EkE2zxl-KQ',\n",
       " 'nXx6nOAqC0DqVCUObuUsMA',\n",
       " 'onp9X_9RRAEzA-yqdiSOcA',\n",
       " 'or_WcjWELDsssk2JruvJcg',\n",
       " 'pJtvP5aHophr2gjIVvX-YA',\n",
       " 'pe5ZkiVbgg4GmzPjZ999Lg',\n",
       " 'pnWpIvIsNnp6S2BW0pyreg',\n",
       " 'qfWJmJ0g96eM_fWma3ja0g',\n",
       " 'tNnVxOC_9p8UK3N_2-yCtQ',\n",
       " 'vSQPjQYfMDBRS3bQ15zlGA',\n",
       " 'vtSisxaozZ7HWpBl_W7VaQ',\n",
       " 'wMJlbZt2vOTG_FV96gkRVA',\n",
       " 'wlYV0aohTpwfKyIM5uXPeA',\n",
       " 'xhBnVZhXeJx_Ys9Q4vvOmA'}"
      ]
     },
     "execution_count": 39,
     "metadata": {},
     "output_type": "execute_result"
    }
   ],
   "source": [
    "business_user = get_business_user('6s-g2vFu12OemhiK3FJuOQ')\n",
    "business_user"
   ]
  },
  {
   "attachments": {},
   "cell_type": "markdown",
   "metadata": {},
   "source": [
    "## FUNCIÓN PARA OBTENER EL TOP DE LUGARES DE UN ESTADO"
   ]
  },
  {
   "cell_type": "code",
   "execution_count": 40,
   "metadata": {},
   "outputs": [],
   "source": [
    "def get_top_business_state1(state):\n",
    "    top = df_general[df_general['State'] == state]\n",
    "    top = top.groupby('ID_Business', as_index = False)['Stars'].mean()\n",
    "    top = set(top[top['Stars']==5]['ID_Business'])\n",
    "    return top "
   ]
  },
  {
   "cell_type": "code",
   "execution_count": 41,
   "metadata": {},
   "outputs": [],
   "source": [
    "def get_top_business_state2(state):\n",
    "    # Filtramos el dataset por estado:\n",
    "    top = df_business[df_business['State'] == state]\n",
    "    # Para evitar un posible sesgo, solo tomaremos negocios que tengan un mínimo de 15 reseñas:\n",
    "    top = top[top['Review_count']>=15]\n",
    "    # Por último, nos quedaremos con aquellos negocios que tengan un mínimo de 4.5 estrellas de promedio:\n",
    "    top = set(top[top['Stars']>=4.5]['ID_Business'])\n",
    "    \n",
    "    return top "
   ]
  },
  {
   "cell_type": "code",
   "execution_count": 42,
   "metadata": {},
   "outputs": [],
   "source": [
    "# FUNCIÓN PARA OBTENER UNA TABLA DE 5 FILAS DE ID DE NEGOCIOS CON SUS REVIEWS:\n",
    "def get_tabla_idnegocio_reviews(id_negocios):\n",
    "    tabla_idnegocio_reviews = df_general[df_general['ID_Business'].isin(id_negocios)]\n",
    "    \n",
    "    tabla_idnegocio_reviews = tabla_idnegocio_reviews[tabla_idnegocio_reviews['Stars']>=4.5]\n",
    "    tabla_idnegocio_reviews = tabla_idnegocio_reviews[tabla_idnegocio_reviews['Text'] != 'No text']\n",
    "\n",
    "    # Ordenamos el DataFrame por 'ID_Business' y 'Date' de manera descendente:\n",
    "    tabla_idnegocio_reviews = tabla_idnegocio_reviews.sort_values(by=['ID_Business', 'Date'], ascending=[True, False])\n",
    "\n",
    "    # Agrupamos por 'ID_Business' y seleccionamos las primeras 5 filas de cada grupo:\n",
    "    tabla_idnegocio_reviews = tabla_idnegocio_reviews.groupby('ID_Business').head(5)\n",
    "\n",
    "\n",
    "    tabla_idnegocio_reviews = tabla_idnegocio_reviews[['ID_Business', 'Text']]\n",
    "    \n",
    "    return tabla_idnegocio_reviews\n"
   ]
  },
  {
   "cell_type": "code",
   "execution_count": 43,
   "metadata": {},
   "outputs": [
    {
     "data": {
      "text/html": [
       "<div>\n",
       "<style scoped>\n",
       "    .dataframe tbody tr th:only-of-type {\n",
       "        vertical-align: middle;\n",
       "    }\n",
       "\n",
       "    .dataframe tbody tr th {\n",
       "        vertical-align: top;\n",
       "    }\n",
       "\n",
       "    .dataframe thead th {\n",
       "        text-align: right;\n",
       "    }\n",
       "</style>\n",
       "<table border=\"1\" class=\"dataframe\">\n",
       "  <thead>\n",
       "    <tr style=\"text-align: right;\">\n",
       "      <th></th>\n",
       "      <th>ID_Business</th>\n",
       "      <th>Text</th>\n",
       "    </tr>\n",
       "  </thead>\n",
       "  <tbody>\n",
       "    <tr>\n",
       "      <th>490320</th>\n",
       "      <td>0IheZIsRS5tejvxocP18mQ</td>\n",
       "      <td>There are 3 halal food trucks across from the ...</td>\n",
       "    </tr>\n",
       "    <tr>\n",
       "      <th>1014067</th>\n",
       "      <td>0IheZIsRS5tejvxocP18mQ</td>\n",
       "      <td>This food cart is the best one yet. The three ...</td>\n",
       "    </tr>\n",
       "    <tr>\n",
       "      <th>1140929</th>\n",
       "      <td>0IheZIsRS5tejvxocP18mQ</td>\n",
       "      <td>They are reliable when you want something quic...</td>\n",
       "    </tr>\n",
       "    <tr>\n",
       "      <th>1180604</th>\n",
       "      <td>0IheZIsRS5tejvxocP18mQ</td>\n",
       "      <td>Quick and delicious! There's so many food truc...</td>\n",
       "    </tr>\n",
       "    <tr>\n",
       "      <th>1280037</th>\n",
       "      <td>0IheZIsRS5tejvxocP18mQ</td>\n",
       "      <td>I frequently crave this since I've moved out o...</td>\n",
       "    </tr>\n",
       "  </tbody>\n",
       "</table>\n",
       "</div>"
      ],
      "text/plain": [
       "                    ID_Business  \\\n",
       "490320   0IheZIsRS5tejvxocP18mQ   \n",
       "1014067  0IheZIsRS5tejvxocP18mQ   \n",
       "1140929  0IheZIsRS5tejvxocP18mQ   \n",
       "1180604  0IheZIsRS5tejvxocP18mQ   \n",
       "1280037  0IheZIsRS5tejvxocP18mQ   \n",
       "\n",
       "                                                      Text  \n",
       "490320   There are 3 halal food trucks across from the ...  \n",
       "1014067  This food cart is the best one yet. The three ...  \n",
       "1140929  They are reliable when you want something quic...  \n",
       "1180604  Quick and delicious! There's so many food truc...  \n",
       "1280037  I frequently crave this since I've moved out o...  "
      ]
     },
     "execution_count": 43,
     "metadata": {},
     "output_type": "execute_result"
    }
   ],
   "source": [
    "get_tabla_idnegocio_reviews(['0IheZIsRS5tejvxocP18mQ'])"
   ]
  },
  {
   "attachments": {},
   "cell_type": "markdown",
   "metadata": {},
   "source": [
    "## LLAMANDO A LA FUNCIÓN"
   ]
  },
  {
   "cell_type": "code",
   "execution_count": 44,
   "metadata": {},
   "outputs": [
    {
     "data": {
      "text/plain": [
       "{'-788YqeAedOZseDJOo7kfQ',\n",
       " '0IheZIsRS5tejvxocP18mQ',\n",
       " '0jDPdf7kIkjZuNDNVH8Qew',\n",
       " '0x8811871076727871:0xc297aaeecae97a92',\n",
       " '0x8811eba41b1ae139:0xbfe6db405bd07870',\n",
       " '0x8814db08416a2423:0x575748da63553448',\n",
       " '0x886b43f6faa8e699:0x7a9d728e33e33f5e',\n",
       " '0x886b50920817545d:0x7d843fcca49569a8',\n",
       " '0x886b538da784b4e5:0xa845ca9abd40f8d3',\n",
       " '4xcsIgbYhG54418KkAVWow',\n",
       " '5CNmglbq_YAAbu7Fsy4PKw',\n",
       " '5jXiZ23pb-xf457uNM2yZg',\n",
       " '6qHInhFcFigPhTh822qJpg',\n",
       " 'AxtOW_b6a6iuojs_ObGpzA',\n",
       " 'Cez_QloMCaeaXfGbKtQ3Pg',\n",
       " 'ChbVjsP8S_hPb93Qb2t09A',\n",
       " 'DPih_TVOcKR-CyA6K13j9w',\n",
       " 'FzsdmAlIGU8xsK4IcdBEMg',\n",
       " 'MDePpQWpv0vgaO3oi_pxOg',\n",
       " 'MUQGkZQqPx5dpM6yhajkDQ',\n",
       " 'OQSihGXRZqKMeW5vSNVwhQ',\n",
       " 'Psf1p-qzz1nnNlN6RepawQ',\n",
       " 'Pz8L8B8Ig-0aD21-z_vDQQ',\n",
       " 'Q0fM4AFRmc35ky8rY28xmA',\n",
       " 'RK6-cJ9hj53RzOlCBmpT-g',\n",
       " 'TxMN_VTVsyv_482VHJkfIA',\n",
       " 'VOi8E3DYV1cHvJy5RinGwA',\n",
       " 'VhupSRgSHupX87HcRNAcHg',\n",
       " 'YbpNzwI5iBvsBDwdwc9Mmg',\n",
       " '_KqbkPAOI0s2ss0m-ucF5A',\n",
       " 'hNYgEnEfGAvHyuHuMHsWMQ',\n",
       " 'ib1OFx4VYp-UUVpwMKVw5A',\n",
       " 'kUJBWLIOLrCSVd6878h80g',\n",
       " 'lqQxSrrlTCBn15Y8_XiChw',\n",
       " 'p08guKw-66hwQTiskaAYiA',\n",
       " 'pF0R_ub8Wdh0ZqeYi1Ig4w',\n",
       " 'pn-ZjLcRvHKNpdookxK_ig',\n",
       " 'yX-eHIG--H3geTNWZ2Q6SA',\n",
       " 'y_ARS17yh-kxG5Ck7L_kVg',\n",
       " 'z4mFibKh-XIoZ6XYOb6M8g',\n",
       " 'zoAZydP_v380Yydf-2u3hw'}"
      ]
     },
     "execution_count": 44,
     "metadata": {},
     "output_type": "execute_result"
    }
   ],
   "source": [
    "top_business_state = get_top_business_state1('Indiana')\n",
    "top_business_state"
   ]
  },
  {
   "cell_type": "code",
   "execution_count": 45,
   "metadata": {},
   "outputs": [
    {
     "name": "stdout",
     "output_type": "stream",
     "text": [
      "tamaño: (6433, 2)\n"
     ]
    },
    {
     "data": {
      "text/html": [
       "<div>\n",
       "<style scoped>\n",
       "    .dataframe tbody tr th:only-of-type {\n",
       "        vertical-align: middle;\n",
       "    }\n",
       "\n",
       "    .dataframe tbody tr th {\n",
       "        vertical-align: top;\n",
       "    }\n",
       "\n",
       "    .dataframe thead th {\n",
       "        text-align: right;\n",
       "    }\n",
       "</style>\n",
       "<table border=\"1\" class=\"dataframe\">\n",
       "  <thead>\n",
       "    <tr style=\"text-align: right;\">\n",
       "      <th></th>\n",
       "      <th>ID_Business</th>\n",
       "      <th>Text</th>\n",
       "    </tr>\n",
       "  </thead>\n",
       "  <tbody>\n",
       "    <tr>\n",
       "      <th>893</th>\n",
       "      <td>-1XSzguS6XLN-V6MVZMg2A</td>\n",
       "      <td>After Hurricane Ida, life became a little hect...</td>\n",
       "    </tr>\n",
       "    <tr>\n",
       "      <th>1111</th>\n",
       "      <td>-1XSzguS6XLN-V6MVZMg2A</td>\n",
       "      <td>We had a wonderful experience at Restaurant Re...</td>\n",
       "    </tr>\n",
       "    <tr>\n",
       "      <th>1187</th>\n",
       "      <td>-1XSzguS6XLN-V6MVZMg2A</td>\n",
       "      <td>I ate here two nights in a row. The first nigh...</td>\n",
       "    </tr>\n",
       "  </tbody>\n",
       "</table>\n",
       "</div>"
      ],
      "text/plain": [
       "                 ID_Business  \\\n",
       "893   -1XSzguS6XLN-V6MVZMg2A   \n",
       "1111  -1XSzguS6XLN-V6MVZMg2A   \n",
       "1187  -1XSzguS6XLN-V6MVZMg2A   \n",
       "\n",
       "                                                   Text  \n",
       "893   After Hurricane Ida, life became a little hect...  \n",
       "1111  We had a wonderful experience at Restaurant Re...  \n",
       "1187  I ate here two nights in a row. The first nigh...  "
      ]
     },
     "execution_count": 45,
     "metadata": {},
     "output_type": "execute_result"
    }
   ],
   "source": [
    "s = get_top_business_state2('Indiana')\n",
    "e = get_tabla_idnegocio_reviews(s)\n",
    "print('tamaño:', e.shape)\n",
    "e.head(3)"
   ]
  },
  {
   "attachments": {},
   "cell_type": "markdown",
   "metadata": {},
   "source": [
    "## FUNCIÓN PARA OBTENER LOS STATES DEL User_ID"
   ]
  },
  {
   "cell_type": "code",
   "execution_count": 46,
   "metadata": {},
   "outputs": [],
   "source": [
    "def get_states(User_ID):\n",
    "    return list(df_general[df_general['User_ID'] == User_ID]['State'].unique())"
   ]
  },
  {
   "attachments": {},
   "cell_type": "markdown",
   "metadata": {},
   "source": [
    "## LLAMANDO A LA FUNCIÓN"
   ]
  },
  {
   "cell_type": "code",
   "execution_count": 47,
   "metadata": {},
   "outputs": [
    {
     "data": {
      "text/plain": [
       "['California', 'Indiana']"
      ]
     },
     "execution_count": 47,
     "metadata": {},
     "output_type": "execute_result"
    }
   ],
   "source": [
    "get_states('6s-g2vFu12OemhiK3FJuOQ')"
   ]
  },
  {
   "attachments": {},
   "cell_type": "markdown",
   "metadata": {},
   "source": [
    "## FUNCIÓN PARA CONVERTIR UNA LISTA DE ID_Business A UNA LISTA DE SUS NOMBRES DE NEGOCIO RESPECTIVOS"
   ]
  },
  {
   "cell_type": "code",
   "execution_count": 48,
   "metadata": {},
   "outputs": [],
   "source": [
    "# Modificación por Hernán:\n",
    "def nombre_negocio(lista_ids):\n",
    "    df_business = pd.read_parquet('business_google_yelp.parquet')\n",
    "    recomendacion_texto2 = []\n",
    "    for id in lista_ids:\n",
    "        s = df_business[df_business['ID_Business'] == id]\n",
    "        e = s['Name'].to_list()[0]\n",
    "        recomendacion_texto2.append(e)\n",
    "    return recomendacion_texto2"
   ]
  },
  {
   "attachments": {},
   "cell_type": "markdown",
   "metadata": {},
   "source": [
    "## LLAMANDO A LA FUNCIÓN"
   ]
  },
  {
   "cell_type": "code",
   "execution_count": 49,
   "metadata": {},
   "outputs": [
    {
     "data": {
      "text/plain": [
       "['Crush Gourmet Raspados',\n",
       " 'Taqueria Los Poblanos',\n",
       " 'Graze Away Florida Charcuterie Boards with a Twist',\n",
       " 'Taba Brew',\n",
       " 'Onur Food Market']"
      ]
     },
     "execution_count": 49,
     "metadata": {},
     "output_type": "execute_result"
    }
   ],
   "source": [
    "nombre_negocio(['yX-eHIG--H3geTNWZ2Q6SA',\n",
    "  'Cez_QloMCaeaXfGbKtQ3Pg',\n",
    "  '6qHInhFcFigPhTh822qJpg',\n",
    "  'AxtOW_b6a6iuojs_ObGpzA',\n",
    "  '-788YqeAedOZseDJOo7kfQ'])"
   ]
  },
  {
   "attachments": {},
   "cell_type": "markdown",
   "metadata": {},
   "source": [
    "## FUNCIÓN PARA OBTENER LA RESEÑA QUE MEJOR HAYA CALIFICADO UN USUARIO:"
   ]
  },
  {
   "cell_type": "code",
   "execution_count": 50,
   "metadata": {},
   "outputs": [],
   "source": [
    "# Se ingresa un id de usuario y retorna la reseña que mejor haya calificado \n",
    "# (si hay varias entonces se retornará la más reciente):\n",
    "\n",
    "def get_mejor_calificacion(id_usuario):\n",
    "    mejor_calificacion = df_general[df_general['User_ID'] == id_usuario]\n",
    "    mejor_calificacion = mejor_calificacion.sort_values(by = ['Stars', 'Date'], ascending = False)\n",
    "    mejor_calificacion = mejor_calificacion['Text'].head(1).to_list()[0]\n",
    "    return mejor_calificacion    "
   ]
  },
  {
   "attachments": {},
   "cell_type": "markdown",
   "metadata": {},
   "source": [
    "## LLAMANDO A LA FUNCIÓN"
   ]
  },
  {
   "cell_type": "code",
   "execution_count": 51,
   "metadata": {},
   "outputs": [
    {
     "data": {
      "text/html": [
       "<div>\n",
       "<style scoped>\n",
       "    .dataframe tbody tr th:only-of-type {\n",
       "        vertical-align: middle;\n",
       "    }\n",
       "\n",
       "    .dataframe tbody tr th {\n",
       "        vertical-align: top;\n",
       "    }\n",
       "\n",
       "    .dataframe thead th {\n",
       "        text-align: right;\n",
       "    }\n",
       "</style>\n",
       "<table border=\"1\" class=\"dataframe\">\n",
       "  <thead>\n",
       "    <tr style=\"text-align: right;\">\n",
       "      <th></th>\n",
       "      <th>ID_Business</th>\n",
       "      <th>User_ID</th>\n",
       "      <th>Date</th>\n",
       "      <th>Stars</th>\n",
       "      <th>Text</th>\n",
       "      <th>State</th>\n",
       "      <th>APP</th>\n",
       "    </tr>\n",
       "  </thead>\n",
       "  <tbody>\n",
       "    <tr>\n",
       "      <th>1</th>\n",
       "      <td>7ZV31rGcDaT1pUKyvJF9Mg</td>\n",
       "      <td>jCFYwSOZOUs1-3Nxab3GdQ</td>\n",
       "      <td>2022-01-19 19:25:48</td>\n",
       "      <td>5</td>\n",
       "      <td>I am so thankful that the founder of La Boulan...</td>\n",
       "      <td>Indiana</td>\n",
       "      <td>Yelp</td>\n",
       "    </tr>\n",
       "    <tr>\n",
       "      <th>20</th>\n",
       "      <td>hfbZ97Te3T4jeWN6GgsGrQ</td>\n",
       "      <td>jCFYwSOZOUs1-3Nxab3GdQ</td>\n",
       "      <td>2022-01-19 16:36:25</td>\n",
       "      <td>5</td>\n",
       "      <td>I've been wanting to visit Willa Jean for the ...</td>\n",
       "      <td>California</td>\n",
       "      <td>Yelp</td>\n",
       "    </tr>\n",
       "    <tr>\n",
       "      <th>200635</th>\n",
       "      <td>QIYVaE6qrgAYHV6aJhqfJQ</td>\n",
       "      <td>jCFYwSOZOUs1-3Nxab3GdQ</td>\n",
       "      <td>2020-12-07 22:13:30</td>\n",
       "      <td>5</td>\n",
       "      <td>Oh my WORD, the food was phenomenal! We ordere...</td>\n",
       "      <td>California</td>\n",
       "      <td>Yelp</td>\n",
       "    </tr>\n",
       "    <tr>\n",
       "      <th>313905</th>\n",
       "      <td>26jYcdFR5oLqKDKpTH0JIQ</td>\n",
       "      <td>jCFYwSOZOUs1-3Nxab3GdQ</td>\n",
       "      <td>2020-06-04 18:47:02</td>\n",
       "      <td>5</td>\n",
       "      <td>Where do I even begin? This is THE place for c...</td>\n",
       "      <td>Indiana</td>\n",
       "      <td>Yelp</td>\n",
       "    </tr>\n",
       "    <tr>\n",
       "      <th>539260</th>\n",
       "      <td>IMWoj619K8ezUmFP8ktXEg</td>\n",
       "      <td>jCFYwSOZOUs1-3Nxab3GdQ</td>\n",
       "      <td>2019-08-11 17:24:13</td>\n",
       "      <td>5</td>\n",
       "      <td>If you happen to be near Banh Mi Boys and hung...</td>\n",
       "      <td>California</td>\n",
       "      <td>Yelp</td>\n",
       "    </tr>\n",
       "    <tr>\n",
       "      <th>567807</th>\n",
       "      <td>mhrW9O0O5hXGXGnEYBVoag</td>\n",
       "      <td>jCFYwSOZOUs1-3Nxab3GdQ</td>\n",
       "      <td>2019-07-16 16:57:19</td>\n",
       "      <td>3</td>\n",
       "      <td>I wasn't impressed by Jacques-Imo's. The staff...</td>\n",
       "      <td>California</td>\n",
       "      <td>Yelp</td>\n",
       "    </tr>\n",
       "    <tr>\n",
       "      <th>573386</th>\n",
       "      <td>FAvEJQ0E7n4f_Wasg9UvEw</td>\n",
       "      <td>jCFYwSOZOUs1-3Nxab3GdQ</td>\n",
       "      <td>2019-07-11 15:16:50</td>\n",
       "      <td>5</td>\n",
       "      <td>This is one of the best Mediterranean places i...</td>\n",
       "      <td>California</td>\n",
       "      <td>Yelp</td>\n",
       "    </tr>\n",
       "  </tbody>\n",
       "</table>\n",
       "</div>"
      ],
      "text/plain": [
       "                   ID_Business                 User_ID                Date  \\\n",
       "1       7ZV31rGcDaT1pUKyvJF9Mg  jCFYwSOZOUs1-3Nxab3GdQ 2022-01-19 19:25:48   \n",
       "20      hfbZ97Te3T4jeWN6GgsGrQ  jCFYwSOZOUs1-3Nxab3GdQ 2022-01-19 16:36:25   \n",
       "200635  QIYVaE6qrgAYHV6aJhqfJQ  jCFYwSOZOUs1-3Nxab3GdQ 2020-12-07 22:13:30   \n",
       "313905  26jYcdFR5oLqKDKpTH0JIQ  jCFYwSOZOUs1-3Nxab3GdQ 2020-06-04 18:47:02   \n",
       "539260  IMWoj619K8ezUmFP8ktXEg  jCFYwSOZOUs1-3Nxab3GdQ 2019-08-11 17:24:13   \n",
       "567807  mhrW9O0O5hXGXGnEYBVoag  jCFYwSOZOUs1-3Nxab3GdQ 2019-07-16 16:57:19   \n",
       "573386  FAvEJQ0E7n4f_Wasg9UvEw  jCFYwSOZOUs1-3Nxab3GdQ 2019-07-11 15:16:50   \n",
       "\n",
       "        Stars                                               Text       State  \\\n",
       "1           5  I am so thankful that the founder of La Boulan...     Indiana   \n",
       "20          5  I've been wanting to visit Willa Jean for the ...  California   \n",
       "200635      5  Oh my WORD, the food was phenomenal! We ordere...  California   \n",
       "313905      5  Where do I even begin? This is THE place for c...     Indiana   \n",
       "539260      5  If you happen to be near Banh Mi Boys and hung...  California   \n",
       "567807      3  I wasn't impressed by Jacques-Imo's. The staff...  California   \n",
       "573386      5  This is one of the best Mediterranean places i...  California   \n",
       "\n",
       "         APP  \n",
       "1       Yelp  \n",
       "20      Yelp  \n",
       "200635  Yelp  \n",
       "313905  Yelp  \n",
       "539260  Yelp  \n",
       "567807  Yelp  \n",
       "573386  Yelp  "
      ]
     },
     "execution_count": 51,
     "metadata": {},
     "output_type": "execute_result"
    }
   ],
   "source": [
    "df_general[df_general['User_ID']=='jCFYwSOZOUs1-3Nxab3GdQ']"
   ]
  },
  {
   "attachments": {},
   "cell_type": "markdown",
   "metadata": {},
   "source": [
    "## FUNCIÓN SIMILITUD DE COSENO"
   ]
  },
  {
   "cell_type": "code",
   "execution_count": 52,
   "metadata": {},
   "outputs": [],
   "source": [
    "def similitud_coseno(resumen_pelicula, tabla):\n",
    "    i = tabla\n",
    "\n",
    "    tfidf = TfidfVectorizer(stop_words=\"english\")\n",
    "    i[\"Text\"] = i[\"Text\"].fillna(\"\")\n",
    "\n",
    "    tfidf.fit(i[\"Text\"])\n",
    "    tfidf_matriz = tfidf.transform([resumen_pelicula])\n",
    "\n",
    "    coseno_sim = linear_kernel(tfidf_matriz, tfidf.transform(i[\"Text\"]))\n",
    "\n",
    "    simil = list(enumerate(coseno_sim[0]))\n",
    "    simil = sorted(simil, key=lambda x: x[1], reverse=True)\n",
    "    simil = simil[1:11]\n",
    "    movie_index = [i[0] for i in simil]\n",
    "\n",
    "    lista = i[\"ID_Business\"].iloc[movie_index].tolist()[:5]\n",
    "\n",
    "    return lista"
   ]
  },
  {
   "attachments": {},
   "cell_type": "markdown",
   "metadata": {},
   "source": [
    "## LLAMANDO A LA FUNCIÓN"
   ]
  },
  {
   "cell_type": "code",
   "execution_count": 53,
   "metadata": {},
   "outputs": [
    {
     "ename": "NameError",
     "evalue": "name 'recomendacion' is not defined",
     "output_type": "error",
     "traceback": [
      "\u001b[1;31m---------------------------------------------------------------------------\u001b[0m",
      "\u001b[1;31mNameError\u001b[0m                                 Traceback (most recent call last)",
      "Cell \u001b[1;32mIn[53], line 3\u001b[0m\n\u001b[0;32m      1\u001b[0m s \u001b[39m=\u001b[39m get_mejor_calificacion(\u001b[39m'\u001b[39m\u001b[39mjCFYwSOZOUs1-3Nxab3GdQ\u001b[39m\u001b[39m'\u001b[39m)\n\u001b[0;32m      2\u001b[0m e \u001b[39m=\u001b[39m get_tabla_idnegocio_reviews(top_business_state)\n\u001b[1;32m----> 3\u001b[0m recomendacion(s, e)\n",
      "\u001b[1;31mNameError\u001b[0m: name 'recomendacion' is not defined"
     ]
    }
   ],
   "source": [
    "s = get_mejor_calificacion('jCFYwSOZOUs1-3Nxab3GdQ')\n",
    "e = get_tabla_idnegocio_reviews(top_business_state)\n",
    "recomendacion(s, e)"
   ]
  },
  {
   "attachments": {},
   "cell_type": "markdown",
   "metadata": {},
   "source": [
    "## FUNCIÓN RECOMENDACIÓN"
   ]
  },
  {
   "cell_type": "code",
   "execution_count": null,
   "metadata": {},
   "outputs": [],
   "source": [
    "# La que está actualmente en GitHub:\n",
    "def recomendacion1(user_id):\n",
    "    states = get_states(user_id)\n",
    "    recomendacion_stateS = []\n",
    "    for state in states:\n",
    "        top_business = get_top_business_state1(state)\n",
    "        business_user = get_business_user(user_id)\n",
    "        recomendacion_state = list(top_business.difference(business_user))[0:5]\n",
    "        recomendacion_stateS.append(recomendacion_state)\n",
    "    \n",
    "    recomendacion_texto = []\n",
    "\n",
    "    for cantidad in range(len(states)):\n",
    "        recomendado = nombre_negocio(recomendacion_stateS[cantidad])\n",
    "        recomendacion_texto_base = \"Para el estado de \" + states[cantidad] + \" te recomendamos los siguientes lugares: \" + \", \".join(recomendado)\n",
    "        recomendacion_texto.append(recomendacion_texto_base)\n",
    "    \n",
    "    return {\"Recomendación\": \". \".join(recomendacion_texto)}"
   ]
  },
  {
   "cell_type": "code",
   "execution_count": null,
   "metadata": {},
   "outputs": [],
   "source": [
    "# La función mejorada en el que se evita el sesgo de la cantidad baja de reseñas:\n",
    "def recomendacion2(user_id):\n",
    "    states = get_states(user_id)\n",
    "    recomendacion_stateS = []\n",
    "    for state in states:\n",
    "        top_business = get_top_business_state2(state)\n",
    "        business_user = get_business_user(user_id)\n",
    "        recomendacion_state = list(top_business.difference(business_user))[0:5]\n",
    "        recomendacion_stateS.append(recomendacion_state)\n",
    "    \n",
    "    recomendacion_texto = []\n",
    "\n",
    "    for cantidad in range(len(states)):\n",
    "        recomendado = nombre_negocio(recomendacion_stateS[cantidad])\n",
    "        recomendacion_texto_base = \"Para el estado de \" + states[cantidad] + \" te recomendamos los siguientes lugares: \" + \", \".join(recomendado)\n",
    "        recomendacion_texto.append(recomendacion_texto_base)\n",
    "    \n",
    "    return {\"Recomendación\": \". \".join(recomendacion_texto)}"
   ]
  },
  {
   "cell_type": "code",
   "execution_count": null,
   "metadata": {},
   "outputs": [],
   "source": [
    "def recomendacion3(user_id):\n",
    "    states = get_states(user_id)\n",
    "    recomendacion_stateS = []\n",
    "    for state in states:\n",
    "        top_business = get_top_business_state2(state)\n",
    "        business_user = get_business_user(user_id)\n",
    "        recomendacion_state = top_business.difference(business_user) # conjunto que contiene los id de los negocios top menos los que el usuario ya visito\n",
    "        # se llama a la funcion que con estos id de negocio crea un tabla de 2 columnas donde estan los id de solos estos negocios y sus respectivas\n",
    "        # reseñas filtradas por estado, cantidad de reseñas minimas y cantidad de estrellas y almacena esta tabla en la variable tabla top negocios\n",
    "\n",
    "        tabla_idnegocio_reviews = get_tabla_idnegocio_reviews(recomendacion_state)\n",
    "\n",
    "        # se llama a la funcion que obtiene la mejor reseña que dio el usuario  y se almacena dentro de la variable resumen_pelicula(reseña_top_user)\n",
    "\n",
    "        \n",
    "        mejor_calificacion = get_mejor_calificacion(user_id)\n",
    "\n",
    "        \n",
    "\n",
    "        # se llama a la funcion similitud de reseñas que da como resultado los id de las reseñas que mejor se parece a la reseña top del usuario,\n",
    "        # estos resultados se almacenan en una variable y se convierten a conjuntos para eliminar negocios repetido, luego se convierte en una lista\n",
    "        # tomando los 5 primeros resutados\n",
    "\n",
    "        recomendacion_state = similitud_coseno(mejor_calificacion, tabla_idnegocio_reviews)\n",
    "        \n",
    "\n",
    "\n",
    "\n",
    "        # una vez que se hace la diferencia, los negocios que te queden\n",
    "        # introducirlos a la funcion para que los ordene de mayor a menor la similitu y de esos escoger los primeros 5\n",
    "\n",
    "        recomendacion_stateS.append(recomendacion_state)\n",
    "\n",
    "    recomendacion_texto = []\n",
    "\n",
    "    for cantidad in range(len(states)):\n",
    "        recomendado = nombre_negocio(recomendacion_stateS[cantidad])\n",
    "        recomendacion_texto_base = \"Para el estado de \" + states[cantidad] + \" te recomendamos los siguientes lugares: \" + \", \".join(recomendado)\n",
    "        recomendacion_texto.append(recomendacion_texto_base)\n",
    "\n",
    "    return {\"Recomendación\": \". \".join(recomendacion_texto)}"
   ]
  },
  {
   "attachments": {},
   "cell_type": "markdown",
   "metadata": {},
   "source": [
    "## LLAMANDO A LA FUNCIÓN"
   ]
  },
  {
   "cell_type": "code",
   "execution_count": null,
   "metadata": {},
   "outputs": [
    {
     "data": {
      "text/plain": [
       "{'Recomendación': \"Para el estado de Indiana te recomendamos los siguientes lugares: Sweet Elizabeth's Organics, Gordon Stein -I Love Philly Homes Team - Compass, LJ Thai Sushi, Molecular Munchies, Litehouse Whole Food Grill Hobart. Para el estado de California te recomendamos los siguientes lugares: Veg & Go Plant Based Fast Food, Elegance On Display, Pizza Pasta Pomodoro, Pure Juice & Smoothie Lounge, Fuji Japanese Restaurant\"}"
      ]
     },
     "execution_count": 147,
     "metadata": {},
     "output_type": "execute_result"
    }
   ],
   "source": [
    "x = recomendacion1('jCFYwSOZOUs1-3Nxab3GdQ')\n",
    "x"
   ]
  },
  {
   "cell_type": "code",
   "execution_count": null,
   "metadata": {},
   "outputs": [
    {
     "data": {
      "text/plain": [
       "{'Recomendación': 'Para el estado de Indiana te recomendamos los siguientes lugares: Sherwood Cafe Family Restaurant, Whisky Lounge, Botanas locas, Valley, Three One Seven Salon LLC. Para el estado de California te recomendamos los siguientes lugares: WHITE HORSE CAFE, Korean Express Restaurant, Pocha LA, Ronan, Kazoku Sushi'}"
      ]
     },
     "execution_count": 148,
     "metadata": {},
     "output_type": "execute_result"
    }
   ],
   "source": [
    "x = recomendacion2('jCFYwSOZOUs1-3Nxab3GdQ')\n",
    "x"
   ]
  },
  {
   "cell_type": "code",
   "execution_count": null,
   "metadata": {},
   "outputs": [
    {
     "data": {
      "text/plain": [
       "{'Recomendación': \"Para el estado de Indiana te recomendamos los siguientes lugares: Tacos Pipeye, Yamato, Perenn Bakery, Smoothie King, Perenn Bakery. Para el estado de California te recomendamos los siguientes lugares: Hanabishi Japanese Cuisine, SF Honey Pig Korean BBQ Restaurant, Companion Early Bird Outlet, Hiko Sushi, Sophia's Donuts & Sandwiches\"}"
      ]
     },
     "execution_count": 149,
     "metadata": {},
     "output_type": "execute_result"
    }
   ],
   "source": [
    "x = recomendacion3('jCFYwSOZOUs1-3Nxab3GdQ')\n",
    "x"
   ]
  },
  {
   "attachments": {},
   "cell_type": "markdown",
   "metadata": {},
   "source": [
    "### Observación: Si bien se hizo uso del dataset reviews_google_yelp.parquet (alrededor de 1 millón y medio de filas), para el sistema de recomendación solo se usará una muestra aleatoria, asdf2.parquet"
   ]
  }
 ],
 "metadata": {
  "kernelspec": {
   "display_name": "Python 3",
   "language": "python",
   "name": "python3"
  },
  "language_info": {
   "codemirror_mode": {
    "name": "ipython",
    "version": 3
   },
   "file_extension": ".py",
   "mimetype": "text/x-python",
   "name": "python",
   "nbconvert_exporter": "python",
   "pygments_lexer": "ipython3",
   "version": "3.11.4"
  },
  "orig_nbformat": 4,
  "vscode": {
   "interpreter": {
    "hash": "f0bf7c137114cfb949f7c855fa3598a5fbc1b18cf79312b674d4cd14258ff354"
   }
  }
 },
 "nbformat": 4,
 "nbformat_minor": 2
}
