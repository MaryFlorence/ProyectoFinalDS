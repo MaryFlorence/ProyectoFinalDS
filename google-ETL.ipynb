{
 "cells": [
  {
   "cell_type": "code",
   "execution_count": 3,
   "metadata": {},
   "outputs": [],
   "source": [
    "import pandas as pd\n",
    "import json"
   ]
  },
  {
   "cell_type": "code",
   "execution_count": 2,
   "metadata": {},
   "outputs": [
    {
     "ename": "NameError",
     "evalue": "name 'pd' is not defined",
     "output_type": "error",
     "traceback": [
      "\u001b[1;31m---------------------------------------------------------------------------\u001b[0m",
      "\u001b[1;31mNameError\u001b[0m                                 Traceback (most recent call last)",
      "Cell \u001b[1;32mIn[2], line 1\u001b[0m\n\u001b[1;32m----> 1\u001b[0m json1\u001b[39m=\u001b[39mpd\u001b[39m.\u001b[39mread_json(\u001b[39m'\u001b[39m\u001b[39mE:/documentos/soyhenry/DATA SCIENCE/MODULOS/PROYECTO FINAL/datasets/google/metadata-sitios/1.json\u001b[39m\u001b[39m'\u001b[39m, lines\u001b[39m=\u001b[39m\u001b[39mTrue\u001b[39;00m)\n\u001b[0;32m      2\u001b[0m json2\u001b[39m=\u001b[39mpd\u001b[39m.\u001b[39mread_json(\u001b[39m'\u001b[39m\u001b[39mE:/documentos/soyhenry/DATA SCIENCE/MODULOS/PROYECTO FINAL/datasets/google/metadata-sitios/2.json\u001b[39m\u001b[39m'\u001b[39m, lines\u001b[39m=\u001b[39m\u001b[39mTrue\u001b[39;00m)\n\u001b[0;32m      3\u001b[0m json3\u001b[39m=\u001b[39mpd\u001b[39m.\u001b[39mread_json(\u001b[39m'\u001b[39m\u001b[39mE:/documentos/soyhenry/DATA SCIENCE/MODULOS/PROYECTO FINAL/datasets/google/metadata-sitios/3.json\u001b[39m\u001b[39m'\u001b[39m, lines\u001b[39m=\u001b[39m\u001b[39mTrue\u001b[39;00m)\n",
      "\u001b[1;31mNameError\u001b[0m: name 'pd' is not defined"
     ]
    }
   ],
   "source": [
    "json1=pd.read_json('E:/documentos/soyhenry/DATA SCIENCE/MODULOS/PROYECTO FINAL/datasets/google/metadata-sitios/1.json', lines=True)\n",
    "json2=pd.read_json('E:/documentos/soyhenry/DATA SCIENCE/MODULOS/PROYECTO FINAL/datasets/google/metadata-sitios/2.json', lines=True)\n",
    "json3=pd.read_json('E:/documentos/soyhenry/DATA SCIENCE/MODULOS/PROYECTO FINAL/datasets/google/metadata-sitios/3.json', lines=True)\n",
    "json4=pd.read_json('E:/documentos/soyhenry/DATA SCIENCE/MODULOS/PROYECTO FINAL/datasets/google/metadata-sitios/4.json', lines=True)\n",
    "json5=pd.read_json('E:/documentos/soyhenry/DATA SCIENCE/MODULOS/PROYECTO FINAL/datasets/google/metadata-sitios/5.json', lines=True)"
   ]
  },
  {
   "cell_type": "markdown",
   "metadata": {},
   "source": [
    "# JSON 1"
   ]
  },
  {
   "cell_type": "code",
   "execution_count": null,
   "metadata": {},
   "outputs": [],
   "source": [
    "json1=pd.read_json('E:/documentos/soyhenry/DATA SCIENCE/MODULOS/PROYECTO FINAL/datasets/google/metadata-sitios/1.json', lines=True)\n",
    "json1"
   ]
  },
  {
   "cell_type": "code",
   "execution_count": 1,
   "metadata": {},
   "outputs": [
    {
     "ename": "NameError",
     "evalue": "name 'json1' is not defined",
     "output_type": "error",
     "traceback": [
      "\u001b[1;31m---------------------------------------------------------------------------\u001b[0m",
      "\u001b[1;31mNameError\u001b[0m                                 Traceback (most recent call last)",
      "Cell \u001b[1;32mIn[1], line 1\u001b[0m\n\u001b[1;32m----> 1\u001b[0m df1\u001b[39m=\u001b[39mjson1\n",
      "\u001b[1;31mNameError\u001b[0m: name 'json1' is not defined"
     ]
    }
   ],
   "source": [
    "df1=json1"
   ]
  },
  {
   "cell_type": "code",
   "execution_count": 326,
   "metadata": {},
   "outputs": [
    {
     "data": {
      "text/plain": [
       "(2862, 8)"
      ]
     },
     "execution_count": 326,
     "metadata": {},
     "output_type": "execute_result"
    }
   ],
   "source": [
    "df1.shape"
   ]
  },
  {
   "cell_type": "code",
   "execution_count": null,
   "metadata": {},
   "outputs": [],
   "source": [
    "#eliminamos las columnas que no son relevantes [name, gmap_id, avg_rating, num_of_reviews, category, estado, localidad, Delivery]\n",
    "df1=df1.drop(columns=['hours', 'latitude', 'longitude', 'relative_results', 'url', 'description'], axis=1)"
   ]
  },
  {
   "cell_type": "code",
   "execution_count": null,
   "metadata": {},
   "outputs": [],
   "source": [
    "#Agregamos la columna 'estado' donde van a estar alojados los códigos de los países\n",
    "estado_regex = r',\\s([A-Za-z]{2,})\\s(\\d{5})?$'\n",
    "df1['estado'] = df1['address'].str.extract(estado_regex, expand=True)[0]"
   ]
  },
  {
   "cell_type": "code",
   "execution_count": null,
   "metadata": {},
   "outputs": [],
   "source": [
    "# Definir una lista con los códigos de estado que queremos mantener\n",
    "codigos_estado_deseados = ['TX', 'CA', 'IN', 'KY', 'IA', 'MS']\n",
    "\n",
    "# Filtrar la columna 'estado' para mantener solo los códigos de estado deseados\n",
    "df1= df1[df1['estado'].isin(codigos_estado_deseados)]"
   ]
  },
  {
   "cell_type": "code",
   "execution_count": null,
   "metadata": {},
   "outputs": [],
   "source": [
    "# agregar la columna 'localidad' con el nombre de cada localidad que le corresonde a cada código de estado\n",
    "# Definir un diccionario con las asignaciones de estado a localidad\n",
    "diccionario_localidades = {\n",
    "    'TX': 'Texas',\n",
    "    'CA': 'California',\n",
    "    'IN': 'Indiana',\n",
    "    'KY': 'Kentucky',\n",
    "    'IA': 'Iowa',\n",
    "    'MS': 'Mississippi'\n",
    "}\n",
    "\n",
    "# Agregar la nueva columna 'localidad' al DataFrame df1 utilizando el diccionario de asignaciones\n",
    "df1['localidad'] = df1['estado'].map(diccionario_localidades)"
   ]
  },
  {
   "cell_type": "code",
   "execution_count": null,
   "metadata": {},
   "outputs": [],
   "source": [
    "# Eliminar la columna 'state' del DataFrame df1\n",
    "df1.drop(columns='state', inplace=True)\n",
    "# Renombrar las columnas 'estado' a 'state' y 'localidad' a 'city'\n",
    "df1.rename(columns={'estado': 'state', 'localidad': 'city'}, inplace=True)"
   ]
  },
  {
   "cell_type": "code",
   "execution_count": null,
   "metadata": {},
   "outputs": [],
   "source": [
    "df1.dropna(subset=['category'], inplace=True)"
   ]
  },
  {
   "cell_type": "code",
   "execution_count": null,
   "metadata": {},
   "outputs": [],
   "source": [
    "# Convertir la columna 'category' de lista de strings a cadena de string\n",
    "df1['category'] = df1['category'].apply(lambda x: ', '.join(x))"
   ]
  },
  {
   "cell_type": "code",
   "execution_count": null,
   "metadata": {},
   "outputs": [],
   "source": [
    "# Definir las palabras clave a buscar\n",
    "palabras_clave = [\"Restaurants\", \"restaurants\", \"Restaurant\", \"restaurant\"]\n",
    "\n",
    "# Filtrar el DataFrame para mostrar solo las filas donde la columna 'category' contiene las palabras clave\n",
    "condiciones = df1['category'].apply(lambda x: any(palabra in x for palabra in palabras_clave))\n",
    "\n",
    "# Aplicar el filtro al DataFrame\n",
    "df1 = df1[condiciones]\n",
    "\n",
    "# Función para obtener los \"Service options\"\n",
    "def get_service_options(dic):\n",
    "    if isinstance(dic, dict) and \"Service options\" in dic:\n",
    "        return dic[\"Service options\"]\n",
    "    else:\n",
    "        return []\n",
    "\n",
    "# Crear la columna 'Service options' y aplicar la función\n",
    "df1[\"Service options\"] = df1[\"MISC\"].apply(lambda x: get_service_options(x))\n",
    "\n",
    "# Crear la columna 'Delivery' y aplicar la función lambda\n",
    "df1['Delivery'] = df1['Service options'].apply(lambda x: 1 if 'Delivery' in x else 0)"
   ]
  },
  {
   "cell_type": "code",
   "execution_count": null,
   "metadata": {},
   "outputs": [],
   "source": [
    "df1 = df1[['name', 'gmap_id', 'category', 'avg_rating', 'num_of_reviews', 'city', 'state', 'Delivery']]\n",
    "df1"
   ]
  },
  {
   "cell_type": "markdown",
   "metadata": {},
   "source": [
    "# JSON 2"
   ]
  },
  {
   "cell_type": "code",
   "execution_count": 243,
   "metadata": {},
   "outputs": [
    {
     "data": {
      "text/html": [
       "<div>\n",
       "<style scoped>\n",
       "    .dataframe tbody tr th:only-of-type {\n",
       "        vertical-align: middle;\n",
       "    }\n",
       "\n",
       "    .dataframe tbody tr th {\n",
       "        vertical-align: top;\n",
       "    }\n",
       "\n",
       "    .dataframe thead th {\n",
       "        text-align: right;\n",
       "    }\n",
       "</style>\n",
       "<table border=\"1\" class=\"dataframe\">\n",
       "  <thead>\n",
       "    <tr style=\"text-align: right;\">\n",
       "      <th></th>\n",
       "      <th>name</th>\n",
       "      <th>address</th>\n",
       "      <th>gmap_id</th>\n",
       "      <th>description</th>\n",
       "      <th>latitude</th>\n",
       "      <th>longitude</th>\n",
       "      <th>category</th>\n",
       "      <th>avg_rating</th>\n",
       "      <th>num_of_reviews</th>\n",
       "      <th>price</th>\n",
       "      <th>hours</th>\n",
       "      <th>MISC</th>\n",
       "      <th>state</th>\n",
       "      <th>relative_results</th>\n",
       "      <th>url</th>\n",
       "    </tr>\n",
       "  </thead>\n",
       "  <tbody>\n",
       "    <tr>\n",
       "      <th>0</th>\n",
       "      <td>Porter Pharmacy</td>\n",
       "      <td>Porter Pharmacy, 129 N Second St, Cochran, GA ...</td>\n",
       "      <td>0x88f16e41928ff687:0x883dad4fd048e8f8</td>\n",
       "      <td>None</td>\n",
       "      <td>32.388300</td>\n",
       "      <td>-83.357100</td>\n",
       "      <td>[Pharmacy]</td>\n",
       "      <td>4.9</td>\n",
       "      <td>16</td>\n",
       "      <td>None</td>\n",
       "      <td>[[Friday, 8AM–6PM], [Saturday, 8AM–12PM], [Sun...</td>\n",
       "      <td>{'Service options': ['In-store shopping', 'Sam...</td>\n",
       "      <td>Open ⋅ Closes 6PM</td>\n",
       "      <td>[0x88f16e41929435cf:0x5b2532a2885e9ef6, 0x88f1...</td>\n",
       "      <td>https://www.google.com/maps/place//data=!4m2!3...</td>\n",
       "    </tr>\n",
       "    <tr>\n",
       "      <th>1</th>\n",
       "      <td>Glik's</td>\n",
       "      <td>Glik's, 1405 W Main St, Gaylord, MI 49735</td>\n",
       "      <td>0x4d354f7b3ae7bef1:0x8d9fdcd2fd71eb10</td>\n",
       "      <td>Family-owned clothing chain offering trendy ca...</td>\n",
       "      <td>45.025578</td>\n",
       "      <td>-84.702644</td>\n",
       "      <td>[Clothing store, Shoe store, Women's clothing ...</td>\n",
       "      <td>4.4</td>\n",
       "      <td>16</td>\n",
       "      <td>None</td>\n",
       "      <td>[[Saturday, 10AM–8PM], [Sunday, 12–5PM], [Mond...</td>\n",
       "      <td>{'Service options': ['In-store pickup', 'In-st...</td>\n",
       "      <td>Open ⋅ Closes 8PM</td>\n",
       "      <td>[0x4d3545876def64d9:0x9ce5f21fc27974d6, 0x4d35...</td>\n",
       "      <td>https://www.google.com/maps/place//data=!4m2!3...</td>\n",
       "    </tr>\n",
       "    <tr>\n",
       "      <th>2</th>\n",
       "      <td>Oscoda County Area Transit Authority (O-cats)</td>\n",
       "      <td>Oscoda County Area Transit Authority (O-cats),...</td>\n",
       "      <td>0x88208ef3441c45bb:0x8dd64d99a31de703</td>\n",
       "      <td>None</td>\n",
       "      <td>44.645621</td>\n",
       "      <td>-84.149766</td>\n",
       "      <td>[Handicapped transportation service]</td>\n",
       "      <td>4.7</td>\n",
       "      <td>6</td>\n",
       "      <td>None</td>\n",
       "      <td>None</td>\n",
       "      <td>{'Accessibility': ['Wheelchair accessible entr...</td>\n",
       "      <td>None</td>\n",
       "      <td>[0x88208ef38622eed1:0xc6f564f43dcbeb30, 0x8820...</td>\n",
       "      <td>https://www.google.com/maps/place//data=!4m2!3...</td>\n",
       "    </tr>\n",
       "    <tr>\n",
       "      <th>3</th>\n",
       "      <td>Hickerson Floor &amp; Tile Haus</td>\n",
       "      <td>Hickerson Floor &amp; Tile Haus, 2234 M-32, Gaylor...</td>\n",
       "      <td>0x4d35487e8d000561:0xdb6871623dbb10ef</td>\n",
       "      <td>None</td>\n",
       "      <td>45.028342</td>\n",
       "      <td>-84.719165</td>\n",
       "      <td>[Flooring store, Carpet store, Rug store, Tile...</td>\n",
       "      <td>4.7</td>\n",
       "      <td>16</td>\n",
       "      <td>None</td>\n",
       "      <td>[[Saturday, 9AM–3PM], [Sunday, Closed], [Monda...</td>\n",
       "      <td>{'Service options': ['In-store pickup', 'In-st...</td>\n",
       "      <td>Closed ⋅ Opens 9AM Mon</td>\n",
       "      <td>[0x4d354f7bc740703b:0x804108d3b0032d71, 0x4d35...</td>\n",
       "      <td>https://www.google.com/maps/place//data=!4m2!3...</td>\n",
       "    </tr>\n",
       "    <tr>\n",
       "      <th>4</th>\n",
       "      <td>Beck Suzanne A MD</td>\n",
       "      <td>Beck Suzanne A MD, 3502 22nd St, Lubbock, TX 7...</td>\n",
       "      <td>0x86fe72aa61be7aaf:0xb9f513a5f8e16a0b</td>\n",
       "      <td>None</td>\n",
       "      <td>33.575336</td>\n",
       "      <td>-101.890226</td>\n",
       "      <td>[Doctor]</td>\n",
       "      <td>4.2</td>\n",
       "      <td>5</td>\n",
       "      <td>None</td>\n",
       "      <td>None</td>\n",
       "      <td>{'Accessibility': ['Wheelchair accessible entr...</td>\n",
       "      <td>None</td>\n",
       "      <td>[0x86fe0d58535f631b:0x487a281ef8b56aa8, 0x86fe...</td>\n",
       "      <td>https://www.google.com/maps/place//data=!4m2!3...</td>\n",
       "    </tr>\n",
       "    <tr>\n",
       "      <th>...</th>\n",
       "      <td>...</td>\n",
       "      <td>...</td>\n",
       "      <td>...</td>\n",
       "      <td>...</td>\n",
       "      <td>...</td>\n",
       "      <td>...</td>\n",
       "      <td>...</td>\n",
       "      <td>...</td>\n",
       "      <td>...</td>\n",
       "      <td>...</td>\n",
       "      <td>...</td>\n",
       "      <td>...</td>\n",
       "      <td>...</td>\n",
       "      <td>...</td>\n",
       "      <td>...</td>\n",
       "    </tr>\n",
       "    <tr>\n",
       "      <th>274996</th>\n",
       "      <td>Quality Office Supply</td>\n",
       "      <td>Quality Office Supply, 1024 Pierre Ave, Shreve...</td>\n",
       "      <td>0x8636cd40244e87ff:0x77d20dd0785ac2e6</td>\n",
       "      <td>None</td>\n",
       "      <td>32.501904</td>\n",
       "      <td>-93.763399</td>\n",
       "      <td>[Office supply store]</td>\n",
       "      <td>5.0</td>\n",
       "      <td>2</td>\n",
       "      <td>None</td>\n",
       "      <td>None</td>\n",
       "      <td>{'Service options': ['In-store shopping']}</td>\n",
       "      <td>None</td>\n",
       "      <td>[0x8636cd313bf1647f:0x76911c0b131f6b39, 0x8636...</td>\n",
       "      <td>https://www.google.com/maps/place//data=!4m2!3...</td>\n",
       "    </tr>\n",
       "    <tr>\n",
       "      <th>274997</th>\n",
       "      <td>JV towing</td>\n",
       "      <td>JV towing, 4975 W Adams Blvd, Los Angeles, CA ...</td>\n",
       "      <td>0x80c2b94b59d23239:0xc095fa9282871c12</td>\n",
       "      <td>None</td>\n",
       "      <td>34.032909</td>\n",
       "      <td>-118.349082</td>\n",
       "      <td>[Auto wrecker]</td>\n",
       "      <td>5.0</td>\n",
       "      <td>1</td>\n",
       "      <td>None</td>\n",
       "      <td>[[Tuesday, Open 24 hours], [Wednesday, Open 24...</td>\n",
       "      <td>None</td>\n",
       "      <td>Open 24 hours</td>\n",
       "      <td>None</td>\n",
       "      <td>https://www.google.com/maps/place//data=!4m2!3...</td>\n",
       "    </tr>\n",
       "    <tr>\n",
       "      <th>274998</th>\n",
       "      <td>Sisom Osia, MD (Gateway Medical Center)</td>\n",
       "      <td>Sisom Osia, MD (Gateway Medical Center), 9628 ...</td>\n",
       "      <td>0x89b7bde343a53233:0x12fe2357bde85896</td>\n",
       "      <td>None</td>\n",
       "      <td>38.817388</td>\n",
       "      <td>-76.840270</td>\n",
       "      <td>[Doctor]</td>\n",
       "      <td>4.7</td>\n",
       "      <td>188</td>\n",
       "      <td>None</td>\n",
       "      <td>[[Tuesday, 9AM–5PM], [Wednesday, 9AM–5PM], [Th...</td>\n",
       "      <td>{'Accessibility': ['Wheelchair accessible entr...</td>\n",
       "      <td>Closed ⋅ Opens 9AM Wed</td>\n",
       "      <td>[0x89b796bcdbba1335:0x3d57f7fb0ef52bb1, 0x89b7...</td>\n",
       "      <td>https://www.google.com/maps/place//data=!4m2!3...</td>\n",
       "    </tr>\n",
       "    <tr>\n",
       "      <th>274999</th>\n",
       "      <td>Rasa Floors</td>\n",
       "      <td>Rasa Floors, 2833 Eisenhower St Suite 100, Car...</td>\n",
       "      <td>0x864c2f593c5116d3:0x913d556ce7012a2f</td>\n",
       "      <td>None</td>\n",
       "      <td>32.990436</td>\n",
       "      <td>-96.926784</td>\n",
       "      <td>[Flooring contractor]</td>\n",
       "      <td>4.3</td>\n",
       "      <td>47</td>\n",
       "      <td>None</td>\n",
       "      <td>[[Tuesday, 7AM–7PM], [Wednesday, 7AM–7PM], [Th...</td>\n",
       "      <td>{'Accessibility': ['Wheelchair accessible entr...</td>\n",
       "      <td>Open ⋅ Closes 7PM</td>\n",
       "      <td>[0x864c25f7faeb40c1:0x42ecb75804ecd9a3, 0x864c...</td>\n",
       "      <td>https://www.google.com/maps/place//data=!4m2!3...</td>\n",
       "    </tr>\n",
       "    <tr>\n",
       "      <th>275000</th>\n",
       "      <td>Alpha Testing, Inc.</td>\n",
       "      <td>Alpha Testing, Inc., 2209 Wisconsin St, Dallas...</td>\n",
       "      <td>0x864c27f22f5ae449:0x5db3b3b3d0829cd8</td>\n",
       "      <td>None</td>\n",
       "      <td>32.897531</td>\n",
       "      <td>-96.904385</td>\n",
       "      <td>[Engineer]</td>\n",
       "      <td>4.1</td>\n",
       "      <td>33</td>\n",
       "      <td>None</td>\n",
       "      <td>[[Tuesday, 8AM–5PM], [Wednesday, 8AM–5PM], [Th...</td>\n",
       "      <td>{'Accessibility': ['Wheelchair accessible entr...</td>\n",
       "      <td>Closes soon ⋅ 5PM ⋅ Opens 8AM Wed</td>\n",
       "      <td>[0x864ea53029cd453f:0x4dcaea2d11540944, 0x864c...</td>\n",
       "      <td>https://www.google.com/maps/place//data=!4m2!3...</td>\n",
       "    </tr>\n",
       "  </tbody>\n",
       "</table>\n",
       "<p>275001 rows × 15 columns</p>\n",
       "</div>"
      ],
      "text/plain": [
       "                                                 name  \\\n",
       "0                                     Porter Pharmacy   \n",
       "1                                              Glik's   \n",
       "2       Oscoda County Area Transit Authority (O-cats)   \n",
       "3                         Hickerson Floor & Tile Haus   \n",
       "4                                   Beck Suzanne A MD   \n",
       "...                                               ...   \n",
       "274996                          Quality Office Supply   \n",
       "274997                                      JV towing   \n",
       "274998        Sisom Osia, MD (Gateway Medical Center)   \n",
       "274999                                    Rasa Floors   \n",
       "275000                            Alpha Testing, Inc.   \n",
       "\n",
       "                                                  address  \\\n",
       "0       Porter Pharmacy, 129 N Second St, Cochran, GA ...   \n",
       "1               Glik's, 1405 W Main St, Gaylord, MI 49735   \n",
       "2       Oscoda County Area Transit Authority (O-cats),...   \n",
       "3       Hickerson Floor & Tile Haus, 2234 M-32, Gaylor...   \n",
       "4       Beck Suzanne A MD, 3502 22nd St, Lubbock, TX 7...   \n",
       "...                                                   ...   \n",
       "274996  Quality Office Supply, 1024 Pierre Ave, Shreve...   \n",
       "274997  JV towing, 4975 W Adams Blvd, Los Angeles, CA ...   \n",
       "274998  Sisom Osia, MD (Gateway Medical Center), 9628 ...   \n",
       "274999  Rasa Floors, 2833 Eisenhower St Suite 100, Car...   \n",
       "275000  Alpha Testing, Inc., 2209 Wisconsin St, Dallas...   \n",
       "\n",
       "                                      gmap_id  \\\n",
       "0       0x88f16e41928ff687:0x883dad4fd048e8f8   \n",
       "1       0x4d354f7b3ae7bef1:0x8d9fdcd2fd71eb10   \n",
       "2       0x88208ef3441c45bb:0x8dd64d99a31de703   \n",
       "3       0x4d35487e8d000561:0xdb6871623dbb10ef   \n",
       "4       0x86fe72aa61be7aaf:0xb9f513a5f8e16a0b   \n",
       "...                                       ...   \n",
       "274996  0x8636cd40244e87ff:0x77d20dd0785ac2e6   \n",
       "274997  0x80c2b94b59d23239:0xc095fa9282871c12   \n",
       "274998  0x89b7bde343a53233:0x12fe2357bde85896   \n",
       "274999  0x864c2f593c5116d3:0x913d556ce7012a2f   \n",
       "275000  0x864c27f22f5ae449:0x5db3b3b3d0829cd8   \n",
       "\n",
       "                                              description   latitude  \\\n",
       "0                                                    None  32.388300   \n",
       "1       Family-owned clothing chain offering trendy ca...  45.025578   \n",
       "2                                                    None  44.645621   \n",
       "3                                                    None  45.028342   \n",
       "4                                                    None  33.575336   \n",
       "...                                                   ...        ...   \n",
       "274996                                               None  32.501904   \n",
       "274997                                               None  34.032909   \n",
       "274998                                               None  38.817388   \n",
       "274999                                               None  32.990436   \n",
       "275000                                               None  32.897531   \n",
       "\n",
       "         longitude                                           category  \\\n",
       "0       -83.357100                                         [Pharmacy]   \n",
       "1       -84.702644  [Clothing store, Shoe store, Women's clothing ...   \n",
       "2       -84.149766               [Handicapped transportation service]   \n",
       "3       -84.719165  [Flooring store, Carpet store, Rug store, Tile...   \n",
       "4      -101.890226                                           [Doctor]   \n",
       "...            ...                                                ...   \n",
       "274996  -93.763399                              [Office supply store]   \n",
       "274997 -118.349082                                     [Auto wrecker]   \n",
       "274998  -76.840270                                           [Doctor]   \n",
       "274999  -96.926784                              [Flooring contractor]   \n",
       "275000  -96.904385                                         [Engineer]   \n",
       "\n",
       "        avg_rating  num_of_reviews price  \\\n",
       "0              4.9              16  None   \n",
       "1              4.4              16  None   \n",
       "2              4.7               6  None   \n",
       "3              4.7              16  None   \n",
       "4              4.2               5  None   \n",
       "...            ...             ...   ...   \n",
       "274996         5.0               2  None   \n",
       "274997         5.0               1  None   \n",
       "274998         4.7             188  None   \n",
       "274999         4.3              47  None   \n",
       "275000         4.1              33  None   \n",
       "\n",
       "                                                    hours  \\\n",
       "0       [[Friday, 8AM–6PM], [Saturday, 8AM–12PM], [Sun...   \n",
       "1       [[Saturday, 10AM–8PM], [Sunday, 12–5PM], [Mond...   \n",
       "2                                                    None   \n",
       "3       [[Saturday, 9AM–3PM], [Sunday, Closed], [Monda...   \n",
       "4                                                    None   \n",
       "...                                                   ...   \n",
       "274996                                               None   \n",
       "274997  [[Tuesday, Open 24 hours], [Wednesday, Open 24...   \n",
       "274998  [[Tuesday, 9AM–5PM], [Wednesday, 9AM–5PM], [Th...   \n",
       "274999  [[Tuesday, 7AM–7PM], [Wednesday, 7AM–7PM], [Th...   \n",
       "275000  [[Tuesday, 8AM–5PM], [Wednesday, 8AM–5PM], [Th...   \n",
       "\n",
       "                                                     MISC  \\\n",
       "0       {'Service options': ['In-store shopping', 'Sam...   \n",
       "1       {'Service options': ['In-store pickup', 'In-st...   \n",
       "2       {'Accessibility': ['Wheelchair accessible entr...   \n",
       "3       {'Service options': ['In-store pickup', 'In-st...   \n",
       "4       {'Accessibility': ['Wheelchair accessible entr...   \n",
       "...                                                   ...   \n",
       "274996         {'Service options': ['In-store shopping']}   \n",
       "274997                                               None   \n",
       "274998  {'Accessibility': ['Wheelchair accessible entr...   \n",
       "274999  {'Accessibility': ['Wheelchair accessible entr...   \n",
       "275000  {'Accessibility': ['Wheelchair accessible entr...   \n",
       "\n",
       "                                    state  \\\n",
       "0                       Open ⋅ Closes 6PM   \n",
       "1                       Open ⋅ Closes 8PM   \n",
       "2                                    None   \n",
       "3                  Closed ⋅ Opens 9AM Mon   \n",
       "4                                    None   \n",
       "...                                   ...   \n",
       "274996                               None   \n",
       "274997                      Open 24 hours   \n",
       "274998             Closed ⋅ Opens 9AM Wed   \n",
       "274999                  Open ⋅ Closes 7PM   \n",
       "275000  Closes soon ⋅ 5PM ⋅ Opens 8AM Wed   \n",
       "\n",
       "                                         relative_results  \\\n",
       "0       [0x88f16e41929435cf:0x5b2532a2885e9ef6, 0x88f1...   \n",
       "1       [0x4d3545876def64d9:0x9ce5f21fc27974d6, 0x4d35...   \n",
       "2       [0x88208ef38622eed1:0xc6f564f43dcbeb30, 0x8820...   \n",
       "3       [0x4d354f7bc740703b:0x804108d3b0032d71, 0x4d35...   \n",
       "4       [0x86fe0d58535f631b:0x487a281ef8b56aa8, 0x86fe...   \n",
       "...                                                   ...   \n",
       "274996  [0x8636cd313bf1647f:0x76911c0b131f6b39, 0x8636...   \n",
       "274997                                               None   \n",
       "274998  [0x89b796bcdbba1335:0x3d57f7fb0ef52bb1, 0x89b7...   \n",
       "274999  [0x864c25f7faeb40c1:0x42ecb75804ecd9a3, 0x864c...   \n",
       "275000  [0x864ea53029cd453f:0x4dcaea2d11540944, 0x864c...   \n",
       "\n",
       "                                                      url  \n",
       "0       https://www.google.com/maps/place//data=!4m2!3...  \n",
       "1       https://www.google.com/maps/place//data=!4m2!3...  \n",
       "2       https://www.google.com/maps/place//data=!4m2!3...  \n",
       "3       https://www.google.com/maps/place//data=!4m2!3...  \n",
       "4       https://www.google.com/maps/place//data=!4m2!3...  \n",
       "...                                                   ...  \n",
       "274996  https://www.google.com/maps/place//data=!4m2!3...  \n",
       "274997  https://www.google.com/maps/place//data=!4m2!3...  \n",
       "274998  https://www.google.com/maps/place//data=!4m2!3...  \n",
       "274999  https://www.google.com/maps/place//data=!4m2!3...  \n",
       "275000  https://www.google.com/maps/place//data=!4m2!3...  \n",
       "\n",
       "[275001 rows x 15 columns]"
      ]
     },
     "execution_count": 243,
     "metadata": {},
     "output_type": "execute_result"
    }
   ],
   "source": [
    "json2=pd.read_json('E:/documentos/soyhenry/DATA SCIENCE/MODULOS/PROYECTO FINAL/datasets/google/metadata-sitios/2.json', lines=True)\n",
    "json2"
   ]
  },
  {
   "cell_type": "code",
   "execution_count": 246,
   "metadata": {},
   "outputs": [],
   "source": [
    "df2 = json2"
   ]
  },
  {
   "cell_type": "code",
   "execution_count": 247,
   "metadata": {},
   "outputs": [],
   "source": [
    "#eliminamos las columnas que no son relevantes [name, gmap_id, avg_rating, num_of_reviews, category, estado, localidad, Delivery]\n",
    "df2=df2.drop(columns=['hours', 'latitude', 'longitude', 'relative_results', 'url', 'description'], axis=1)"
   ]
  },
  {
   "cell_type": "code",
   "execution_count": 248,
   "metadata": {},
   "outputs": [],
   "source": [
    "#Agregamos la columna 'estado' donde van a estar alojados los códigos de los países\n",
    "estado_regex = r',\\s([A-Za-z]{2,})\\s(\\d{5})?$'\n",
    "df2['estado'] = df2['address'].str.extract(estado_regex, expand=True)[0]"
   ]
  },
  {
   "cell_type": "code",
   "execution_count": 249,
   "metadata": {},
   "outputs": [],
   "source": [
    "# Definir una lista con los códigos de estado que queremos mantener\n",
    "codigos_estado_deseados = ['TX', 'CA', 'IN', 'KY', 'IA', 'MS']\n",
    "\n",
    "# Filtrar la columna 'estado' para mantener solo los códigos de estado deseados\n",
    "df2= df2[df2['estado'].isin(codigos_estado_deseados)]"
   ]
  },
  {
   "cell_type": "code",
   "execution_count": 250,
   "metadata": {},
   "outputs": [],
   "source": [
    "# agregar la columna 'localidad' con el nombre de cada localidad que le corresonde a cada código de estado\n",
    "# Definir un diccionario con las asignaciones de estado a localidad\n",
    "diccionario_localidades = {\n",
    "    'TX': 'Texas',\n",
    "    'CA': 'California',\n",
    "    'IN': 'Indiana',\n",
    "    'KY': 'Kentucky',\n",
    "    'IA': 'Iowa',\n",
    "    'MS': 'Mississippi'\n",
    "}\n",
    "\n",
    "# Agregar la nueva columna 'localidad' al DataFrame df1 utilizando el diccionario de asignaciones\n",
    "df2['localidad'] = df2['estado'].map(diccionario_localidades)"
   ]
  },
  {
   "cell_type": "code",
   "execution_count": 251,
   "metadata": {},
   "outputs": [],
   "source": [
    "# Eliminar la columna 'state' del DataFrame df1\n",
    "df2.drop(columns='state', inplace=True)\n",
    "# Renombrar las columnas 'estado' a 'state' y 'localidad' a 'city'\n",
    "df2.rename(columns={'estado': 'state', 'localidad': 'city'}, inplace=True)"
   ]
  },
  {
   "cell_type": "code",
   "execution_count": 252,
   "metadata": {},
   "outputs": [],
   "source": [
    "df2.dropna(subset=['category'], inplace=True)"
   ]
  },
  {
   "cell_type": "code",
   "execution_count": 253,
   "metadata": {},
   "outputs": [],
   "source": [
    "# Convertir la columna 'category' de lista de strings a cadena de string\n",
    "df2['category'] = df2['category'].apply(lambda x: ', '.join(x))"
   ]
  },
  {
   "cell_type": "code",
   "execution_count": 254,
   "metadata": {},
   "outputs": [],
   "source": [
    "# Definir las palabras clave a buscar\n",
    "palabras_clave = [\"Restaurants\", \"restaurants\", \"Restaurant\", \"restaurant\"]\n",
    "\n",
    "# Filtrar el DataFrame para mostrar solo las filas donde la columna 'category' contiene las palabras clave\n",
    "condiciones = df2['category'].apply(lambda x: any(palabra in x for palabra in palabras_clave))\n",
    "\n",
    "# Aplicar el filtro al DataFrame\n",
    "df2 = df2[condiciones]\n",
    "\n",
    "# Función para obtener los \"Service options\"\n",
    "def get_service_options(dic):\n",
    "    if isinstance(dic, dict) and \"Service options\" in dic:\n",
    "        return dic[\"Service options\"]\n",
    "    else:\n",
    "        return []\n",
    "\n",
    "# Crear la columna 'Service options' y aplicar la función\n",
    "df2[\"Service options\"] = df2[\"MISC\"].apply(lambda x: get_service_options(x))\n",
    "\n",
    "# Crear la columna 'Delivery' y aplicar la función lambda\n",
    "df2['Delivery'] = df2['Service options'].apply(lambda x: 1 if 'Delivery' in x else 0)"
   ]
  },
  {
   "cell_type": "code",
   "execution_count": 255,
   "metadata": {},
   "outputs": [
    {
     "data": {
      "text/html": [
       "<div>\n",
       "<style scoped>\n",
       "    .dataframe tbody tr th:only-of-type {\n",
       "        vertical-align: middle;\n",
       "    }\n",
       "\n",
       "    .dataframe tbody tr th {\n",
       "        vertical-align: top;\n",
       "    }\n",
       "\n",
       "    .dataframe thead th {\n",
       "        text-align: right;\n",
       "    }\n",
       "</style>\n",
       "<table border=\"1\" class=\"dataframe\">\n",
       "  <thead>\n",
       "    <tr style=\"text-align: right;\">\n",
       "      <th></th>\n",
       "      <th>name</th>\n",
       "      <th>gmap_id</th>\n",
       "      <th>category</th>\n",
       "      <th>avg_rating</th>\n",
       "      <th>num_of_reviews</th>\n",
       "      <th>city</th>\n",
       "      <th>state</th>\n",
       "      <th>Delivery</th>\n",
       "    </tr>\n",
       "  </thead>\n",
       "  <tbody>\n",
       "    <tr>\n",
       "      <th>533</th>\n",
       "      <td>Ethiopian and Eritrean Food Trailer</td>\n",
       "      <td>0x8644b5d286dbcf3d:0xd73979857f7cf58e</td>\n",
       "      <td>Restaurant</td>\n",
       "      <td>4.9</td>\n",
       "      <td>33</td>\n",
       "      <td>Texas</td>\n",
       "      <td>TX</td>\n",
       "      <td>0</td>\n",
       "    </tr>\n",
       "    <tr>\n",
       "      <th>536</th>\n",
       "      <td>Tacos La Sabroza</td>\n",
       "      <td>0x8644b41c768b934b:0xc33046bfaa7e258a</td>\n",
       "      <td>Restaurant, ATM</td>\n",
       "      <td>4.2</td>\n",
       "      <td>26</td>\n",
       "      <td>Texas</td>\n",
       "      <td>TX</td>\n",
       "      <td>1</td>\n",
       "    </tr>\n",
       "    <tr>\n",
       "      <th>548</th>\n",
       "      <td>La Texanita</td>\n",
       "      <td>0x8644d376b429ebfd:0x8a488c1891724ecc</td>\n",
       "      <td>Restaurant</td>\n",
       "      <td>4.8</td>\n",
       "      <td>8</td>\n",
       "      <td>Texas</td>\n",
       "      <td>TX</td>\n",
       "      <td>1</td>\n",
       "    </tr>\n",
       "    <tr>\n",
       "      <th>549</th>\n",
       "      <td>Bao'd Up - Modern Asian Eats - Riverside</td>\n",
       "      <td>0x8644b5e52ab936e5:0x318a6e77ecf6bf72</td>\n",
       "      <td>Asian fusion restaurant, Chinese takeaway, Fas...</td>\n",
       "      <td>4.4</td>\n",
       "      <td>25</td>\n",
       "      <td>Texas</td>\n",
       "      <td>TX</td>\n",
       "      <td>1</td>\n",
       "    </tr>\n",
       "    <tr>\n",
       "      <th>697</th>\n",
       "      <td>Abu Omar Halal - FM1960</td>\n",
       "      <td>0x8640b3dd87da1689:0x1b5223846638de4a</td>\n",
       "      <td>Fast food restaurant</td>\n",
       "      <td>3.5</td>\n",
       "      <td>8</td>\n",
       "      <td>Texas</td>\n",
       "      <td>TX</td>\n",
       "      <td>1</td>\n",
       "    </tr>\n",
       "    <tr>\n",
       "      <th>...</th>\n",
       "      <td>...</td>\n",
       "      <td>...</td>\n",
       "      <td>...</td>\n",
       "      <td>...</td>\n",
       "      <td>...</td>\n",
       "      <td>...</td>\n",
       "      <td>...</td>\n",
       "      <td>...</td>\n",
       "    </tr>\n",
       "    <tr>\n",
       "      <th>274629</th>\n",
       "      <td>red | seven by Wolfgang Puck</td>\n",
       "      <td>0x80c2beaf99380455:0x750e1dfa6d934fe3</td>\n",
       "      <td>American restaurant</td>\n",
       "      <td>3.9</td>\n",
       "      <td>8</td>\n",
       "      <td>California</td>\n",
       "      <td>CA</td>\n",
       "      <td>1</td>\n",
       "    </tr>\n",
       "    <tr>\n",
       "      <th>274689</th>\n",
       "      <td>El Taco Panchon</td>\n",
       "      <td>0x864751825f90eae5:0xb915ae4f7cb4d07b</td>\n",
       "      <td>Mexican restaurant, Restaurant</td>\n",
       "      <td>4.5</td>\n",
       "      <td>65</td>\n",
       "      <td>Texas</td>\n",
       "      <td>TX</td>\n",
       "      <td>1</td>\n",
       "    </tr>\n",
       "    <tr>\n",
       "      <th>274844</th>\n",
       "      <td>Taqueria el Mirador</td>\n",
       "      <td>0x864e7584be163aeb:0xa2f1a919bcfe4ab5</td>\n",
       "      <td>Mexican restaurant</td>\n",
       "      <td>3.8</td>\n",
       "      <td>27</td>\n",
       "      <td>Texas</td>\n",
       "      <td>TX</td>\n",
       "      <td>1</td>\n",
       "    </tr>\n",
       "    <tr>\n",
       "      <th>274992</th>\n",
       "      <td>Sandbox Bar &amp; Grill</td>\n",
       "      <td>0x8871d51b1d1c74f9:0x1989ce7a8ac83186</td>\n",
       "      <td>Restaurant</td>\n",
       "      <td>3.5</td>\n",
       "      <td>6</td>\n",
       "      <td>Indiana</td>\n",
       "      <td>IN</td>\n",
       "      <td>1</td>\n",
       "    </tr>\n",
       "    <tr>\n",
       "      <th>274993</th>\n",
       "      <td>Clark Street Brentwood</td>\n",
       "      <td>0x80c2bdfc9d6142c9:0x8bc02a95aa83683d</td>\n",
       "      <td>Bakery, Breakfast restaurant, Cafe, Coffee sho...</td>\n",
       "      <td>4.9</td>\n",
       "      <td>25</td>\n",
       "      <td>California</td>\n",
       "      <td>CA</td>\n",
       "      <td>0</td>\n",
       "    </tr>\n",
       "  </tbody>\n",
       "</table>\n",
       "<p>3040 rows × 8 columns</p>\n",
       "</div>"
      ],
      "text/plain": [
       "                                            name  \\\n",
       "533          Ethiopian and Eritrean Food Trailer   \n",
       "536                             Tacos La Sabroza   \n",
       "548                                  La Texanita   \n",
       "549     Bao'd Up - Modern Asian Eats - Riverside   \n",
       "697                      Abu Omar Halal - FM1960   \n",
       "...                                          ...   \n",
       "274629              red | seven by Wolfgang Puck   \n",
       "274689                           El Taco Panchon   \n",
       "274844                       Taqueria el Mirador   \n",
       "274992                       Sandbox Bar & Grill   \n",
       "274993                    Clark Street Brentwood   \n",
       "\n",
       "                                      gmap_id  \\\n",
       "533     0x8644b5d286dbcf3d:0xd73979857f7cf58e   \n",
       "536     0x8644b41c768b934b:0xc33046bfaa7e258a   \n",
       "548     0x8644d376b429ebfd:0x8a488c1891724ecc   \n",
       "549     0x8644b5e52ab936e5:0x318a6e77ecf6bf72   \n",
       "697     0x8640b3dd87da1689:0x1b5223846638de4a   \n",
       "...                                       ...   \n",
       "274629  0x80c2beaf99380455:0x750e1dfa6d934fe3   \n",
       "274689  0x864751825f90eae5:0xb915ae4f7cb4d07b   \n",
       "274844  0x864e7584be163aeb:0xa2f1a919bcfe4ab5   \n",
       "274992  0x8871d51b1d1c74f9:0x1989ce7a8ac83186   \n",
       "274993  0x80c2bdfc9d6142c9:0x8bc02a95aa83683d   \n",
       "\n",
       "                                                 category  avg_rating  \\\n",
       "533                                            Restaurant         4.9   \n",
       "536                                       Restaurant, ATM         4.2   \n",
       "548                                            Restaurant         4.8   \n",
       "549     Asian fusion restaurant, Chinese takeaway, Fas...         4.4   \n",
       "697                                  Fast food restaurant         3.5   \n",
       "...                                                   ...         ...   \n",
       "274629                                American restaurant         3.9   \n",
       "274689                     Mexican restaurant, Restaurant         4.5   \n",
       "274844                                 Mexican restaurant         3.8   \n",
       "274992                                         Restaurant         3.5   \n",
       "274993  Bakery, Breakfast restaurant, Cafe, Coffee sho...         4.9   \n",
       "\n",
       "        num_of_reviews        city state  Delivery  \n",
       "533                 33       Texas    TX         0  \n",
       "536                 26       Texas    TX         1  \n",
       "548                  8       Texas    TX         1  \n",
       "549                 25       Texas    TX         1  \n",
       "697                  8       Texas    TX         1  \n",
       "...                ...         ...   ...       ...  \n",
       "274629               8  California    CA         1  \n",
       "274689              65       Texas    TX         1  \n",
       "274844              27       Texas    TX         1  \n",
       "274992               6     Indiana    IN         1  \n",
       "274993              25  California    CA         0  \n",
       "\n",
       "[3040 rows x 8 columns]"
      ]
     },
     "execution_count": 255,
     "metadata": {},
     "output_type": "execute_result"
    }
   ],
   "source": [
    "df2 = df2[['name', 'gmap_id', 'category', 'avg_rating', 'num_of_reviews', 'city', 'state', 'Delivery']]\n",
    "df2"
   ]
  },
  {
   "cell_type": "markdown",
   "metadata": {},
   "source": [
    "# JSON 3"
   ]
  },
  {
   "cell_type": "code",
   "execution_count": 244,
   "metadata": {},
   "outputs": [],
   "source": [
    "json3=pd.read_json('E:/documentos/soyhenry/DATA SCIENCE/MODULOS/PROYECTO FINAL/datasets/google/metadata-sitios/3.json', lines=True)"
   ]
  },
  {
   "cell_type": "code",
   "execution_count": 245,
   "metadata": {},
   "outputs": [],
   "source": [
    "df3 = json3"
   ]
  },
  {
   "cell_type": "code",
   "execution_count": 256,
   "metadata": {},
   "outputs": [],
   "source": [
    "#eliminamos las columnas que no son relevantes [name, gmap_id, avg_rating, num_of_reviews, category, estado, localidad, Delivery]\n",
    "df3=df3.drop(columns=['hours', 'latitude', 'longitude', 'relative_results', 'url', 'description'], axis=1)"
   ]
  },
  {
   "cell_type": "code",
   "execution_count": 257,
   "metadata": {},
   "outputs": [],
   "source": [
    "#Agregamos la columna 'estado' donde van a estar alojados los códigos de los países\n",
    "estado_regex = r',\\s([A-Za-z]{2,})\\s(\\d{5})?$'\n",
    "df3['estado'] = df3['address'].str.extract(estado_regex, expand=True)[0]"
   ]
  },
  {
   "cell_type": "code",
   "execution_count": 258,
   "metadata": {},
   "outputs": [],
   "source": [
    "# Definir una lista con los códigos de estado que queremos mantener\n",
    "codigos_estado_deseados = ['TX', 'CA', 'IN', 'KY', 'IA', 'MS']\n",
    "\n",
    "# Filtrar la columna 'estado' para mantener solo los códigos de estado deseados\n",
    "df3= df3[df3['estado'].isin(codigos_estado_deseados)]"
   ]
  },
  {
   "cell_type": "code",
   "execution_count": 259,
   "metadata": {},
   "outputs": [],
   "source": [
    "# agregar la columna 'localidad' con el nombre de cada localidad que le corresonde a cada código de estado\n",
    "# Definir un diccionario con las asignaciones de estado a localidad\n",
    "diccionario_localidades = {\n",
    "    'TX': 'Texas',\n",
    "    'CA': 'California',\n",
    "    'IN': 'Indiana',\n",
    "    'KY': 'Kentucky',\n",
    "    'IA': 'Iowa',\n",
    "    'MS': 'Mississippi'\n",
    "}\n",
    "\n",
    "# Agregar la nueva columna 'localidad' al DataFrame df1 utilizando el diccionario de asignaciones\n",
    "df3['localidad'] = df3['estado'].map(diccionario_localidades)"
   ]
  },
  {
   "cell_type": "code",
   "execution_count": 260,
   "metadata": {},
   "outputs": [],
   "source": [
    "# Eliminar la columna 'state' del DataFrame df1\n",
    "df3.drop(columns='state', inplace=True)\n",
    "# Renombrar las columnas 'estado' a 'state' y 'localidad' a 'city'\n",
    "df3.rename(columns={'estado': 'state', 'localidad': 'city'}, inplace=True)"
   ]
  },
  {
   "cell_type": "code",
   "execution_count": 261,
   "metadata": {},
   "outputs": [],
   "source": [
    "df3.dropna(subset=['category'], inplace=True)"
   ]
  },
  {
   "cell_type": "code",
   "execution_count": 262,
   "metadata": {},
   "outputs": [],
   "source": [
    "# Convertir la columna 'category' de lista de strings a cadena de string\n",
    "df3['category'] = df3['category'].apply(lambda x: ', '.join(x))"
   ]
  },
  {
   "cell_type": "code",
   "execution_count": 263,
   "metadata": {},
   "outputs": [],
   "source": [
    "# Definir las palabras clave a buscar\n",
    "palabras_clave = [\"Restaurants\", \"restaurants\", \"Restaurant\", \"restaurant\"]\n",
    "\n",
    "# Filtrar el DataFrame para mostrar solo las filas donde la columna 'category' contiene las palabras clave\n",
    "condiciones = df3['category'].apply(lambda x: any(palabra in x for palabra in palabras_clave))\n",
    "\n",
    "# Aplicar el filtro al DataFrame\n",
    "df3 = df3[condiciones]\n",
    "\n",
    "# Función para obtener los \"Service options\"\n",
    "def get_service_options(dic):\n",
    "    if isinstance(dic, dict) and \"Service options\" in dic:\n",
    "        return dic[\"Service options\"]\n",
    "    else:\n",
    "        return []\n",
    "\n",
    "# Crear la columna 'Service options' y aplicar la función\n",
    "df3[\"Service options\"] = df3[\"MISC\"].apply(lambda x: get_service_options(x))\n",
    "\n",
    "# Crear la columna 'Delivery' y aplicar la función lambda\n",
    "df3['Delivery'] = df3['Service options'].apply(lambda x: 1 if 'Delivery' in x else 0)"
   ]
  },
  {
   "cell_type": "code",
   "execution_count": 264,
   "metadata": {},
   "outputs": [
    {
     "data": {
      "text/html": [
       "<div>\n",
       "<style scoped>\n",
       "    .dataframe tbody tr th:only-of-type {\n",
       "        vertical-align: middle;\n",
       "    }\n",
       "\n",
       "    .dataframe tbody tr th {\n",
       "        vertical-align: top;\n",
       "    }\n",
       "\n",
       "    .dataframe thead th {\n",
       "        text-align: right;\n",
       "    }\n",
       "</style>\n",
       "<table border=\"1\" class=\"dataframe\">\n",
       "  <thead>\n",
       "    <tr style=\"text-align: right;\">\n",
       "      <th></th>\n",
       "      <th>name</th>\n",
       "      <th>gmap_id</th>\n",
       "      <th>category</th>\n",
       "      <th>avg_rating</th>\n",
       "      <th>num_of_reviews</th>\n",
       "      <th>city</th>\n",
       "      <th>state</th>\n",
       "      <th>Delivery</th>\n",
       "    </tr>\n",
       "  </thead>\n",
       "  <tbody>\n",
       "    <tr>\n",
       "      <th>62</th>\n",
       "      <td>Cocina de Mama</td>\n",
       "      <td>0x864e9c1e3254107f:0xe88e17651e4b3bf9</td>\n",
       "      <td>Mexican restaurant, Latin American restaurant</td>\n",
       "      <td>4.7</td>\n",
       "      <td>35</td>\n",
       "      <td>Texas</td>\n",
       "      <td>TX</td>\n",
       "      <td>1</td>\n",
       "    </tr>\n",
       "    <tr>\n",
       "      <th>343</th>\n",
       "      <td>Red Tulip Rolling Bistro</td>\n",
       "      <td>0x86383deb643a56fd:0x5a0e83a31c83663b</td>\n",
       "      <td>Restaurant</td>\n",
       "      <td>5.0</td>\n",
       "      <td>8</td>\n",
       "      <td>Texas</td>\n",
       "      <td>TX</td>\n",
       "      <td>1</td>\n",
       "    </tr>\n",
       "    <tr>\n",
       "      <th>347</th>\n",
       "      <td>Shell</td>\n",
       "      <td>0x8647a1e7f35ba85d:0x203eec046a7d7365</td>\n",
       "      <td>Gas station, ATM, Convenience store, Restaurant</td>\n",
       "      <td>3.8</td>\n",
       "      <td>18</td>\n",
       "      <td>Texas</td>\n",
       "      <td>TX</td>\n",
       "      <td>0</td>\n",
       "    </tr>\n",
       "    <tr>\n",
       "      <th>358</th>\n",
       "      <td>Baja California Tacos - Broxton</td>\n",
       "      <td>0x80c2bd16e61206a1:0xfb13d068c2ef35b2</td>\n",
       "      <td>Restaurant</td>\n",
       "      <td>3.5</td>\n",
       "      <td>18</td>\n",
       "      <td>California</td>\n",
       "      <td>CA</td>\n",
       "      <td>1</td>\n",
       "    </tr>\n",
       "    <tr>\n",
       "      <th>406</th>\n",
       "      <td>Costco Food Court</td>\n",
       "      <td>0x80d760adc205b5a3:0x3b3898c447d9f437</td>\n",
       "      <td>Takeout Restaurant</td>\n",
       "      <td>4.3</td>\n",
       "      <td>18</td>\n",
       "      <td>California</td>\n",
       "      <td>CA</td>\n",
       "      <td>0</td>\n",
       "    </tr>\n",
       "    <tr>\n",
       "      <th>...</th>\n",
       "      <td>...</td>\n",
       "      <td>...</td>\n",
       "      <td>...</td>\n",
       "      <td>...</td>\n",
       "      <td>...</td>\n",
       "      <td>...</td>\n",
       "      <td>...</td>\n",
       "      <td>...</td>\n",
       "    </tr>\n",
       "    <tr>\n",
       "      <th>274680</th>\n",
       "      <td>The Cuban Way</td>\n",
       "      <td>0x864c175157d88c6d:0x7f852ad2e7673464</td>\n",
       "      <td>Cuban restaurant, Coffee shop, Sandwich shop</td>\n",
       "      <td>4.1</td>\n",
       "      <td>34</td>\n",
       "      <td>Texas</td>\n",
       "      <td>TX</td>\n",
       "      <td>1</td>\n",
       "    </tr>\n",
       "    <tr>\n",
       "      <th>274875</th>\n",
       "      <td>Persis</td>\n",
       "      <td>0x808fec05a2d956b7:0x8de09b737825b8d4</td>\n",
       "      <td>Indian restaurant</td>\n",
       "      <td>1.5</td>\n",
       "      <td>4</td>\n",
       "      <td>California</td>\n",
       "      <td>CA</td>\n",
       "      <td>1</td>\n",
       "    </tr>\n",
       "    <tr>\n",
       "      <th>274940</th>\n",
       "      <td>Frannie Express</td>\n",
       "      <td>0x808f93f61d997ebb:0x4a532d3df7394384</td>\n",
       "      <td>Chinese restaurant</td>\n",
       "      <td>3.8</td>\n",
       "      <td>88</td>\n",
       "      <td>California</td>\n",
       "      <td>CA</td>\n",
       "      <td>1</td>\n",
       "    </tr>\n",
       "    <tr>\n",
       "      <th>274949</th>\n",
       "      <td>F&amp;F Japanese Grill</td>\n",
       "      <td>0x86468578955ddeef:0x9e3d190cfa89a2e3</td>\n",
       "      <td>Japanese restaurant</td>\n",
       "      <td>4.7</td>\n",
       "      <td>44</td>\n",
       "      <td>Texas</td>\n",
       "      <td>TX</td>\n",
       "      <td>1</td>\n",
       "    </tr>\n",
       "    <tr>\n",
       "      <th>274960</th>\n",
       "      <td>Slice of Hollywood</td>\n",
       "      <td>0x808f8741ec8fe459:0x4031ee7f4c0e8862</td>\n",
       "      <td>Pizza delivery, Chicken wings restaurant, Deli...</td>\n",
       "      <td>1.8</td>\n",
       "      <td>5</td>\n",
       "      <td>California</td>\n",
       "      <td>CA</td>\n",
       "      <td>1</td>\n",
       "    </tr>\n",
       "  </tbody>\n",
       "</table>\n",
       "<p>3177 rows × 8 columns</p>\n",
       "</div>"
      ],
      "text/plain": [
       "                                   name  \\\n",
       "62                       Cocina de Mama   \n",
       "343            Red Tulip Rolling Bistro   \n",
       "347                               Shell   \n",
       "358     Baja California Tacos - Broxton   \n",
       "406                   Costco Food Court   \n",
       "...                                 ...   \n",
       "274680                    The Cuban Way   \n",
       "274875                           Persis   \n",
       "274940                  Frannie Express   \n",
       "274949               F&F Japanese Grill   \n",
       "274960               Slice of Hollywood   \n",
       "\n",
       "                                      gmap_id  \\\n",
       "62      0x864e9c1e3254107f:0xe88e17651e4b3bf9   \n",
       "343     0x86383deb643a56fd:0x5a0e83a31c83663b   \n",
       "347     0x8647a1e7f35ba85d:0x203eec046a7d7365   \n",
       "358     0x80c2bd16e61206a1:0xfb13d068c2ef35b2   \n",
       "406     0x80d760adc205b5a3:0x3b3898c447d9f437   \n",
       "...                                       ...   \n",
       "274680  0x864c175157d88c6d:0x7f852ad2e7673464   \n",
       "274875  0x808fec05a2d956b7:0x8de09b737825b8d4   \n",
       "274940  0x808f93f61d997ebb:0x4a532d3df7394384   \n",
       "274949  0x86468578955ddeef:0x9e3d190cfa89a2e3   \n",
       "274960  0x808f8741ec8fe459:0x4031ee7f4c0e8862   \n",
       "\n",
       "                                                 category  avg_rating  \\\n",
       "62          Mexican restaurant, Latin American restaurant         4.7   \n",
       "343                                            Restaurant         5.0   \n",
       "347       Gas station, ATM, Convenience store, Restaurant         3.8   \n",
       "358                                            Restaurant         3.5   \n",
       "406                                    Takeout Restaurant         4.3   \n",
       "...                                                   ...         ...   \n",
       "274680       Cuban restaurant, Coffee shop, Sandwich shop         4.1   \n",
       "274875                                  Indian restaurant         1.5   \n",
       "274940                                 Chinese restaurant         3.8   \n",
       "274949                                Japanese restaurant         4.7   \n",
       "274960  Pizza delivery, Chicken wings restaurant, Deli...         1.8   \n",
       "\n",
       "        num_of_reviews        city state  Delivery  \n",
       "62                  35       Texas    TX         1  \n",
       "343                  8       Texas    TX         1  \n",
       "347                 18       Texas    TX         0  \n",
       "358                 18  California    CA         1  \n",
       "406                 18  California    CA         0  \n",
       "...                ...         ...   ...       ...  \n",
       "274680              34       Texas    TX         1  \n",
       "274875               4  California    CA         1  \n",
       "274940              88  California    CA         1  \n",
       "274949              44       Texas    TX         1  \n",
       "274960               5  California    CA         1  \n",
       "\n",
       "[3177 rows x 8 columns]"
      ]
     },
     "execution_count": 264,
     "metadata": {},
     "output_type": "execute_result"
    }
   ],
   "source": [
    "df3 = df3[['name', 'gmap_id', 'category', 'avg_rating', 'num_of_reviews', 'city', 'state', 'Delivery']]\n",
    "df3"
   ]
  },
  {
   "cell_type": "markdown",
   "metadata": {},
   "source": [
    "# JSON 4"
   ]
  },
  {
   "cell_type": "code",
   "execution_count": 266,
   "metadata": {},
   "outputs": [],
   "source": [
    "json4=pd.read_json('E:/documentos/soyhenry/DATA SCIENCE/MODULOS/PROYECTO FINAL/datasets/google/metadata-sitios/4.json', lines=True)"
   ]
  },
  {
   "cell_type": "code",
   "execution_count": 267,
   "metadata": {},
   "outputs": [],
   "source": [
    "df4=json4"
   ]
  },
  {
   "cell_type": "code",
   "execution_count": null,
   "metadata": {},
   "outputs": [],
   "source": [
    "#eliminamos las columnas que no son relevantes [name, gmap_id, avg_rating, num_of_reviews, category, estado, localidad, Delivery]\n",
    "df4=df4.drop(columns=['hours', 'latitude', 'longitude', 'relative_results', 'url', 'description'], axis=1)"
   ]
  },
  {
   "cell_type": "code",
   "execution_count": 270,
   "metadata": {},
   "outputs": [],
   "source": [
    "#Agregamos la columna 'estado' donde van a estar alojados los códigos de los países\n",
    "estado_regex = r',\\s([A-Za-z]{2,})\\s(\\d{5})?$'\n",
    "df4['estado'] = df4['address'].str.extract(estado_regex, expand=True)[0]"
   ]
  },
  {
   "cell_type": "code",
   "execution_count": 271,
   "metadata": {},
   "outputs": [],
   "source": [
    "# Definir una lista con los códigos de estado que queremos mantener\n",
    "codigos_estado_deseados = ['TX', 'CA', 'IN', 'KY', 'IA', 'MS']\n",
    "\n",
    "# Filtrar la columna 'estado' para mantener solo los códigos de estado deseados\n",
    "df4= df4[df4['estado'].isin(codigos_estado_deseados)]"
   ]
  },
  {
   "cell_type": "code",
   "execution_count": 272,
   "metadata": {},
   "outputs": [
    {
     "name": "stderr",
     "output_type": "stream",
     "text": [
      "C:\\Users\\agust_5hrd3hq\\AppData\\Local\\Temp\\ipykernel_3124\\2554575544.py:13: SettingWithCopyWarning: \n",
      "A value is trying to be set on a copy of a slice from a DataFrame.\n",
      "Try using .loc[row_indexer,col_indexer] = value instead\n",
      "\n",
      "See the caveats in the documentation: https://pandas.pydata.org/pandas-docs/stable/user_guide/indexing.html#returning-a-view-versus-a-copy\n",
      "  df4['localidad'] = df4['estado'].map(diccionario_localidades)\n"
     ]
    }
   ],
   "source": [
    "# agregar la columna 'localidad' con el nombre de cada localidad que le corresonde a cada código de estado\n",
    "# Definir un diccionario con las asignaciones de estado a localidad\n",
    "diccionario_localidades = {\n",
    "    'TX': 'Texas',\n",
    "    'CA': 'California',\n",
    "    'IN': 'Indiana',\n",
    "    'KY': 'Kentucky',\n",
    "    'IA': 'Iowa',\n",
    "    'MS': 'Mississippi'\n",
    "}\n",
    "\n",
    "# Agregar la nueva columna 'localidad' al DataFrame df1 utilizando el diccionario de asignaciones\n",
    "df4['localidad'] = df4['estado'].map(diccionario_localidades)"
   ]
  },
  {
   "cell_type": "code",
   "execution_count": 273,
   "metadata": {},
   "outputs": [
    {
     "name": "stderr",
     "output_type": "stream",
     "text": [
      "C:\\Users\\agust_5hrd3hq\\AppData\\Local\\Temp\\ipykernel_3124\\2105036780.py:2: SettingWithCopyWarning: \n",
      "A value is trying to be set on a copy of a slice from a DataFrame\n",
      "\n",
      "See the caveats in the documentation: https://pandas.pydata.org/pandas-docs/stable/user_guide/indexing.html#returning-a-view-versus-a-copy\n",
      "  df4.drop(columns='state', inplace=True)\n",
      "C:\\Users\\agust_5hrd3hq\\AppData\\Local\\Temp\\ipykernel_3124\\2105036780.py:4: SettingWithCopyWarning: \n",
      "A value is trying to be set on a copy of a slice from a DataFrame\n",
      "\n",
      "See the caveats in the documentation: https://pandas.pydata.org/pandas-docs/stable/user_guide/indexing.html#returning-a-view-versus-a-copy\n",
      "  df4.rename(columns={'estado': 'state', 'localidad': 'city'}, inplace=True)\n"
     ]
    }
   ],
   "source": [
    "# Eliminar la columna 'state' del DataFrame df1\n",
    "df4.drop(columns='state', inplace=True)\n",
    "# Renombrar las columnas 'estado' a 'state' y 'localidad' a 'city'\n",
    "df4.rename(columns={'estado': 'state', 'localidad': 'city'}, inplace=True)"
   ]
  },
  {
   "cell_type": "code",
   "execution_count": 274,
   "metadata": {},
   "outputs": [
    {
     "name": "stderr",
     "output_type": "stream",
     "text": [
      "C:\\Users\\agust_5hrd3hq\\AppData\\Local\\Temp\\ipykernel_3124\\441348790.py:1: SettingWithCopyWarning: \n",
      "A value is trying to be set on a copy of a slice from a DataFrame\n",
      "\n",
      "See the caveats in the documentation: https://pandas.pydata.org/pandas-docs/stable/user_guide/indexing.html#returning-a-view-versus-a-copy\n",
      "  df4.dropna(subset=['category'], inplace=True)\n"
     ]
    }
   ],
   "source": [
    "df4.dropna(subset=['category'], inplace=True)"
   ]
  },
  {
   "cell_type": "code",
   "execution_count": 275,
   "metadata": {},
   "outputs": [
    {
     "name": "stderr",
     "output_type": "stream",
     "text": [
      "C:\\Users\\agust_5hrd3hq\\AppData\\Local\\Temp\\ipykernel_3124\\1900177361.py:2: SettingWithCopyWarning: \n",
      "A value is trying to be set on a copy of a slice from a DataFrame.\n",
      "Try using .loc[row_indexer,col_indexer] = value instead\n",
      "\n",
      "See the caveats in the documentation: https://pandas.pydata.org/pandas-docs/stable/user_guide/indexing.html#returning-a-view-versus-a-copy\n",
      "  df4['category'] = df4['category'].apply(lambda x: ', '.join(x))\n"
     ]
    }
   ],
   "source": [
    "# Convertir la columna 'category' de lista de strings a cadena de string\n",
    "df4['category'] = df4['category'].apply(lambda x: ', '.join(x))"
   ]
  },
  {
   "cell_type": "code",
   "execution_count": 276,
   "metadata": {},
   "outputs": [],
   "source": [
    "# Definir las palabras clave a buscar\n",
    "palabras_clave = [\"Restaurants\", \"restaurants\", \"Restaurant\", \"restaurant\"]\n",
    "\n",
    "# Filtrar el DataFrame para mostrar solo las filas donde la columna 'category' contiene las palabras clave\n",
    "condiciones = df4['category'].apply(lambda x: any(palabra in x for palabra in palabras_clave))\n",
    "\n",
    "# Aplicar el filtro al DataFrame\n",
    "df4 = df4[condiciones]\n",
    "\n",
    "# Función para obtener los \"Service options\"\n",
    "def get_service_options(dic):\n",
    "    if isinstance(dic, dict) and \"Service options\" in dic:\n",
    "        return dic[\"Service options\"]\n",
    "    else:\n",
    "        return []\n",
    "\n",
    "# Crear la columna 'Service options' y aplicar la función\n",
    "df4[\"Service options\"] = df4[\"MISC\"].apply(lambda x: get_service_options(x))\n",
    "\n",
    "# Crear la columna 'Delivery' y aplicar la función lambda\n",
    "df4['Delivery'] = df4['Service options'].apply(lambda x: 1 if 'Delivery' in x else 0)"
   ]
  },
  {
   "cell_type": "code",
   "execution_count": 277,
   "metadata": {},
   "outputs": [],
   "source": [
    "df4 = df4[['name', 'gmap_id', 'category', 'avg_rating', 'num_of_reviews', 'city', 'state', 'Delivery']]\n"
   ]
  },
  {
   "cell_type": "code",
   "execution_count": 279,
   "metadata": {},
   "outputs": [
    {
     "data": {
      "text/plain": [
       "(3627, 8)"
      ]
     },
     "execution_count": 279,
     "metadata": {},
     "output_type": "execute_result"
    }
   ],
   "source": [
    "df4.shape"
   ]
  },
  {
   "cell_type": "markdown",
   "metadata": {},
   "source": [
    "# JSON 5"
   ]
  },
  {
   "cell_type": "code",
   "execution_count": 282,
   "metadata": {},
   "outputs": [],
   "source": [
    "json5=pd.read_json('E:/documentos/soyhenry/DATA SCIENCE/MODULOS/PROYECTO FINAL/datasets/google/metadata-sitios/5.json', lines=True)"
   ]
  },
  {
   "cell_type": "code",
   "execution_count": 283,
   "metadata": {},
   "outputs": [],
   "source": [
    "df5=json5"
   ]
  },
  {
   "cell_type": "code",
   "execution_count": 284,
   "metadata": {},
   "outputs": [],
   "source": [
    "#eliminamos las columnas que no son relevantes [name, gmap_id, avg_rating, num_of_reviews, category, estado, localidad, Delivery]\n",
    "df5=df5.drop(columns=['hours', 'latitude', 'longitude', 'relative_results', 'url', 'description'], axis=1)"
   ]
  },
  {
   "cell_type": "code",
   "execution_count": 285,
   "metadata": {},
   "outputs": [],
   "source": [
    "#Agregamos la columna 'estado' donde van a estar alojados los códigos de los países\n",
    "estado_regex = r',\\s([A-Za-z]{2,})\\s(\\d{5})?$'\n",
    "df5['estado'] = df5['address'].str.extract(estado_regex, expand=True)[0]"
   ]
  },
  {
   "cell_type": "code",
   "execution_count": 286,
   "metadata": {},
   "outputs": [],
   "source": [
    "# Definir una lista con los códigos de estado que queremos mantener\n",
    "codigos_estado_deseados = ['TX', 'CA', 'IN', 'KY', 'IA', 'MS']\n",
    "\n",
    "# Filtrar la columna 'estado' para mantener solo los códigos de estado deseados\n",
    "df5= df5[df5['estado'].isin(codigos_estado_deseados)]"
   ]
  },
  {
   "cell_type": "code",
   "execution_count": 287,
   "metadata": {},
   "outputs": [],
   "source": [
    "# agregar la columna 'localidad' con el nombre de cada localidad que le corresonde a cada código de estado\n",
    "# Definir un diccionario con las asignaciones de estado a localidad\n",
    "diccionario_localidades = {\n",
    "    'TX': 'Texas',\n",
    "    'CA': 'California',\n",
    "    'IN': 'Indiana',\n",
    "    'KY': 'Kentucky',\n",
    "    'IA': 'Iowa',\n",
    "    'MS': 'Mississippi'\n",
    "}\n",
    "\n",
    "# Agregar la nueva columna 'localidad' al DataFrame df1 utilizando el diccionario de asignaciones\n",
    "df5['localidad'] = df5['estado'].map(diccionario_localidades)"
   ]
  },
  {
   "cell_type": "code",
   "execution_count": 288,
   "metadata": {},
   "outputs": [],
   "source": [
    "# Eliminar la columna 'state' del DataFrame df1\n",
    "df5.drop(columns='state', inplace=True)\n",
    "# Renombrar las columnas 'estado' a 'state' y 'localidad' a 'city'\n",
    "df5.rename(columns={'estado': 'state', 'localidad': 'city'}, inplace=True)"
   ]
  },
  {
   "cell_type": "code",
   "execution_count": 289,
   "metadata": {},
   "outputs": [],
   "source": [
    "df5.dropna(subset=['category'], inplace=True)"
   ]
  },
  {
   "cell_type": "code",
   "execution_count": 290,
   "metadata": {},
   "outputs": [],
   "source": [
    "# Convertir la columna 'category' de lista de strings a cadena de string\n",
    "df5['category'] = df5['category'].apply(lambda x: ', '.join(x))"
   ]
  },
  {
   "cell_type": "code",
   "execution_count": 291,
   "metadata": {},
   "outputs": [],
   "source": [
    "# Definir las palabras clave a buscar\n",
    "palabras_clave = [\"Restaurants\", \"restaurants\", \"Restaurant\", \"restaurant\"]\n",
    "\n",
    "# Filtrar el DataFrame para mostrar solo las filas donde la columna 'category' contiene las palabras clave\n",
    "condiciones = df5['category'].apply(lambda x: any(palabra in x for palabra in palabras_clave))\n",
    "\n",
    "# Aplicar el filtro al DataFrame\n",
    "df5 = df5[condiciones]\n",
    "\n",
    "# Función para obtener los \"Service options\"\n",
    "def get_service_options(dic):\n",
    "    if isinstance(dic, dict) and \"Service options\" in dic:\n",
    "        return dic[\"Service options\"]\n",
    "    else:\n",
    "        return []\n",
    "\n",
    "# Crear la columna 'Service options' y aplicar la función\n",
    "df5[\"Service options\"] = df5[\"MISC\"].apply(lambda x: get_service_options(x))\n",
    "\n",
    "# Crear la columna 'Delivery' y aplicar la función lambda\n",
    "df5['Delivery'] = df5['Service options'].apply(lambda x: 1 if 'Delivery' in x else 0)"
   ]
  },
  {
   "cell_type": "code",
   "execution_count": 292,
   "metadata": {},
   "outputs": [],
   "source": [
    "df5 = df5[['name', 'gmap_id', 'category', 'avg_rating', 'num_of_reviews', 'city', 'state', 'Delivery']]\n"
   ]
  },
  {
   "cell_type": "markdown",
   "metadata": {},
   "source": [
    "# JSON 6"
   ]
  },
  {
   "cell_type": "code",
   "execution_count": null,
   "metadata": {},
   "outputs": [],
   "source": [
    "json6=pd.read_json('E:/documentos/soyhenry/DATA SCIENCE/MODULOS/PROYECTO FINAL/datasets/google/metadata-sitios/6.json', lines=True)"
   ]
  },
  {
   "cell_type": "code",
   "execution_count": null,
   "metadata": {},
   "outputs": [],
   "source": [
    "df6=json6"
   ]
  },
  {
   "cell_type": "code",
   "execution_count": null,
   "metadata": {},
   "outputs": [],
   "source": [
    "#eliminamos las columnas que no son relevantes [name, gmap_id, avg_rating, num_of_reviews, category, estado, localidad, Delivery]\n",
    "df6=df6.drop(columns=['hours', 'latitude', 'longitude', 'relative_results', 'url', 'description'], axis=1)"
   ]
  },
  {
   "cell_type": "code",
   "execution_count": null,
   "metadata": {},
   "outputs": [],
   "source": [
    "#Agregamos la columna 'estado' donde van a estar alojados los códigos de los países\n",
    "estado_regex = r',\\s([A-Za-z]{2,})\\s(\\d{5})?$'\n",
    "df6['estado'] = df6['address'].str.extract(estado_regex, expand=True)[0]"
   ]
  },
  {
   "cell_type": "code",
   "execution_count": null,
   "metadata": {},
   "outputs": [],
   "source": [
    "# Definir una lista con los códigos de estado que queremos mantener\n",
    "codigos_estado_deseados = ['TX', 'CA', 'IN', 'KY', 'IA', 'MS']\n",
    "\n",
    "# Filtrar la columna 'estado' para mantener solo los códigos de estado deseados\n",
    "df6= df6[df6['estado'].isin(codigos_estado_deseados)]"
   ]
  },
  {
   "cell_type": "code",
   "execution_count": null,
   "metadata": {},
   "outputs": [],
   "source": [
    "# agregar la columna 'localidad' con el nombre de cada localidad que le corresonde a cada código de estado\n",
    "# Definir un diccionario con las asignaciones de estado a localidad\n",
    "diccionario_localidades = {\n",
    "    'TX': 'Texas',\n",
    "    'CA': 'California',\n",
    "    'IN': 'Indiana',\n",
    "    'KY': 'Kentucky',\n",
    "    'IA': 'Iowa',\n",
    "    'MS': 'Mississippi'\n",
    "}\n",
    "\n",
    "# Agregar la nueva columna 'localidad' al DataFrame df1 utilizando el diccionario de asignaciones\n",
    "df6['localidad'] = df6['estado'].map(diccionario_localidades)"
   ]
  },
  {
   "cell_type": "code",
   "execution_count": null,
   "metadata": {},
   "outputs": [],
   "source": [
    "# Eliminar la columna 'state' del DataFrame df1\n",
    "df6.drop(columns='state', inplace=True)\n",
    "# Renombrar las columnas 'estado' a 'state' y 'localidad' a 'city'\n",
    "df6.rename(columns={'estado': 'state', 'localidad': 'city'}, inplace=True)"
   ]
  },
  {
   "cell_type": "code",
   "execution_count": null,
   "metadata": {},
   "outputs": [],
   "source": [
    "df6.dropna(subset=['category'], inplace=True)"
   ]
  },
  {
   "cell_type": "code",
   "execution_count": null,
   "metadata": {},
   "outputs": [],
   "source": [
    "# Convertir la columna 'category' de lista de strings a cadena de string\n",
    "df6['category'] = df6['category'].apply(lambda x: ', '.join(x))"
   ]
  },
  {
   "cell_type": "code",
   "execution_count": null,
   "metadata": {},
   "outputs": [],
   "source": [
    "# Definir las palabras clave a buscar\n",
    "palabras_clave = [\"Restaurants\", \"restaurants\", \"Restaurant\", \"restaurant\"]\n",
    "\n",
    "# Filtrar el DataFrame para mostrar solo las filas donde la columna 'category' contiene las palabras clave\n",
    "condiciones = df6['category'].apply(lambda x: any(palabra in x for palabra in palabras_clave))\n",
    "\n",
    "# Aplicar el filtro al DataFrame\n",
    "df6 = df6[condiciones]\n",
    "\n",
    "# Función para obtener los \"Service options\"\n",
    "def get_service_options(dic):\n",
    "    if isinstance(dic, dict) and \"Service options\" in dic:\n",
    "        return dic[\"Service options\"]\n",
    "    else:\n",
    "        return []\n",
    "\n",
    "# Crear la columna 'Service options' y aplicar la función\n",
    "df6[\"Service options\"] = df6[\"MISC\"].apply(lambda x: get_service_options(x))\n",
    "\n",
    "# Crear la columna 'Delivery' y aplicar la función lambda\n",
    "df6['Delivery'] = df6['Service options'].apply(lambda x: 1 if 'Delivery' in x else 0)"
   ]
  },
  {
   "cell_type": "code",
   "execution_count": null,
   "metadata": {},
   "outputs": [],
   "source": [
    "df6 = df6[['name', 'gmap_id', 'category', 'avg_rating', 'num_of_reviews', 'city', 'state', 'Delivery']]\n"
   ]
  },
  {
   "cell_type": "code",
   "execution_count": 265,
   "metadata": {},
   "outputs": [],
   "source": [
    "df1.to_parquet('1.parquet', index= False)\n",
    "df2.to_parquet('2.parquet', index= False)\n",
    "df3.to_parquet('3.parquet', index= False)"
   ]
  },
  {
   "cell_type": "code",
   "execution_count": 280,
   "metadata": {},
   "outputs": [],
   "source": [
    "df4.to_parquet('4.parquet', index=False)"
   ]
  },
  {
   "cell_type": "markdown",
   "metadata": {},
   "source": [
    "# Concatenar"
   ]
  },
  {
   "cell_type": "code",
   "execution_count": 317,
   "metadata": {},
   "outputs": [],
   "source": [
    "# Lista con los dataframes\n",
    "dataframes = [df1, df2, df3, df4, df5]\n",
    "\n",
    "# Concatenar los dataframes uno debajo del otro\n",
    "primera_parte_gmap = pd.concat(dataframes)"
   ]
  },
  {
   "cell_type": "code",
   "execution_count": 322,
   "metadata": {},
   "outputs": [],
   "source": [
    "primera_parte_gmap.drop_duplicates(subset=['gmap_id'], keep='first', inplace=True)\n"
   ]
  },
  {
   "cell_type": "code",
   "execution_count": 324,
   "metadata": {},
   "outputs": [],
   "source": [
    "primera_parte_gmap.to_parquet('parte_1.parquet', index= False)"
   ]
  },
  {
   "cell_type": "code",
   "execution_count": 1,
   "metadata": {},
   "outputs": [
    {
     "ename": "NameError",
     "evalue": "name 'primera_parte_gmap' is not defined",
     "output_type": "error",
     "traceback": [
      "\u001b[1;31m---------------------------------------------------------------------------\u001b[0m",
      "\u001b[1;31mNameError\u001b[0m                                 Traceback (most recent call last)",
      "Cell \u001b[1;32mIn[1], line 1\u001b[0m\n\u001b[1;32m----> 1\u001b[0m primera_parte_gmap\n",
      "\u001b[1;31mNameError\u001b[0m: name 'primera_parte_gmap' is not defined"
     ]
    }
   ],
   "source": []
  },
  {
   "cell_type": "markdown",
   "metadata": {},
   "source": [
    "# metadata"
   ]
  },
  {
   "cell_type": "code",
   "execution_count": 3,
   "metadata": {},
   "outputs": [
    {
     "ename": "",
     "evalue": "",
     "output_type": "error",
     "traceback": [
      "\u001b[1;31mCannot execute code, session has been disposed. Please try restarting the Kernel."
     ]
    },
    {
     "ename": "",
     "evalue": "",
     "output_type": "error",
     "traceback": [
      "\u001b[1;31mThe Kernel crashed while executing code in the the current cell or a previous cell. Please review the code in the cell(s) to identify a possible cause of the failure. Click <a href='https://aka.ms/vscodeJupyterKernelCrash'>here</a> for more info. View Jupyter <a href='command:jupyter.viewOutput'>log</a> for further details."
     ]
    }
   ],
   "source": [
    "import pandas as pd\n",
    "primera = pd.read_parquet('parte_1.parquet')"
   ]
  },
  {
   "cell_type": "code",
   "execution_count": null,
   "metadata": {},
   "outputs": [],
   "source": [
    "import pandas as pd"
   ]
  },
  {
   "cell_type": "code",
   "execution_count": null,
   "metadata": {},
   "outputs": [],
   "source": [
    "google_mp=pd.read_parquet('df_google_metadata.parquet')\n"
   ]
  }
 ],
 "metadata": {
  "kernelspec": {
   "display_name": "Python 3",
   "language": "python",
   "name": "python3"
  },
  "language_info": {
   "codemirror_mode": {
    "name": "ipython",
    "version": 3
   },
   "file_extension": ".py",
   "mimetype": "text/x-python",
   "name": "python",
   "nbconvert_exporter": "python",
   "pygments_lexer": "ipython3",
   "version": "3.11.1"
  },
  "orig_nbformat": 4
 },
 "nbformat": 4,
 "nbformat_minor": 2
}
